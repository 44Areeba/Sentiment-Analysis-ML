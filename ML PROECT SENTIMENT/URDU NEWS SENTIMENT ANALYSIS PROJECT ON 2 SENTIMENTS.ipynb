{
 "cells": [
  {
   "cell_type": "code",
   "execution_count": 1,
   "id": "2aa862af",
   "metadata": {},
   "outputs": [],
   "source": [
    "import numpy as np\n",
    "import pandas as pd\n",
    "import nltk\n",
    "import matplotlib .pyplot as plt\n",
    "import re\n",
    "import warnings\n",
    "warnings.filterwarnings(\"ignore\")"
   ]
  },
  {
   "cell_type": "code",
   "execution_count": 2,
   "id": "20251b60",
   "metadata": {},
   "outputs": [
    {
     "data": {
      "text/html": [
       "<div>\n",
       "<style scoped>\n",
       "    .dataframe tbody tr th:only-of-type {\n",
       "        vertical-align: middle;\n",
       "    }\n",
       "\n",
       "    .dataframe tbody tr th {\n",
       "        vertical-align: top;\n",
       "    }\n",
       "\n",
       "    .dataframe thead th {\n",
       "        text-align: right;\n",
       "    }\n",
       "</style>\n",
       "<table border=\"1\" class=\"dataframe\">\n",
       "  <thead>\n",
       "    <tr style=\"text-align: right;\">\n",
       "      <th></th>\n",
       "      <th>CLASS</th>\n",
       "      <th>SENTENCES</th>\n",
       "      <th>SNO</th>\n",
       "    </tr>\n",
       "  </thead>\n",
       "  <tbody>\n",
       "    <tr>\n",
       "      <th>0</th>\n",
       "      <td>P</td>\n",
       "      <td>میں نے ایٹم بم بنایا ھے ۔۔۔۔او بھائی ایٹم بمب ...</td>\n",
       "      <td>1</td>\n",
       "    </tr>\n",
       "    <tr>\n",
       "      <th>1</th>\n",
       "      <td>N</td>\n",
       "      <td>چندے سے انقلاب اور عمران خان وزیر اعظم نہیں بن...</td>\n",
       "      <td>2</td>\n",
       "    </tr>\n",
       "    <tr>\n",
       "      <th>2</th>\n",
       "      <td>P</td>\n",
       "      <td>ابھی تک اسکی لہریں کبھی کبھی آ جاتی ہیں یار :أْ</td>\n",
       "      <td>3</td>\n",
       "    </tr>\n",
       "    <tr>\n",
       "      <th>3</th>\n",
       "      <td>N</td>\n",
       "      <td>گندی زبان اور گٹر جیسے دماغ والے جاهل جیالے هو...</td>\n",
       "      <td>4</td>\n",
       "    </tr>\n",
       "    <tr>\n",
       "      <th>4</th>\n",
       "      <td>N</td>\n",
       "      <td>قاتل بھی تم مقتول بھی تم,ظالم بھی ہم اور مظلوم...</td>\n",
       "      <td>5</td>\n",
       "    </tr>\n",
       "  </tbody>\n",
       "</table>\n",
       "</div>"
      ],
      "text/plain": [
       "  CLASS                                          SENTENCES  SNO\n",
       "0     P  میں نے ایٹم بم بنایا ھے ۔۔۔۔او بھائی ایٹم بمب ...    1\n",
       "1     N  چندے سے انقلاب اور عمران خان وزیر اعظم نہیں بن...    2\n",
       "2     P   ابھی تک اسکی لہریں کبھی کبھی آ جاتی ہیں یار :أْ     3\n",
       "3     N  گندی زبان اور گٹر جیسے دماغ والے جاهل جیالے هو...    4\n",
       "4     N  قاتل بھی تم مقتول بھی تم,ظالم بھی ہم اور مظلوم...    5"
      ]
     },
     "execution_count": 2,
     "metadata": {},
     "output_type": "execute_result"
    }
   ],
   "source": [
    "#omporting dataset \n",
    "df = pd.read_csv('2sentiments.csv')\n",
    "df.head()\n"
   ]
  },
  {
   "cell_type": "code",
   "execution_count": 3,
   "id": "f7194f00",
   "metadata": {},
   "outputs": [
    {
     "data": {
      "image/png": "[encoded data removed]",
      "text/plain": [
       "<Figure size 432x288 with 1 Axes>"
      ]
     },
     "metadata": {
      "needs_background": "light"
     },
     "output_type": "display_data"
    }
   ],
   "source": [
    "##### BAR PLOT\n",
    "from matplotlib import pyplot as plt\n",
    "import pandas as pd\n",
    "\n",
    "plt.bar(df.CLASS,df.SNO)\n",
    "plt.ylabel(\"NEWS\")\n",
    "plt.xlabel(\"CLASSES\")\n",
    "plt.show()"
   ]
  },
  {
   "cell_type": "code",
   "execution_count": 4,
   "id": "728651db",
   "metadata": {},
   "outputs": [
    {
     "data": {
      "text/plain": [
       "CLASS        0\n",
       "SENTENCES    1\n",
       "SNO          0\n",
       "dtype: int64"
      ]
     },
     "execution_count": 4,
     "metadata": {},
     "output_type": "execute_result"
    }
   ],
   "source": [
    "# checking anything is null\n",
    "df.isnull().sum()"
   ]
  },
  {
   "cell_type": "code",
   "execution_count": 5,
   "id": "363833a0",
   "metadata": {},
   "outputs": [
    {
     "data": {
      "text/html": [
       "<div>\n",
       "<style scoped>\n",
       "    .dataframe tbody tr th:only-of-type {\n",
       "        vertical-align: middle;\n",
       "    }\n",
       "\n",
       "    .dataframe tbody tr th {\n",
       "        vertical-align: top;\n",
       "    }\n",
       "\n",
       "    .dataframe thead th {\n",
       "        text-align: right;\n",
       "    }\n",
       "</style>\n",
       "<table border=\"1\" class=\"dataframe\">\n",
       "  <thead>\n",
       "    <tr style=\"text-align: right;\">\n",
       "      <th></th>\n",
       "      <th>CLASS</th>\n",
       "      <th>SENTENCES</th>\n",
       "      <th>SNO</th>\n",
       "    </tr>\n",
       "  </thead>\n",
       "  <tbody>\n",
       "    <tr>\n",
       "      <th>0</th>\n",
       "      <td>P</td>\n",
       "      <td>میں نے ایٹم بم بنایا ھے ۔۔۔۔او بھائی ایٹم بمب ...</td>\n",
       "      <td>1</td>\n",
       "    </tr>\n",
       "    <tr>\n",
       "      <th>1</th>\n",
       "      <td>N</td>\n",
       "      <td>چندے سے انقلاب اور عمران خان وزیر اعظم نہیں بن...</td>\n",
       "      <td>2</td>\n",
       "    </tr>\n",
       "    <tr>\n",
       "      <th>2</th>\n",
       "      <td>P</td>\n",
       "      <td>ابھی تک اسکی لہریں کبھی کبھی آ جاتی ہیں یار :أْ</td>\n",
       "      <td>3</td>\n",
       "    </tr>\n",
       "    <tr>\n",
       "      <th>3</th>\n",
       "      <td>N</td>\n",
       "      <td>گندی زبان اور گٹر جیسے دماغ والے جاهل جیالے هو...</td>\n",
       "      <td>4</td>\n",
       "    </tr>\n",
       "    <tr>\n",
       "      <th>4</th>\n",
       "      <td>N</td>\n",
       "      <td>قاتل بھی تم مقتول بھی تم,ظالم بھی ہم اور مظلوم...</td>\n",
       "      <td>5</td>\n",
       "    </tr>\n",
       "    <tr>\n",
       "      <th>...</th>\n",
       "      <td>...</td>\n",
       "      <td>...</td>\n",
       "      <td>...</td>\n",
       "    </tr>\n",
       "    <tr>\n",
       "      <th>972</th>\n",
       "      <td>P</td>\n",
       "      <td>چچا غالب کی روح سے معذرت کے ساتھہم نے مانا کہ ...</td>\n",
       "      <td>973</td>\n",
       "    </tr>\n",
       "    <tr>\n",
       "      <th>973</th>\n",
       "      <td>P</td>\n",
       "      <td>واہ جناب واہ! اچھی رہی۔ جناب خود کو فرشتہ سمجو...</td>\n",
       "      <td>974</td>\n",
       "    </tr>\n",
       "    <tr>\n",
       "      <th>974</th>\n",
       "      <td>P</td>\n",
       "      <td>اسلام آباد :پی اے ٹی کا دھرنا ختم، صفائی کے کا...</td>\n",
       "      <td>975</td>\n",
       "    </tr>\n",
       "    <tr>\n",
       "      <th>975</th>\n",
       "      <td>P</td>\n",
       "      <td>دنیا نے کس کا راہ وفا میں دیا ہے ساتھتم بھی چل...</td>\n",
       "      <td>976</td>\n",
       "    </tr>\n",
       "    <tr>\n",
       "      <th>976</th>\n",
       "      <td>N</td>\n",
       "      <td>عمران خان عورت ہے</td>\n",
       "      <td>977</td>\n",
       "    </tr>\n",
       "  </tbody>\n",
       "</table>\n",
       "<p>977 rows × 3 columns</p>\n",
       "</div>"
      ],
      "text/plain": [
       "    CLASS                                          SENTENCES  SNO\n",
       "0       P  میں نے ایٹم بم بنایا ھے ۔۔۔۔او بھائی ایٹم بمب ...    1\n",
       "1       N  چندے سے انقلاب اور عمران خان وزیر اعظم نہیں بن...    2\n",
       "2       P   ابھی تک اسکی لہریں کبھی کبھی آ جاتی ہیں یار :أْ     3\n",
       "3       N  گندی زبان اور گٹر جیسے دماغ والے جاهل جیالے هو...    4\n",
       "4       N  قاتل بھی تم مقتول بھی تم,ظالم بھی ہم اور مظلوم...    5\n",
       "..    ...                                                ...  ...\n",
       "972     P  چچا غالب کی روح سے معذرت کے ساتھہم نے مانا کہ ...  973\n",
       "973     P  واہ جناب واہ! اچھی رہی۔ جناب خود کو فرشتہ سمجو...  974\n",
       "974     P  اسلام آباد :پی اے ٹی کا دھرنا ختم، صفائی کے کا...  975\n",
       "975     P  دنیا نے کس کا راہ وفا میں دیا ہے ساتھتم بھی چل...  976\n",
       "976     N                                  عمران خان عورت ہے  977\n",
       "\n",
       "[977 rows x 3 columns]"
      ]
     },
     "execution_count": 5,
     "metadata": {},
     "output_type": "execute_result"
    }
   ],
   "source": [
    "# putthing space in the null value\n",
    "df['SENTENCES'] = df['SENTENCES'].fillna(' ')\n",
    "df"
   ]
  },
  {
   "cell_type": "code",
   "execution_count": 6,
   "id": "8e696f9c",
   "metadata": {},
   "outputs": [
    {
     "data": {
      "text/plain": [
       "CLASS        0\n",
       "SENTENCES    0\n",
       "SNO          0\n",
       "dtype: int64"
      ]
     },
     "execution_count": 6,
     "metadata": {},
     "output_type": "execute_result"
    }
   ],
   "source": [
    "# checking anything is null\n",
    "df.isnull().sum()"
   ]
  },
  {
   "cell_type": "code",
   "execution_count": 7,
   "id": "c832d68a",
   "metadata": {},
   "outputs": [
    {
     "name": "stdout",
     "output_type": "stream",
     "text": [
      "<class 'numpy.ndarray'>\n"
     ]
    }
   ],
   "source": [
    "# # Associate Category names with numerical index and save it in new column category_id\n",
    "category_id=df['category_id'] = df['CLASS'].factorize()[0]\n",
    "\n",
    "# category_id = review_df.CLASS.factorize()\n",
    "# category_id\n",
    "# View first 10 entries of category_id, as a sanity check\n",
    "df['category_id'][0:10]\n",
    "sentiment_label = df.CLASS.factorize()\n",
    "a = np.array(sentiment_label)\n",
    "\n",
    "# print()\n",
    "# # np.array(sentiment_label)\n",
    "print(type(a))"
   ]
  },
  {
   "cell_type": "code",
   "execution_count": 8,
   "id": "2db75393",
   "metadata": {},
   "outputs": [
    {
     "data": {
      "text/html": [
       "<div>\n",
       "<style scoped>\n",
       "    .dataframe tbody tr th:only-of-type {\n",
       "        vertical-align: middle;\n",
       "    }\n",
       "\n",
       "    .dataframe tbody tr th {\n",
       "        vertical-align: top;\n",
       "    }\n",
       "\n",
       "    .dataframe thead th {\n",
       "        text-align: right;\n",
       "    }\n",
       "</style>\n",
       "<table border=\"1\" class=\"dataframe\">\n",
       "  <thead>\n",
       "    <tr style=\"text-align: right;\">\n",
       "      <th></th>\n",
       "      <th>CLASS</th>\n",
       "      <th>category_id</th>\n",
       "    </tr>\n",
       "  </thead>\n",
       "  <tbody>\n",
       "    <tr>\n",
       "      <th>0</th>\n",
       "      <td>P</td>\n",
       "      <td>0</td>\n",
       "    </tr>\n",
       "    <tr>\n",
       "      <th>1</th>\n",
       "      <td>N</td>\n",
       "      <td>1</td>\n",
       "    </tr>\n",
       "  </tbody>\n",
       "</table>\n",
       "</div>"
      ],
      "text/plain": [
       "  CLASS  category_id\n",
       "0     P            0\n",
       "1     N            1"
      ]
     },
     "execution_count": 8,
     "metadata": {},
     "output_type": "execute_result"
    }
   ],
   "source": [
    "category_id_df = df[['CLASS', 'category_id']].drop_duplicates().sort_values('category_id')\n",
    "category_id_df"
   ]
  },
  {
   "cell_type": "code",
   "execution_count": 9,
   "id": "f245fde5",
   "metadata": {},
   "outputs": [
    {
     "data": {
      "text/html": [
       "<div>\n",
       "<style scoped>\n",
       "    .dataframe tbody tr th:only-of-type {\n",
       "        vertical-align: middle;\n",
       "    }\n",
       "\n",
       "    .dataframe tbody tr th {\n",
       "        vertical-align: top;\n",
       "    }\n",
       "\n",
       "    .dataframe thead th {\n",
       "        text-align: right;\n",
       "    }\n",
       "</style>\n",
       "<table border=\"1\" class=\"dataframe\">\n",
       "  <thead>\n",
       "    <tr style=\"text-align: right;\">\n",
       "      <th></th>\n",
       "      <th>CLASS</th>\n",
       "      <th>SENTENCES</th>\n",
       "      <th>SNO</th>\n",
       "      <th>category_id</th>\n",
       "    </tr>\n",
       "  </thead>\n",
       "  <tbody>\n",
       "    <tr>\n",
       "      <th>966</th>\n",
       "      <td>N</td>\n",
       "      <td>انشاء جی اٹھو اب کوچ کرو، اس شہر ميں جی کو لگا...</td>\n",
       "      <td>967</td>\n",
       "      <td>1</td>\n",
       "    </tr>\n",
       "    <tr>\n",
       "      <th>879</th>\n",
       "      <td>P</td>\n",
       "      <td>نہ ہی پوچھیں تو اچھا ہے</td>\n",
       "      <td>880</td>\n",
       "      <td>0</td>\n",
       "    </tr>\n",
       "    <tr>\n",
       "      <th>436</th>\n",
       "      <td>N</td>\n",
       "      <td>دیکھیں یہ بات بالکل درست ھے ۔ سڑکیں بلاک کرنا ...</td>\n",
       "      <td>437</td>\n",
       "      <td>1</td>\n",
       "    </tr>\n",
       "    <tr>\n",
       "      <th>970</th>\n",
       "      <td>P</td>\n",
       "      <td>گھر سے استنجاء اور وضو کر کے مسجد آنا:احادیث م...</td>\n",
       "      <td>971</td>\n",
       "      <td>0</td>\n",
       "    </tr>\n",
       "    <tr>\n",
       "      <th>261</th>\n",
       "      <td>P</td>\n",
       "      <td>میرا کپتان نہی بولا تو ہمیں بھی AT کے دوستو کو...</td>\n",
       "      <td>262</td>\n",
       "      <td>0</td>\n",
       "    </tr>\n",
       "  </tbody>\n",
       "</table>\n",
       "</div>"
      ],
      "text/plain": [
       "    CLASS                                          SENTENCES  SNO  category_id\n",
       "966     N  انشاء جی اٹھو اب کوچ کرو، اس شہر ميں جی کو لگا...  967            1\n",
       "879     P                           نہ ہی پوچھیں تو اچھا ہے   880            0\n",
       "436     N  دیکھیں یہ بات بالکل درست ھے ۔ سڑکیں بلاک کرنا ...  437            1\n",
       "970     P  گھر سے استنجاء اور وضو کر کے مسجد آنا:احادیث م...  971            0\n",
       "261     P  میرا کپتان نہی بولا تو ہمیں بھی AT کے دوستو کو...  262            0"
      ]
     },
     "execution_count": 9,
     "metadata": {},
     "output_type": "execute_result"
    }
   ],
   "source": [
    "df.sample(5, random_state=0)"
   ]
  },
  {
   "cell_type": "code",
   "execution_count": 10,
   "id": "68e40a17",
   "metadata": {},
   "outputs": [
    {
     "data": {
      "text/plain": [
       "[<matplotlib.lines.Line2D at 0x1ece80a86d0>]"
      ]
     },
     "execution_count": 10,
     "metadata": {},
     "output_type": "execute_result"
    },
    {
     "data": {
      "image/png": "[encoded data removed]",
      "text/plain": [
       "<Figure size 432x288 with 1 Axes>"
      ]
     },
     "metadata": {
      "needs_background": "light"
     },
     "output_type": "display_data"
    }
   ],
   "source": [
    "plt.plot(df['category_id'].value_counts())"
   ]
  },
  {
   "cell_type": "code",
   "execution_count": 11,
   "id": "93a14698",
   "metadata": {},
   "outputs": [
    {
     "data": {
      "text/plain": [
       "1    498\n",
       "0    479\n",
       "Name: category_id, dtype: int64"
      ]
     },
     "execution_count": 11,
     "metadata": {},
     "output_type": "execute_result"
    }
   ],
   "source": [
    "df['category_id'].value_counts()"
   ]
  },
  {
   "cell_type": "code",
   "execution_count": 12,
   "id": "fea8029e",
   "metadata": {},
   "outputs": [],
   "source": [
    "x =df['SENTENCES']\n",
    "y = df['category_id']"
   ]
  },
  {
   "cell_type": "code",
   "execution_count": 13,
   "id": "f166b623",
   "metadata": {},
   "outputs": [
    {
     "name": "stdout",
     "output_type": "stream",
     "text": [
      "<keras.preprocessing.text.Tokenizer object at 0x000001ECE80E5E80>\n",
      "[[2, 10, 722, 723, 266, 21, 1860, 180, 722, 1861, 1862, 1863, 196, 724, 1053, 2, 13, 1864, 723, 1865, 3, 1866], [73, 4, 36, 8, 41, 25, 91, 103, 13, 76, 238], [197, 92, 518, 1054, 132, 132, 104, 519, 14, 520, 1867], [1868, 362, 8, 1869, 316, 521, 65, 1055, 1056, 181, 1870, 1871, 181, 8, 1055, 1872, 181, 317, 522, 217, 9], [1873, 15, 111, 1874, 15, 111, 1875, 15, 47, 8, 1876, 15, 1877], [1878, 1879, 93, 1880, 145, 160, 1057, 1881, 1882, 430, 93, 1883, 267, 1884, 160], [28, 1058, 1885, 1886, 21, 1887, 16, 51, 1059, 1888, 111, 169, 431, 21, 1889, 28, 1890, 181, 1059, 1891, 21, 239], [1060, 432, 1, 1061, 1, 54, 1062, 1063, 1064, 1892], [91, 103, 3, 363, 1065, 1893, 1066, 6, 1067], [1894, 58, 433, 182, 268, 4, 66, 523, 119, 16, 122, 32, 269, 47, 10, 1068, 524, 434, 1069, 524, 10, 170, 1070, 22, 433, 10, 1895, 66, 525, 170, 7, 1896, 59], [1071, 725, 18, 19, 1897, 1898, 18, 19, 1899, 1072, 1900, 726, 132, 1073, 2, 12, 727, 23, 55], [44, 240, 1, 435, 133, 526, 1901, 728, 37, 1074, 1902, 52, 5, 9, 364, 1903], [1904, 1905, 1906, 1907, 1908, 11, 270, 1909, 198, 15, 183, 17, 26, 146, 527, 7, 1910, 436, 50, 528, 7, 134, 1911, 1912, 4, 36], [218, 365, 10, 318, 1075, 1076, 59, 29, 12, 219, 1913, 16, 270, 1077, 17, 1914], [729, 48, 1915, 33, 147, 271, 3, 1078, 171, 33], [57, 220, 105, 6, 437, 272, 23, 1079, 6, 184], [26, 1080, 2, 1916, 1917, 26, 1918, 7, 1919, 1081, 60, 9, 529, 530, 1080], [1920, 1082, 2, 438, 199, 11, 1921, 77, 1922, 1923, 531], [1924, 730, 6, 366, 58, 17, 1925, 1926, 2, 1083, 35, 1, 1084, 1085, 3, 731, 23, 38, 11, 532, 78, 439, 5], [1086, 36, 148, 732, 1087, 1927, 2, 221, 367, 94, 273, 1928, 1929, 1, 1930, 112, 1931, 4, 1088, 1932, 1933, 533, 1934, 1089], [26, 1935, 1, 534, 161, 198, 368, 6, 1936, 1090, 1937, 1091, 20, 1, 369, 1938, 535, 60, 368, 1092, 222, 20, 10, 45, 1939], [67, 733, 1940, 2, 33, 66, 1941, 440, 12, 172, 41, 1, 240, 6, 1093, 76, 149, 58], [734, 1942, 1943, 536, 1094, 4, 1095, 1944, 1945, 370, 537, 2, 1946, 1947, 16, 371, 34, 35, 223, 735], [1096, 41, 25, 7, 42, 1097, 1948, 7, 274, 1949, 319, 320, 81, 736, 441, 24, 2, 43, 19, 28, 1950, 1951, 1098, 1952, 6, 372, 150, 14, 9], [737, 275, 1953, 3, 1954, 241, 1955, 738, 3, 1956, 9], [1957, 145, 1958, 1099, 1959, 160, 1099, 1960, 1961, 1962, 739, 373, 1963, 739, 740, 1964, 160, 1965, 1966, 1967, 1968, 739, 538, 1969, 1970, 95], [9, 56, 96, 539, 374, 2, 741, 13, 119, 1971, 742, 1972, 97, 1973, 135, 540, 1100, 8, 1974, 3, 442, 375, 171, 98], [173, 541, 7, 185, 200, 106, 136, 743], [39, 1975, 7, 13, 1976, 19, 29, 113, 443, 21, 17, 744, 2, 745, 174, 46, 9, 137, 74, 542], [39, 174, 746, 12, 1977, 2, 747, 321, 543, 68, 79, 3, 544, 748, 242, 1101, 1101], [1102, 151, 1978, 1979, 1980, 14, 1102, 8, 1981], [1103, 35, 6, 1104, 749, 444, 11, 1105, 2, 1982, 1983, 1, 441, 4, 523, 1984, 1103, 35, 1, 441, 1985, 1986], [82, 7, 30, 1, 445, 376, 10, 1106, 3, 1987, 1988], [61, 69, 1107, 56, 96, 41, 25, 6, 366, 5, 17, 138, 276, 224, 1, 446, 47, 61, 69, 4, 13, 122, 32, 31], [48, 25, 10, 1989, 2, 1108, 750, 3, 1990, 1991, 16, 152, 19, 751, 48, 25], [1992, 1993, 1994, 145, 1995, 752, 1109, 1996, 1997, 175, 1998, 1999, 752, 1109, 2000], [82, 2001, 2002, 1110, 2003, 10, 120, 3, 377, 1, 545, 2, 322, 2004, 20, 11, 173, 133, 8, 2005, 2006, 7, 753, 2007, 153, 2008], [2009, 2010, 2011, 754, 2012, 2013, 2014, 2015, 2016, 2017, 83, 2018, 2019, 93, 2020, 2021, 2022, 2023, 2024, 2025], [275, 2026, 755, 186, 277, 2027, 2028, 3, 2029, 11, 323, 6, 756, 1111], [62, 447, 2030, 1112, 1, 546, 2031, 2032, 2033, 3, 2034, 1113, 1, 757, 11, 2035, 738, 2036, 1114, 448], [1115, 66, 2037, 5, 8, 2, 365, 123, 43, 547, 3, 1116, 4], [1117, 2038, 449, 138, 1, 84, 2039, 79, 1118, 201, 2040, 1119, 5], [1120, 170, 6, 1121, 1122, 151, 44, 154, 2041, 758, 33, 548, 1123, 450, 17, 1124, 532, 275, 77, 370, 759, 6, 2042, 5], [62, 447, 1, 760, 451, 241, 3, 2043, 2044, 169, 2045, 1, 2046, 2047, 3, 1125, 2048, 2049, 549, 3, 550, 2050, 2051, 2, 2052, 1126], [365, 8, 551, 324, 324, 155, 378, 2053, 1127, 85, 2054, 761, 325, 552], [2055, 553, 107, 156, 1, 139, 24, 3, 554, 555, 2056], [1128, 243, 4, 124, 556, 278, 762, 202, 270, 23, 18, 17, 1129, 6, 2057, 763, 2058, 556, 4, 2059, 108, 8, 111, 1130, 76, 16, 125, 2060, 9, 137, 2061, 542], [8, 279, 2062, 2063, 2064, 2065, 2066, 12, 26, 2067, 280, 225, 5, 9], [62, 447, 6, 379, 244, 63, 4, 1131, 6, 184, 736, 84, 27, 63, 4, 2068, 326, 94, 6, 1132, 764, 15, 245, 2069, 133, 1133], [2070, 2071, 2, 452, 70, 27, 1134, 1, 1135, 2072, 114, 5, 9], [2073, 2074, 53, 2075, 765, 2076, 86, 432, 1136, 557, 52, 521, 27, 203, 766, 767, 13, 432, 11, 49, 38, 3, 1137], [768, 769, 10, 1138, 2, 453, 2077, 15, 770, 454], [2078, 1, 2079, 87, 771, 74, 2080, 171, 34, 71, 226, 1139, 243, 34, 24, 1139, 243, 34, 24, 455, 2081], [281, 2082, 34, 37, 2083, 11, 2084, 29, 2085, 327, 1140, 2086, 1, 2087, 3, 2088, 1141, 2089, 327], [28, 1142, 1142, 282, 2090, 28, 1143, 1143, 4, 2091, 204, 772, 17, 123, 5, 204, 328, 6, 2092], [39, 558, 1144, 23, 108, 2093, 4, 13, 2094, 320, 157], [12, 2, 246, 773, 114, 43, 2095, 12, 380, 8, 381, 3, 1145, 222], [456, 59, 46, 1146, 227, 59, 46, 559, 329, 84, 22, 2096, 22, 46], [433, 182, 10, 2097, 1, 2098, 2099, 7, 1147, 1148, 60, 9, 29, 205, 2100, 18, 55, 9], [247, 97, 29, 15, 2101, 2102, 135, 28, 2103, 3, 1149, 4, 2104, 5, 1150, 1150], [553, 107, 156, 560, 24, 3, 774, 162], [534, 382, 383, 280, 153, 5], [140, 187, 561, 775, 2105, 109, 2106, 2107, 99, 562, 2108], [1151, 2109, 41, 25, 1, 1152, 283, 1, 84, 1153, 71, 4, 2110], [1154, 1, 2111, 2112, 4, 218, 2113, 2114, 384, 5], [1155, 1, 369, 2115, 10, 206, 58, 17, 385, 386, 2116, 1156, 11, 2117, 528, 266, 52, 58, 17, 29, 1155, 3, 1134, 3, 442, 85, 32, 48, 3, 1157], [2, 197, 2118, 11, 776, 563, 564, 4, 183, 242, 9, 565, 1, 66, 3, 284, 4, 776, 563, 11, 78, 113, 2119, 72, 2120, 21, 330, 6, 777, 778, 2121, 21], [779, 374, 2, 2122, 6, 566, 331, 228, 457, 5, 41, 25], [147, 458, 332, 14, 39, 452, 2123, 248, 1, 567, 119, 459, 14, 2124, 2125, 8, 116, 31], [460, 2126, 2127, 3, 207, 4, 126, 387, 229, 6, 100, 285, 2128], [220, 461, 4, 1158, 117, 2129, 568, 9, 2130, 286, 780, 333, 249], [136, 743, 219, 1159, 154, 1160, 5, 1161, 462, 250, 2131, 463, 781, 2132], [2133, 3, 1162, 22, 5, 19, 84, 28, 15, 2134, 17, 2135, 7, 1162, 2, 22, 287, 14, 9], [2136, 41, 25, 329, 188, 2137, 52, 12, 22, 181, 34, 20, 3, 780, 15, 333, 77], [2138, 23, 2139, 1163, 23, 275, 127, 2140, 4, 125, 2141], [2142, 22, 558, 21, 169, 15, 2143], [2144, 2145, 2146, 2147, 10, 569, 1164, 7, 61, 69, 2, 187, 385, 386, 4, 2148, 6, 184, 22, 2149, 2150, 127, 189, 10, 187, 7, 1165, 251], [2151, 189, 2152, 570, 2153, 2154, 4, 1166, 6, 2155, 8, 2156, 571, 2157, 4, 1167, 2158, 21, 2159, 2160, 2161], [1168, 2162, 138, 2163, 176, 3, 207, 4, 173, 541], [547, 2164, 113, 384, 121, 34, 226, 48], [1169, 2, 2165, 1, 782, 783, 55, 2166, 2167, 2168, 177, 11, 2169], [2170, 784, 1170, 160], [785, 2171, 53, 334, 572, 2, 190, 1171, 15, 23, 2172, 27, 12, 206, 5, 1171, 13, 786, 34, 2173, 787, 464], [573, 377, 1, 2174, 35, 288, 2, 574, 289, 1, 1172, 2, 2175, 8, 2176, 6, 1173, 162], [2, 2177, 15, 2178, 58, 12, 53, 388, 465, 2179, 1174, 6, 33, 12, 2180, 465], [41, 180, 378, 1, 2181, 11, 12, 37, 75, 6, 575, 1175, 6, 1176, 14, 9, 40, 45, 2182, 6, 2183, 333, 335, 788, 336, 122, 32, 8, 252, 3, 2184, 15, 23, 18, 98], [389, 1177, 169, 2185, 6, 1178, 155, 337, 576, 153, 230, 577, 1, 54, 2186, 2, 2187, 770, 153, 789, 2188, 7, 2189, 100, 4, 2190, 140, 74], [198, 6, 2191, 5, 17, 1179, 3, 2192, 338, 1, 54, 578, 579, 11, 790, 787, 122, 9, 2193, 791, 2194, 2195, 1148, 122, 9, 2196, 2197, 2198, 243, 9], [44, 1180, 466, 4, 124, 272, 1181, 32, 9], [323, 580, 88, 4, 581, 231, 7, 1182, 231, 6, 100, 59, 46, 792, 581, 231, 10, 582, 12, 132, 2199, 13], [1183, 46, 100, 390, 253, 1, 2200, 4, 390, 793, 27, 2201, 5, 2202, 2], [2203, 6, 2204, 5, 17, 2205, 27, 13, 5, 1184], [794, 2206, 6, 2207, 24, 7, 2208, 2, 2209, 2210, 795, 1185, 583, 391, 1186, 4, 2211, 161, 392, 2212, 4, 584, 141, 6, 2213, 1185, 2214, 2215, 92, 796, 55], [270, 2216, 2217, 290, 163, 164, 18, 52, 28, 2218, 467, 467, 467, 467, 467], [2219, 797, 1187, 1188, 797, 208, 2220], [468, 89, 3, 798, 799, 585, 586, 587, 800, 11, 291, 63, 4, 292, 588, 801, 393, 10, 802], [119, 279, 2, 2221, 209, 12, 1189, 25, 3, 128, 134, 2222, 123, 209], [36, 3, 1190, 2, 2223, 8, 53, 803, 13, 2224, 191, 118, 95, 36, 2225, 7, 5], [2226, 2227, 2228, 147, 589, 8, 12, 254, 1191, 2229, 1192, 1193, 129, 589, 2230], [1194, 804, 1195, 1196, 3, 50, 15, 805, 3, 442, 153, 2231, 2232, 339, 1194, 804, 1195, 1196, 3, 50, 15, 805, 1146], [57, 105, 64, 7, 2233, 3, 2234, 590, 2235, 2236, 766, 57, 394, 293, 2237, 394, 293, 10, 2238], [44, 395, 469, 13, 591, 8, 1197, 69, 2, 592, 1198, 245, 123, 43, 9, 210], [42, 2239, 11, 806, 2240, 46, 1085, 1, 84, 375, 807, 85, 9, 1199], [41, 396, 2241, 8, 45, 1200, 290, 7, 1201, 2242, 2243, 21, 22, 294, 295, 1, 296, 255, 7, 1202, 1203], [1204, 224, 3, 1205, 470, 808, 1206, 217, 203, 181, 727, 217, 471, 37, 397, 1207, 593, 142, 35, 1208, 398], [594, 595, 6, 372, 250, 77, 297, 2244, 809, 1209, 2, 2245, 472, 55, 1210, 2246, 2247, 2, 594, 595, 6, 372, 2248], [2249, 330, 340, 10, 1211, 449, 1, 596, 1212, 2250, 1213, 810, 782], [2251, 2252, 2253, 1214, 1215, 2254, 93, 2255, 1214, 1215, 473, 93, 31, 2256, 2257, 811, 2258, 2259, 83, 1216, 2260], [187, 385, 386, 4, 812, 99, 2261, 2262, 291, 2263, 2264, 8, 597, 1066, 6, 2265, 2266], [734, 97, 813, 37, 814, 232, 20, 201, 2, 97, 6, 815, 22, 1217, 8, 28, 17, 16, 112, 109, 201, 1218, 11, 78, 395, 816, 16, 32], [165, 4, 120, 1, 54, 134, 252, 163, 190, 817, 1219, 6, 598, 1220, 6, 188, 117, 13, 1221, 16, 120, 1222, 818, 1223], [547, 1190, 2267, 185, 431], [211, 2268, 115, 6, 365, 1224, 156, 1, 2269, 2270, 819, 599, 2271], [1225, 109, 12, 2272, 8, 2273, 2274, 14, 2, 2275, 43, 39, 1226, 1227, 43, 298, 298, 600, 1228, 2276, 12, 2, 2277, 117, 23, 43, 2278, 2279], [112, 145, 2280, 2281, 2282, 143, 2283, 2284, 83, 2285, 2286, 208, 2287, 2288, 2289, 784, 2290, 2291], [61, 69, 187, 385, 820, 11, 601, 1, 139, 205, 35, 288, 2, 341, 1229, 821, 46, 2292, 1230, 126, 398, 2293], [2294, 126, 1, 2295, 2296, 126, 10, 24, 256, 2, 57, 105, 64, 3, 257, 4, 602, 245, 16, 764, 822, 2, 190, 100, 1231, 2297, 1, 2298, 11, 810, 823, 59], [20, 35, 7, 2299, 38, 2300, 1232, 2301, 10, 824, 2302, 825, 474], [342, 475, 399, 603, 299, 2303, 2304, 476, 101, 2305, 201, 760, 2, 342, 2306, 1, 1233, 2307, 2, 399, 38, 802], [82, 1234, 2, 1235, 46, 342, 6, 2308, 274, 6, 2309, 5, 400, 2310], [2311, 186, 826, 10, 1236, 827, 2312, 2313, 2314, 1, 139, 828, 2315, 80, 110, 212, 1236, 827, 7, 2316], [173, 829, 61, 7, 185, 200, 106, 136, 18, 1161, 604, 28, 106, 343, 2317, 1237, 8, 2318, 6, 435, 787, 343, 1238], [78, 4, 2319, 178, 8, 55, 179, 226, 37, 15, 255, 1, 84, 258, 2320, 4, 2321], [2322, 12, 28, 5, 343, 233, 1239, 477, 89, 477, 8, 2323, 7, 70, 401, 830, 108, 121, 14, 2324, 233, 66, 12, 42, 240, 1, 300, 15, 18, 238, 60], [2325, 204, 2326, 1, 478, 1240, 2327, 192, 1, 37, 479, 259, 23, 22, 46], [2328, 107, 24, 2329, 1, 139, 831, 213, 2330, 2331, 2332], [12, 2333, 2334, 76, 158, 180], [402, 41, 2335, 10, 832, 4, 403, 2336, 3, 2337, 4, 833, 2338, 22], [29, 39, 2339, 60, 2340, 2341, 29, 2342, 70, 1241, 55, 9, 1242, 1243, 4, 159, 56, 1, 605, 3, 2343, 282, 146, 64, 10, 1244, 2344, 344, 474], [2345, 10, 574, 289, 1, 54, 79, 1, 2346, 834, 835, 9, 2347, 836, 2, 2348, 345, 4, 584, 606, 535, 837, 152], [2349, 2350, 2351, 12, 1245, 6, 247, 15, 5], [197, 12, 144, 344, 838, 5], [2352, 1246, 232, 8, 33, 480, 282, 544, 2353, 113, 2354, 13, 110, 2355, 607, 4, 2356, 15, 1247, 232, 9], [82, 1234, 2, 1235, 46, 1248, 3, 1249, 2357, 274, 1, 2358, 4, 7, 1250, 839, 18, 1251, 5, 31], [159, 56, 1, 2359, 3, 605, 7, 2360, 608, 2, 158, 16, 779, 374, 3, 2361, 38, 3, 2362], [26, 2363, 1088, 234, 1152, 283, 7, 840, 10, 1252, 2364, 192, 5, 2365, 439, 3, 49, 5], [161, 51, 2366, 86, 36, 1, 100, 11, 28, 2367, 20, 1253, 1, 478, 130, 2368, 301, 5, 17, 116, 202, 1254, 36, 1, 68, 27, 1255, 23, 18, 122, 9], [140, 302, 3, 841, 2369], [404, 3, 86, 12, 47, 248, 4, 27, 326, 18, 122, 32, 112, 3, 128, 219, 2370, 2371, 206, 46, 34], [20, 3, 1256, 481, 10, 20, 7, 227, 59], [609, 29, 5, 39, 70, 2372, 11, 190, 2373, 171, 8, 577, 3, 2374, 11, 130, 2375, 166, 1, 577, 7, 2376, 108, 8, 193, 7, 842, 1257], [159, 56, 1, 843, 191, 118, 95, 6, 272, 260, 177, 6, 214], [89, 182, 3, 844, 1, 86, 1258, 7, 261, 38, 3, 482, 63, 3, 845, 1, 1259, 846, 2377, 2378], [2379, 2380, 1181, 2381, 273, 99, 382, 303, 5, 2382, 2383], [749, 444, 154, 12, 161, 33, 51, 15, 773, 2384, 21, 67, 40, 2385, 1, 68, 2386, 129, 2387, 444, 154, 847, 2388, 12, 49, 64], [1260, 480, 2389, 2390, 2391, 4, 53, 1261, 848, 166, 1, 29, 1260, 82, 2, 40, 165, 3, 1261, 1, 43, 1262, 8, 262, 2392, 2393, 71, 1, 285], [1263, 45, 849, 6, 24, 84, 1264, 19, 2394, 24, 266, 483, 2395, 178, 19, 2396, 2397, 62, 215, 62], [2398, 2, 850, 8, 399, 1, 476, 851, 3, 1265, 11, 2399, 2400, 10, 850, 8, 399, 1, 476, 851, 1266], [477, 89, 484, 112, 484, 433, 484, 2401, 484, 610, 484, 31], [62, 215, 62, 6, 35, 2402, 341, 2403], [611, 21, 2404, 852, 7, 112, 109, 10, 2405, 612, 4, 89, 59, 21, 9, 9], [44, 1267, 456, 199, 10, 1268, 4, 2406, 613, 405, 853, 2407, 854, 2408], [485, 1, 54, 33, 2409, 2410, 2411, 614, 2412, 1, 68, 39, 75, 304, 7, 2413, 110, 14, 42, 4, 305, 2414, 485, 68, 31], [], [2415, 25, 151, 2416, 8, 1269, 822, 154, 91, 103, 76, 149, 5, 102], [2417, 2, 2418, 1097, 2, 2419, 297, 594, 595, 4, 221, 1270, 186, 63, 2420], [180, 22, 202, 1271, 27, 80, 18, 131, 5, 9], [44, 2421, 11, 2422, 391, 855, 212, 9], [2, 56, 96, 8, 159, 56, 1, 605, 4, 450, 43, 17, 67, 47, 4, 33, 4, 33, 15, 296, 2423, 142, 2424, 67, 31], [159, 1272, 4, 278, 94, 163, 1122, 133, 1273, 1, 68, 322, 13, 22, 856, 44, 826], [1274, 1124, 2425, 21, 9, 2426, 8, 1275, 38, 273, 99, 2427, 2428, 151, 1276, 2429, 440, 21, 529, 2430, 857, 2431, 65, 146, 527, 99, 2432, 234, 96], [81, 92, 2433, 43, 1277, 2434, 24, 25, 2435, 3, 1278, 90, 2436, 2437, 108, 90, 533, 5, 17, 2438, 1277, 4, 465, 34], [2439, 2440, 2441, 858, 194, 1279, 2442, 143, 2443, 2444, 2445, 2446, 2447, 143, 858, 194, 2448, 2449, 859, 2450, 160, 2451, 2452], [543, 1280, 2, 860, 152, 5, 2453, 2454, 7, 281, 861, 70, 1249, 346, 5], [30, 40, 6, 1281, 171, 9, 382, 140, 14, 2455, 15, 258, 2456, 2, 60, 9, 28, 214, 2457, 2458, 2459, 42, 109, 1, 2460], [22, 33, 369, 24, 1, 107, 164, 1, 545, 2, 615, 149, 87, 9, 84, 862, 2461, 2462], [263, 101, 299, 616, 7, 340, 2463, 2464, 863], [2465, 12, 381, 87, 2466, 87, 135, 2467, 2468, 87], [2469, 8, 1282, 2470, 1283, 1, 75, 67, 115, 2, 406, 2471, 1284, 12, 1282, 80, 2472, 5, 9], [407, 2473, 87, 73, 4, 73, 92, 6, 2474, 4, 36], [30, 177, 617, 1285, 390, 408, 3, 64, 79, 152, 1286, 1287, 1288], [138, 276, 6, 223, 130, 104, 618, 341, 1289, 486, 864, 7, 339], [62, 215, 62, 7, 1290, 3, 33, 482, 13, 1291, 35, 1292, 20, 306, 193, 27, 409, 18, 17, 272, 104, 1293, 32, 316, 1294, 2475, 409, 72, 619, 18, 17, 104, 55], [439, 1295, 439, 2476, 449, 6, 2477, 15, 347, 2478], [2479, 348, 2480, 7, 2481, 620, 2, 256, 2482, 2483], [2484, 31, 410, 25, 3, 207, 4, 26, 8, 2485], [1296, 104, 2486, 2487], [132, 132, 2488, 235, 242], [1297, 411, 2489, 2490, 5, 2491, 4, 2492, 110, 2493, 115, 23, 526, 39, 57, 12, 2494, 2495, 368, 110, 2496, 526], [45, 865, 2497, 7, 559, 124, 29, 170, 7, 2498, 8, 12, 70, 195, 11, 866, 108, 9, 2499, 166, 76, 733, 2500, 2501, 2502, 2503, 2504], [61, 69, 2, 138, 276, 6, 223, 130, 104, 307, 185, 200, 106, 136, 743, 47, 71, 1, 54, 1298, 8, 2505, 6, 435, 243, 2506, 2507], [1299, 227, 2508, 34, 1300, 19, 8, 2509, 212, 349, 32, 19, 67, 213, 15, 55], [1138, 453, 867, 8, 768, 2510, 6, 1301, 80, 38, 6, 214], [1302, 1303, 1304, 1305, 1306, 93, 1307, 2511, 2512, 1308, 93, 1309, 175, 2513, 2514, 2515, 93, 1310, 2516, 2517], [20, 74, 1, 2518, 6, 2, 22, 2519, 2520, 43, 17, 82, 1, 2521, 4, 465, 1110, 7, 485, 621, 245, 16, 2522, 346, 5, 1311, 74, 167, 264, 30, 412], [151, 868, 869, 1, 567, 113, 178, 2523, 10, 195, 113, 322, 1312, 402, 870], [1189, 1313, 4, 871, 7, 1314, 95, 6, 2524, 2525, 2526, 2527, 205, 483, 2528, 871, 6, 593, 181, 34, 1314, 95, 2529, 1315, 622, 9], [101, 623, 413, 146, 759, 2, 2530, 99, 1316, 107, 6, 184, 18, 307], [124, 77, 389, 2531, 1, 86, 872, 127, 1317, 2532, 624, 27, 487, 519, 5], [1318, 30, 2, 258, 1, 1319, 2, 197, 92, 2533, 13], [873, 2534, 2535, 2536, 10, 45, 66, 6, 2537, 22], [173, 541, 7, 185, 200, 106, 136, 2538, 625, 2539, 137, 167, 103, 216, 350, 8, 137, 241, 216, 350, 11, 2540, 1114], [351, 1144, 376, 10, 352, 1320, 132, 2541, 551, 23, 2542, 792, 82, 10, 2543, 72, 1299, 8, 2544, 551, 2545, 12, 30, 6, 566, 20, 4, 2546, 5, 729, 2547], [56, 96, 626, 1, 1321, 11, 414, 5, 1322, 3, 303, 1323, 14, 488, 353], [1324, 3, 1325, 2, 1326, 2548, 14, 9, 42, 1326, 2549, 7, 874, 1, 54, 875, 3, 2550, 7, 2551, 1327, 5, 9, 47, 489, 1328, 31], [73, 4, 36, 876, 4, 384, 5, 1, 47, 50, 2552, 3, 627, 85, 8, 518, 125, 7, 2553, 16, 249], [611, 5, 156, 3, 199, 78, 628, 2554, 16, 123, 5, 9, 415, 1329, 12, 2555, 3, 1330, 5], [140, 2556, 264, 30, 2557, 2558, 10, 190, 570, 45, 2559, 1331, 4, 2560, 1332, 81, 1331, 7, 20, 6, 877, 629, 12, 20, 10, 31], [191, 630, 616, 7, 625, 631, 370, 632, 18, 55], [40, 2, 4, 29, 2561, 10, 633, 2562, 2563, 2564, 6, 274, 878, 5, 19, 305, 238, 14, 17, 47, 75, 236, 2565, 4, 1153, 43, 32, 2566, 77, 2567, 2568, 43], [44, 879, 6, 613, 15, 540, 2, 119, 251, 307], [73, 4, 36, 36, 12, 1333, 27, 634, 1334, 4, 490, 4, 1334, 1096], [597, 1335, 1, 91, 1128, 126, 880, 8, 755, 491, 277, 126, 2569, 10, 61, 69, 2, 91, 103, 126, 89, 182, 4, 812, 3], [44, 116, 10, 2570, 59, 5, 240, 4, 1336, 13, 2571, 635, 91, 2572], [24, 3, 491, 256, 199, 1, 636, 226, 2573, 35, 6, 2574, 881, 15, 1337, 830, 108, 59, 618, 637, 638, 639], [492, 2575, 244, 2, 1338, 1339, 2576, 3, 1340, 2577, 2, 2578, 2579, 99, 2580, 5], [1341, 2581], [2582, 2583, 1, 165, 7, 2584, 6, 275, 59, 158, 149, 5, 12, 244, 861, 2585, 13, 19, 493, 2586, 2, 1342, 343, 2587, 2588, 1343, 11, 66, 13, 16, 121, 2589, 2590], [1344, 2591, 6, 2592, 1300, 2, 1345, 2593, 19, 882, 79, 3, 1346, 2594, 1347], [494, 1348, 13, 494, 1337], [2595, 7, 81, 202, 416, 23, 1349, 76, 52, 2596, 771, 11, 2597, 157, 1350], [24, 2, 640, 495, 883], [2598, 4, 265, 144, 26, 405, 2599, 333, 2600, 2, 641, 1351, 2601, 2602, 2603, 50, 10, 17, 2604, 1352, 2605, 2606], [195, 3, 884, 2, 2607, 575, 885, 1353, 6, 642], [607, 840, 3, 2608, 8, 173, 2609, 3, 2610, 5, 19, 1354, 643, 103], [2611, 2612, 2613, 93, 2614, 2615, 2616, 19, 2617, 859, 2618, 31], [779, 228, 2619, 7, 1092, 14, 19, 228, 457, 886, 108, 448], [90, 137, 74, 167, 264, 30, 412, 4, 169, 20, 284, 4, 15, 5, 17, 2, 10, 878, 17, 2620, 407, 6, 887, 247, 1, 846, 1226, 786, 2621, 1, 2622, 1355, 2623], [40, 495, 4, 18, 2624, 260, 4, 129, 2625, 2626, 469, 2, 280, 212, 60, 102, 73, 4, 36], [2627, 1356, 279, 888, 141, 134, 77, 90, 19, 543, 68, 120, 108, 114, 43, 67, 104, 13, 238, 19, 134, 12, 108, 238, 18, 2628, 73, 4, 36], [165, 11, 26, 270, 1357, 224, 163, 5, 17, 82, 2, 417, 7, 2629, 13, 1126, 17, 39, 29, 119, 114, 5, 183, 17, 2630, 5, 129, 889, 380, 730], [1358, 37, 2631, 15, 2632, 2633, 130, 2634, 32, 2635, 1359, 8, 2636, 1359, 2637, 6, 2638, 1360, 14, 2639], [2640, 2641, 164, 2, 226, 644, 27, 1361, 235, 5, 9, 41, 25], [1086, 468, 89, 3, 798, 799, 585, 586, 587, 800, 11, 291, 63, 4, 292, 588, 801, 393, 10, 291, 63, 4, 91, 31], [29, 12, 127, 294, 27, 79, 1271, 114, 58, 210, 2642, 2643, 6], [51, 165, 7, 890, 366, 5, 2644, 7, 42, 3, 362, 2, 292, 645, 5, 2645, 1362, 110, 5, 2646, 7], [2647, 3, 2648, 18, 131, 239], [41, 67, 45, 290, 3, 380, 646, 615, 108, 8, 190, 2649, 107, 418, 647, 891, 325, 21, 647, 1147, 837, 12, 648, 51, 8, 75, 20, 3, 442, 2650], [33, 892, 4, 649, 52, 8, 50, 10, 1363, 16, 496, 12, 22, 192, 419, 12, 2651, 27, 2652, 14, 50, 7, 36, 3, 893, 5, 8, 50, 7, 63, 3], [650, 650, 546, 2, 2653, 568, 268, 147, 2654, 3, 2655, 222, 2656, 1364, 1, 100, 4, 8, 101, 1365, 2, 2657, 1364, 1, 100, 4], [22, 20, 4, 113, 15, 2658, 3, 1366, 21, 651], [159, 56, 549, 7, 894, 69, 2, 537, 171, 98, 2659, 6, 2660, 2661, 37, 894, 69, 2, 2662], [2663, 4, 895, 867, 652, 896, 2664, 2665, 76, 52, 1367, 2666, 497, 4, 1368, 653, 65, 77, 31], [2667, 45, 1369, 331, 11, 2668], [2669, 654, 7, 1075, 4, 113, 1370, 13, 897, 179, 1370, 3, 1371, 2, 1372, 13, 2670, 320, 9], [2671, 827, 1, 230, 290, 2, 438, 498, 3, 898], [35, 2, 1324, 1, 100, 11, 2672, 2673, 3, 571, 2674, 158, 123, 5, 82, 4, 35, 2675, 18, 114, 5, 630, 1373], [61, 69, 148, 80, 38, 11, 26, 644, 144, 1, 899, 15, 1374, 2676, 121, 14, 332, 1, 843, 124, 115, 4, 27, 115, 2677], [2678, 2679, 28, 2680, 43, 17, 28, 26, 2681, 2682, 5, 9], [44, 1316, 107, 7, 80, 13, 900, 1074, 363, 2683, 5, 9, 635, 91, 494, 1348], [101, 342, 475, 11, 1375, 6, 603, 299, 476, 2684, 109, 124, 15, 1159, 3, 2685, 2686, 2687, 1376, 141, 119, 2688, 222], [256, 3, 20, 2689, 199, 11, 117, 24, 6, 2690, 2691, 855, 22, 158, 114, 5, 28, 132, 13, 213, 238, 157, 42, 7, 2692, 232], [1377, 12, 499, 27, 114, 5, 17, 24, 164, 2693, 4, 213, 119, 34], [2694, 2695, 655, 1163, 20, 891, 41, 6, 1178, 2696, 2697, 651, 2698, 21, 12, 2, 20, 234, 2699, 193, 331, 242, 70, 2700, 242], [112, 109, 656, 168, 2701, 32, 18, 32], [140, 2702, 2703, 901, 4, 2704, 5, 17, 351, 189, 354, 30, 216, 355, 10, 2705, 2706, 902, 1, 115, 71, 75, 420, 525, 177, 1, 86, 26, 2707, 8, 2708], [2709, 2710, 2711, 2712, 2713, 2714, 2715, 2716, 2717, 2718, 1378, 2719, 143, 2720, 2721, 2722, 145, 2723, 2724, 1378, 2725, 754, 2726], [40, 354, 189, 216, 355, 10, 352, 2727, 177, 2728, 903, 38, 4, 1379, 904, 2729, 500, 12, 902, 1, 115, 304, 4, 119, 321, 380, 308, 2730, 2731], [89, 182, 1, 437, 1, 300, 490, 4, 13, 2732, 34, 41, 25, 2733, 161, 1380, 2734, 5, 598, 1381, 15, 301, 5, 1137], [265, 144, 10, 2735, 186, 2736, 322, 22, 451, 241], [211, 107, 410, 25, 1, 100, 107, 1, 233, 1382, 2, 602, 2737, 24, 3, 657, 2, 71, 4, 113, 905, 658, 65, 599, 76, 55], [2738, 12, 2739, 15, 305, 7, 1383, 301, 5, 2740, 4, 501, 38, 3, 281, 2741, 16, 149, 5, 9], [906, 2742, 785, 387, 2743, 1, 443, 2744, 1384, 3, 2745, 2746], [159, 56, 6, 148, 80, 94, 11, 61, 69, 2, 2747, 6, 2748], [2749, 1385, 115, 634, 88, 24, 256, 199, 1, 54, 2750, 12, 2751], [621, 72, 2752, 3, 907, 2, 431, 309, 3, 53, 2753, 11, 2754, 162, 1386, 34, 19, 2755, 908, 6, 2756, 8, 892, 2757, 3, 46, 98], [211, 553, 909, 24, 6, 156, 560, 831, 213, 16, 774, 6, 214], [263, 44, 2, 882, 879, 6, 613, 1387, 525, 177, 2758], [473, 910, 911, 2759, 267, 2760, 2761, 2762, 2763, 2764, 811, 911, 2765, 912, 2766, 160], [2, 2767, 43, 197, 2768, 901, 2, 242, 210, 1388, 197, 913, 13, 1389], [323, 2769, 565, 127, 914, 26, 391, 583, 345, 1390, 234, 141, 1391, 1392, 2, 347, 114, 5, 19, 1393], [210, 226, 1394, 2770, 12, 219, 15, 2771, 1, 1395, 7, 51, 1394, 2772, 45, 2773, 11, 1202, 5, 8, 1396, 3, 207, 2774, 5, 2775, 185, 24], [1397, 270, 27, 5, 2776, 133, 148, 8, 597, 2777, 11, 233, 154, 806, 2778, 2779], [659, 1398, 2780, 915, 660, 2781, 2, 596, 277, 195, 3, 2782, 1399, 2783, 2784], [28, 15, 502, 21, 17, 75, 70, 133, 916, 154, 2785, 1400, 110, 14], [42, 316, 369, 4, 384, 5, 1108, 778], [116, 7, 1401, 2786, 1402, 2787, 349, 8, 35, 2788, 2789, 6, 917, 2790, 168, 349, 101, 1, 116, 7, 1402, 245, 168, 31], [918, 1403, 661, 2791, 21, 2792, 2793, 69, 8, 112, 41, 8, 919, 2794, 2795, 69], [49, 2796, 18, 33, 1404, 2797, 2798, 847, 1405, 18, 142, 272, 2799, 2800, 920, 16, 346, 43, 2, 2801], [56, 96, 10, 626, 3, 898, 99, 580, 1, 285, 478, 94, 6, 214, 2802, 582, 220, 461], [138, 2803, 130, 662, 101, 2804, 2805, 2806, 93, 1406, 83, 2807, 1407, 2808, 194, 2809, 2810, 2811, 1408, 2812, 2813], [2814, 2815, 1409, 2816, 1410, 30, 2817, 2818, 2819, 2820, 2821, 2822, 2823, 2824, 2825, 1410], [636, 2826, 921, 24, 7, 922, 2827, 1411, 448], [20, 49, 7, 2828, 2, 33, 2829, 13, 17, 47, 45, 1412, 2, 1413, 1346, 13, 212, 9, 135, 47, 10, 20, 503, 11, 1347, 1414, 2830], [2831, 163, 923, 48, 25, 4, 614, 16, 307, 539, 374, 2, 56, 2832, 3, 770, 1415, 11, 228, 2833, 34, 82, 7, 56, 96, 2834, 2835, 171, 98], [652, 632, 625, 237, 200, 631, 1383, 1416, 25, 2836, 119, 121, 14, 157], [28, 185, 2837, 229, 15, 33, 2838, 27, 2839, 5, 15, 2840, 16, 114, 5, 9], [906, 2841, 1417, 152, 2842, 915, 2843, 2844, 269, 825, 2845, 2846, 8, 1418, 2847, 5, 8, 2848], [2849, 2850, 39, 924, 40, 7, 2851, 896], [1419, 2852, 1420, 6, 198, 181, 1421, 87, 102, 2853, 24, 420, 1422], [37, 2854, 2855, 2, 51, 15, 13, 2856, 3, 1423, 571, 2, 504, 505, 55, 2857, 2858, 123, 14, 17, 2859, 154, 2860, 2861, 3, 2862, 4, 147, 262, 505, 55], [2863, 354, 387, 126, 376], [2864, 1424, 2865, 10, 90, 2866, 2, 1425, 1426, 21, 925, 191, 10, 462, 2867, 12, 2868, 2869, 11, 416, 381, 2870, 2871, 2872, 5, 2873, 36], [2874, 2875, 3, 2876, 1427, 1355, 750, 65, 75], [1428, 24, 4, 1429, 56, 24, 1, 2877, 2878, 16, 35, 2879, 20, 56, 7, 2880, 32, 9, 625, 926, 191, 2881], [51, 15, 325, 2882, 927, 12, 1430, 393, 7, 193, 321, 320, 58, 2883, 2884, 2885, 37, 2886, 1, 2887, 310, 2888, 2889], [2890, 1431, 174, 180, 1432, 21, 1432, 112, 10, 119, 496, 2891, 8, 236, 496, 70, 2892, 37, 260, 46, 2893, 1180, 106, 178, 34], [2894, 663, 6, 395, 914, 2895, 2896, 2897, 853], [2898, 168, 2899, 104, 2900, 2901, 10, 19, 1149, 356, 27, 1183, 1433, 527], [2902, 274, 38, 3, 664, 2903, 16, 59, 52, 1434, 2904], [35, 288, 2, 2905, 10, 70, 2906, 2907, 152], [337, 230, 26, 237, 2908, 1, 928, 4, 365, 123, 5, 17, 309, 929, 18, 121, 14, 529, 554, 237, 2909, 1, 928, 4, 17, 1435, 929, 18, 121, 14], [71, 4, 357, 1274, 362, 2910, 79, 2911, 8, 2912, 2913, 21, 421, 2914, 82, 1, 458, 925, 188, 2915, 8, 2916, 174, 647, 2917, 21, 2918, 2919], [363, 130, 780, 2, 2920, 930, 1, 296, 237, 3, 825, 930, 5, 157, 142, 380, 200, 1436, 287, 14, 157, 39, 2921], [2922, 1, 2923, 99, 2924, 1437, 3, 416, 931, 561, 335, 32, 9], [2925, 2926, 566, 2927, 237, 200, 564, 633, 2928, 2929, 2930, 398, 2931, 2932, 2933, 398, 2934, 2935, 2936], [871, 544, 6, 2937, 18, 665, 8, 556, 1, 2938, 76, 665, 8, 1438, 30, 4, 932, 2939, 67, 543, 458, 78, 113, 932, 13, 12, 33, 506, 13, 302], [1439, 204, 1440, 2, 481, 777, 1441, 32, 507, 1442, 15, 166, 1349, 12, 66, 48, 4, 629, 335, 32, 73, 4, 36], [1443, 47, 2940, 3, 2941, 2942, 94, 1, 86, 1284, 32, 124, 2943, 1, 68, 48, 2944, 2945], [187, 48, 4, 48, 25, 92, 6, 666, 2946, 104, 13, 114, 19, 48, 104, 52, 5], [111, 4, 395, 2947, 281, 5], [61, 69, 8, 460, 2, 138, 276, 6, 223, 130, 2948, 87, 173, 2949, 61, 7, 185, 106, 136, 174], [138, 276, 6, 223, 130, 2950, 185, 2951, 106, 2952, 136, 2953], [166, 2954, 8, 1444, 2955, 1, 446, 15, 2956, 11, 540, 525, 212, 14, 2957, 2958, 70, 1415, 7, 933, 65, 13, 2959], [56, 96, 6, 2960, 2961, 198, 11, 84, 227, 46, 12, 25, 2962, 13, 2963, 112, 1, 177, 4, 117, 934, 34, 39, 56, 96, 6, 1445, 15, 13, 9], [2964, 12, 2965, 14, 907, 3, 2966, 2, 188, 4, 326, 224, 3, 2967, 667, 12, 1446, 5, 75, 75, 150, 42, 7, 22, 935, 936, 31], [937, 938, 4, 15, 113, 2968, 161, 106, 2969, 368, 3, 284, 4, 209, 5, 9, 937, 938, 8, 2970, 2971, 3, 128, 1447, 368, 4, 15, 419, 27, 2972, 5], [260, 3, 248, 2, 358, 3, 311, 162], [211, 107, 24, 1, 233, 2973, 1448, 422, 11, 1449, 211, 107, 164, 2, 24, 831, 213, 16, 2974], [140, 421, 241, 6, 939, 1450, 2975, 8, 2976, 852, 1451, 1, 2977, 99, 556, 72, 2978, 6, 1428, 14, 1452, 31], [44, 498, 1, 832, 1, 403, 1, 68, 940, 152, 2979, 5, 2980, 97, 1453], [902, 3, 1454], [236, 10, 365, 1455, 5, 19, 236, 10, 1456, 2981, 5, 37, 1457, 52, 936, 20, 501, 6, 1458], [819, 106, 86, 135, 96, 336, 2982, 3, 26, 620, 10, 2983, 941, 1459, 1, 173, 406, 2984, 7, 74, 2985, 3, 667, 2986, 5], [97, 2987, 2988, 2989, 236, 10, 1460, 1461, 292, 249, 2990, 2991, 19], [57, 105, 64, 2, 2992, 2993, 1, 2994, 3, 886, 1462, 66, 668, 14], [1169, 2, 1463, 164, 105, 146, 669, 3, 670, 423, 671, 10, 213, 251], [118, 95, 24, 389, 2995, 1, 119, 183, 2996, 3, 2997, 80, 2998, 80, 2999, 45, 35, 3000], [29, 75, 3001, 10, 3002, 3, 3003, 1464, 205, 3004, 3005, 1251, 3006, 3007, 42, 4, 3008, 28, 5, 3009], [508, 472, 292, 3010, 6, 3011, 3012, 8, 942, 165, 6, 3013, 289, 127, 382, 5, 29, 3014], [3015, 3016, 3, 3017, 881, 3018, 6, 553, 3019, 162], [408, 3020, 77, 3021, 3022, 73, 4, 36], [1140, 3023, 221, 672, 3024, 5, 3025, 3026, 212, 3027, 327, 79, 1465, 3028, 672, 3029, 1141, 135, 562, 3030, 212, 943, 327], [3031, 3032, 3, 3033, 99, 844, 6, 3034, 3035, 322, 38, 6, 214, 19, 637, 638, 639], [64, 3036, 3037, 855, 286, 15, 3038, 3039, 278, 13, 3040, 3041, 1, 229, 1466, 89, 142, 203, 286, 108, 1081, 155], [3042, 13, 5, 17, 40, 91, 103, 6, 437, 1467, 1467, 193, 45, 404, 3043, 9, 56, 96, 1468, 2, 53, 1469, 23, 46, 179, 437, 23, 108], [381, 654, 4, 944, 3044, 121, 22, 424, 113, 944, 3045, 1470, 944, 945, 196, 1471, 4, 3046], [8, 67, 202, 3047, 209, 12, 268, 16, 15, 335], [24, 56, 96, 6, 3048, 7, 626, 1, 3049, 11, 49, 38, 99, 580, 491, 277, 1, 285, 478, 94, 6, 214], [1472, 946, 1472, 3050, 3051, 947, 93, 3052, 3053, 1473, 83, 948, 3054, 143, 1474, 3055, 3056, 947, 3057, 143, 3058, 1474, 949, 3059], [3060, 3, 1157, 37, 50, 4, 3061, 13, 123, 5, 9, 205, 92, 39, 503, 3062, 3, 1475, 16, 121, 60, 88, 3063, 18, 16, 258, 3064], [2, 48, 48, 474, 1476, 48, 838, 157], [142, 3065, 90, 20, 3066, 456, 950, 34], [3067, 3068, 2, 3069, 1329, 6, 3070, 3071, 3, 63, 10, 2, 77, 493, 1477, 2, 1478, 3072, 3, 3073], [26, 115, 3074, 1, 54, 673, 125, 3075, 1327, 5], [140, 302, 1, 1357, 1479, 2, 1480, 3076, 3, 646, 3077, 674, 3078, 92, 796, 951, 222, 9, 675, 503, 3079, 3080, 19, 3081, 3082, 9], [468, 89, 3, 798, 799, 585, 586, 587, 800, 11, 291, 63, 4, 292, 588], [676, 3083, 130, 3, 1481, 2, 310, 1482, 3, 338, 20, 128, 15, 522, 5, 9], [3084, 12, 90, 71, 3085, 952, 34, 857], [1483, 3, 28, 480, 3086, 5, 17, 493, 953, 286, 50, 1459, 7, 3087, 677, 349, 8, 116, 1, 285, 942, 76, 3088, 3089, 349, 17, 219, 12, 96, 13, 336, 114], [37, 1, 3090, 3091, 3092, 7, 3093, 131, 3094, 130, 1, 3095, 3096, 505, 55, 3097, 1484, 1484, 14, 1485, 1486, 1486, 3098, 147, 678, 1, 115, 328, 505, 55], [63, 3099, 3100, 8, 3101, 3102, 7, 291, 91, 1487, 5, 529, 670, 25, 7, 1488, 3103, 1487, 5, 572, 3104], [378, 3105, 232, 509, 18, 46, 34], [1217, 1489, 12, 1490, 5, 22, 140, 1491, 15, 1255, 14, 129, 532, 15, 3106, 6, 3107, 5, 954], [492, 228, 457, 3108, 3109, 100, 1492, 374, 6, 184, 411, 3110, 228, 31], [3111, 1493, 501, 28, 5, 64, 679, 3112, 6, 1494, 3113, 3114, 18, 52, 5, 33, 15, 295, 42, 7, 3115, 23, 16, 371, 8, 23, 3116], [169, 90, 42, 1419, 4, 5, 48, 955, 39, 677, 14, 3117, 1230, 41, 1416, 25], [125, 45, 1495, 6, 100, 5, 125, 26, 1496, 371, 3118, 5, 125, 3119, 3120, 3121, 5, 125, 1292, 50, 259, 5, 3122, 271, 1497, 5, 31], [26, 1498, 21, 239, 73, 4, 36, 12, 522, 13, 598, 1381, 6, 3123, 648, 590, 3124, 239, 129, 172, 3125, 48, 405, 4, 66, 3126, 31], [956, 3, 1499, 5, 1500, 2, 10, 82, 1, 54, 71, 7, 1068, 59, 20, 10, 90, 227, 59], [392, 255, 3127, 131, 21, 17, 48, 3, 3128, 117, 783, 131, 14], [12, 22, 40, 317, 593, 3129, 471, 418, 3130, 3131, 99, 1414, 3132, 1301, 3133, 181, 3134], [82, 115, 47, 2, 1501, 6, 3135, 280, 18, 46, 34, 20, 115, 312, 1502, 7, 70, 70, 3136, 203, 16, 1, 1333, 557, 46, 34], [793, 13, 64, 79, 957, 3137, 172, 8, 33, 479, 472, 23, 746, 1503], [3138, 3139, 85, 3140, 18, 122, 32], [3141, 3142, 1, 832, 1, 68, 1504, 3143, 5], [62, 215, 62, 6, 186, 63, 1, 86, 379, 3144, 244, 63, 4, 15, 1131, 6, 184, 3145, 167, 425], [28, 39, 51, 3146, 3147, 4, 243, 3148, 14, 147, 3149, 132, 3150, 122, 12, 3151, 16, 3152], [958, 680, 3153, 3154, 1505, 96, 680], [165, 4, 120, 1, 54, 134, 252, 163, 190, 817, 1219, 6, 598, 1220, 6, 188, 117, 13, 1221, 16, 120, 1222, 818, 1223], [378, 3155, 1257, 27, 13], [176, 3156, 295, 10, 925, 8, 297, 7, 358, 286, 850, 454, 24], [3157, 252, 65, 134, 252, 11, 3158], [44, 433, 182, 10, 3159, 674, 915, 3160, 203, 3161, 9, 524, 434, 1506], [3162, 6, 1158, 3163, 12, 181, 52, 166], [1507, 643, 561, 20, 328, 939, 16, 1508, 8, 255, 681, 298, 3164, 4, 1509, 3165, 48, 280, 23, 225], [14, 883, 22, 3166, 808, 11, 1510, 178, 40, 75, 857], [1511, 1479, 61, 3, 3167, 8, 541, 1, 1335, 3, 3168, 3169, 21, 67, 42, 233, 3170, 3, 1512, 7, 3171, 682, 21, 3172], [1442, 368, 57, 16, 414, 387, 229, 683, 3173, 1513, 7, 3174, 152, 519, 5, 17, 229, 97, 3, 3175, 7, 86, 675, 3176, 1514, 46, 34], [852, 735, 205, 269, 7, 79, 72, 1497, 6, 576, 684, 1515, 1515, 6, 1516, 684, 19, 130, 130, 6, 576, 684, 354, 30, 216, 355], [1517, 3177], [140, 387, 264, 30, 412, 287, 14, 351, 30, 354, 30, 216, 355, 10, 352, 3178, 343, 829, 1518, 2, 4, 18, 34, 1519], [48, 14, 204, 3179, 148, 5, 204, 3180, 9], [3181, 107, 1, 124, 115, 24, 3, 156, 1, 139, 774, 959, 6, 3182, 3183, 57, 220, 461, 3184, 11, 960, 961], [3185, 1409, 685, 3186, 313, 2, 3187, 3, 500, 98], [30, 962, 219, 3188, 8, 3189, 3190, 1501, 3, 963, 678, 3191, 1520, 415, 1098, 940, 3192, 8, 686, 1, 3193, 6, 29, 403, 3194, 9], [964, 20, 3, 222, 3195, 327, 3196, 222, 3197, 3198, 327, 20, 1, 3199, 60, 3200, 1, 3201, 20, 3, 3202, 3203, 327], [921, 3204, 387, 229, 10, 3205, 965, 3206, 46, 159, 1272, 4, 278, 94, 196, 606, 236, 128, 133, 1273, 1, 68, 322, 3, 158, 966, 5], [1521, 3207, 2, 377, 1, 54, 3208, 3209, 6, 660], [3210, 3211, 1522, 3212, 3213, 1, 3214, 4, 895, 487, 55], [1173, 1523, 3215, 1, 54], [263, 211, 909, 554, 3216, 410, 25, 3, 156, 1, 139, 602, 3217, 263, 211, 909, 410, 25, 1266], [1344, 199, 24, 1, 967, 4, 37, 3218, 422, 296, 5, 9], [364, 109, 844, 1, 139, 49, 117, 13, 110, 3219, 47, 10, 722, 723, 3220], [176, 24, 159, 56, 1, 843, 118, 95, 968, 35, 3221], [308, 231, 1, 3222, 2, 3223, 38, 4, 22, 969, 3224, 1524, 2, 500, 34, 102, 26, 3225, 417, 970, 970], [88, 147, 3226, 6, 3227, 5, 17, 180, 151, 29, 150, 14, 1525, 30, 10, 318, 180, 266, 5, 51, 165, 7, 3228], [24, 3, 207, 4, 3229, 1526, 3, 107, 256, 2, 1527, 905, 14], [3230, 20, 68, 3231, 14, 17, 426, 1528, 2, 14, 1529, 2, 552, 971, 3232, 550, 3, 128, 12, 74, 1530, 854, 100, 653, 11, 3233, 645], [170, 2, 94, 65, 539, 228, 2, 741, 335, 32, 118, 95, 582, 220, 461], [972, 83, 3234, 3235, 3236, 208, 3237, 160, 3238, 3239, 3240, 3241, 3242, 3243, 373, 3244, 314, 972, 373, 160], [73, 4, 36, 3245, 58, 12, 253, 2, 3246, 1531, 178, 18, 954], [452, 3247, 3248, 1532, 1, 1533, 2, 725, 4, 503, 125, 1534], [1535, 3249, 3250, 16, 1535, 1495, 1317, 653, 6, 21, 218, 3251, 191, 1294, 95, 10, 61, 69, 1, 120, 7, 818, 3252], [170, 250, 3253, 283, 3254, 498, 6, 372], [1536, 1537, 21, 3255, 71, 3, 3256, 39, 21, 3257, 2, 21, 9], [3258, 24, 3259, 107, 97, 1538, 3260, 3261, 230, 3262, 3263, 3264, 156, 3, 1539, 3265, 39, 3266, 3267, 3268], [125, 15, 12, 3269, 5, 426, 687, 1, 90, 3270, 5, 33, 3271, 3272, 649, 177, 1540, 9, 9], [3273, 738, 1, 1067, 2, 569, 864, 1, 120, 4, 833, 49, 1312, 742, 353], [67, 600, 1, 446, 1541, 3274, 209, 12, 246, 3, 18, 951, 3275], [973, 12, 193, 309, 14, 19, 688, 229, 1542, 973, 5, 572, 45, 973, 94, 11, 3276, 8, 3277, 94, 11, 1160, 5, 102], [44, 105, 97, 170, 3278, 3279, 3, 363, 1065, 679, 57, 293, 3280], [61, 689, 189, 40, 7, 261, 8, 3281, 786, 3282, 772, 549, 136], [3283, 1543, 261, 974, 1544, 1545, 427, 1546, 499, 1547, 1548, 1549, 169], [37, 3284, 3285, 333, 271, 169, 304, 7, 304, 7, 20, 271, 3, 37, 33, 1078, 655, 3286], [7, 1250, 49, 13, 71, 509, 1550, 32], [180, 975, 109, 253, 1, 664, 70, 600, 1165, 121, 14, 9], [3287, 1551, 19, 20, 54, 17, 29, 690, 2, 3288, 8, 3289, 2, 1552, 280, 682, 21, 9, 137, 74, 542], [3290, 623, 976, 3, 53, 3291, 1553, 3292, 3293, 3294, 3295, 61, 69, 691, 493, 1073, 2, 3296, 3297, 141, 4, 802], [520, 600, 26, 3298, 5, 9, 3299, 3300, 977, 6, 1200, 3301, 1554, 8, 548, 3302, 78, 3303, 14, 9], [3304, 3305, 3306, 208, 3307, 1555, 3308, 3309, 3310, 946, 3311, 3312, 208, 1555, 1556, 3313, 3314, 1557, 3315], [195, 1558, 3316, 19, 1559, 134, 3317, 3318, 48, 5, 147, 134], [41, 25, 109, 7, 3319, 1478, 1164, 3, 3320, 1560, 3321, 259, 18, 98, 81, 978, 3322, 899, 466, 1, 86, 268, 4, 158, 692, 31], [88, 26, 411, 265, 144, 3, 1561, 3323, 16, 123, 14], [118, 95, 138, 276, 2, 3324, 8, 3325, 452, 6, 3326, 85, 32, 19, 863, 112, 3327, 94, 3328, 102], [1562, 1563, 1523, 1, 1345, 1564, 3329, 3330, 6, 1084, 510, 451, 923, 3331, 340, 10, 3332, 1563, 3333, 3334], [63, 133, 916, 1565, 315, 2, 751, 1566, 5, 488, 353], [161, 218, 7, 70, 1567, 5, 254, 893, 27, 13], [44, 3335, 469, 2, 105, 282, 499, 414, 454, 307, 146, 97, 1453], [3336, 820, 10, 82, 128, 3337, 4, 833, 49, 3, 5, 29, 1504, 666, 5, 488, 353], [205, 979, 21, 511, 176, 693, 41, 25, 6, 1568, 3338, 3339, 728, 22, 37, 511, 1569, 252, 196, 21, 102, 356, 3340, 15, 3341, 258, 2, 21], [1470, 53, 694, 72, 1570, 79, 3, 53, 694, 72, 1570, 209, 21, 9, 137, 74, 542], [33, 15, 295, 20, 381, 3342, 2, 23, 121], [963, 6, 78, 1571, 225, 5, 3343, 6, 3344, 397, 298, 678, 3, 49, 5], [263, 616, 3, 3345, 99, 1562, 3346, 2, 1572, 952, 55, 3347, 863], [214, 116, 536, 434, 3348, 889, 536, 133, 1133], [124, 223, 3349, 192, 8, 1573, 761, 3350, 60, 37, 151, 3351, 111], [293, 97, 146, 282, 3352, 3353, 8, 3354, 1574, 795, 3355, 2, 1575, 3, 3356, 61, 3357], [140, 421, 241, 264, 30, 412], [1576, 1576, 281, 980, 981, 6, 3358, 980], [468, 89, 3, 585, 586, 587, 3, 3359, 1340, 1, 139, 1577, 3, 826, 2, 1578], [350, 689, 1579, 379, 244, 4, 33, 510, 43, 12, 90, 42, 3360, 85, 9, 1318, 30], [112, 1, 184, 1, 86, 120, 1, 453, 3361, 562, 3362, 124, 496, 131, 51, 3363], [226, 3364, 1526, 6, 366, 5, 17, 29, 70, 3365, 4, 78, 3366, 14, 19, 3367, 1, 139, 401, 1, 54, 310, 3368, 7, 1400, 319, 1580], [134, 23, 315, 65, 1581, 150, 14, 3369, 39, 133, 13, 3370, 29, 1581, 3371, 3372, 3373, 41, 3374, 25], [1582, 623, 3375, 554, 1091, 35, 1, 3376, 546, 632, 1582, 3377, 144, 10, 289, 374, 2, 3378, 2, 4, 3379, 3380, 278, 3381], [982, 28, 49, 1397, 695, 21, 9, 1583, 3382, 153, 50, 983, 695, 13, 9, 179, 753, 100, 607, 11, 129, 1254, 125, 2, 1584, 4, 321, 3383, 9], [28, 3384, 8, 3385, 3386, 378, 27, 3387], [1505, 96, 1, 369, 79, 834, 16, 628, 1281, 202, 3388, 249, 3389, 198, 178, 34, 17, 1585, 18, 46, 34, 17, 318, 214, 1586], [382, 79, 58, 17, 3390, 58, 3391, 1, 68, 37, 382, 3392, 1368, 1, 953, 1587, 9, 239], [408, 26, 306, 3393, 306, 306, 13, 339, 9], [1588, 1, 881, 11, 3394, 1229, 110, 273, 7, 88, 3395, 3396, 52, 1461, 101, 1, 489, 608, 2, 176, 984, 3, 1589, 203], [298, 53, 3397, 18, 16, 329, 3398, 4, 47, 465, 31], [537, 631, 370, 3, 657, 6, 1590, 1591, 8], [3399, 260, 8, 497, 1, 116, 45, 788, 8, 3400, 3, 1592, 1166, 85, 1593, 268, 15, 73, 4, 36, 104, 149, 5], [244, 3, 1594, 3401, 3402, 15, 1595, 23, 487, 3403, 6, 1592, 3404], [657, 4, 3405, 1551], [120, 1, 1596, 11, 3406, 512, 3407, 23, 3, 46, 19, 91, 103, 3, 3408, 69, 91, 103, 364, 126, 89, 182, 10, 31], [676, 165, 1, 79, 42, 53, 3409, 3410, 3, 3411, 552, 155, 332, 2, 1597, 3412, 405, 3413, 8, 866, 1598, 46, 19, 29, 3414], [670, 423, 3, 105, 146, 3415, 10, 1599, 164, 2, 105, 394, 57, 3416, 1600, 59], [186, 2, 161, 255, 70, 3417, 2, 1601, 123, 451, 241, 10, 309, 89, 182, 10, 3418, 8, 57, 57, 10, 1435, 3419, 3420, 82, 6, 1602, 71, 1, 285, 5], [477, 3421, 3422, 477, 1603, 1604, 610, 37, 116, 40, 3, 1605, 3423, 904, 397, 13, 682], [76, 3424, 3425, 5, 132, 501, 13, 3426, 390, 428, 3427, 117, 210, 428, 13, 235], [56, 96, 626, 1, 1321, 11, 414, 5, 1322, 3, 303, 1323, 14, 488, 353], [3428, 311, 614, 3, 964, 2, 266, 52, 1231, 3429, 1367, 3430, 1597, 3431, 6, 3432, 50, 1519], [112, 109, 8, 732, 19, 3433, 13, 9], [1606, 1607, 1608, 1408, 3434, 160, 9, 947, 1170, 145, 3435, 373, 1609, 538, 194, 3436, 9, 3437, 985, 3438, 740, 194, 3439, 3440, 160, 696, 3441, 3442, 1609, 194, 3443, 3444], [1610, 498, 4, 3445, 3, 646, 819, 674, 3446, 3447, 3448, 3449, 293], [3450, 3451, 3452, 3453, 3454, 83, 3455, 3456, 3457, 267, 696, 3458, 145, 538, 175], [279, 141, 1, 86, 28, 37, 3459, 1245, 3, 3460, 15, 3461, 32, 3462, 4, 36], [1507, 90, 48, 187, 266, 225, 129, 120, 4, 112, 3, 416, 90, 3463, 225], [20, 3464, 1, 508, 65, 4, 3465, 12, 2, 43, 697, 656, 178, 102], [3466, 3467, 383, 90, 3468, 1611, 3469, 1612, 6], [24, 308, 231, 348, 6, 28, 3470, 3471], [3472, 698, 391, 141, 3473, 2, 3474, 835, 3475, 986, 1, 3476, 883], [364, 109, 20, 3477, 2, 5, 26, 306, 375, 982, 8, 807, 38, 2, 3478, 23, 85, 311, 982], [39, 588, 154, 3479, 388, 900, 12, 29, 3480, 388, 3481, 289, 81, 212, 3482, 12, 3483, 3484, 72, 3485, 52], [3486, 138, 276, 341, 167, 103, 264, 189, 3487, 35, 288, 2, 3488, 875, 72, 1584, 4, 821, 500, 34, 137, 74, 167], [591, 392, 987, 10, 492, 358, 6, 508, 3489, 3490, 394, 57, 679], [44, 118, 95, 3, 1087, 3491, 3492, 745, 3493, 3494, 1, 3495, 3496, 3497], [663, 2, 221, 1270, 513, 26, 4, 868, 1, 988, 1, 1613, 7, 569, 234, 141, 627, 514, 98], [3498, 3499, 3500, 3501, 3, 1614, 1118, 5], [724, 4, 2, 3502, 989, 38, 99, 3503, 3504, 3505, 1615, 3506], [3507, 3508, 1616, 3509, 1430, 3510, 76, 990], [3511, 28, 254, 3512, 3513, 3514, 3515, 7, 991, 991, 2, 3516, 1, 57, 3517, 3518, 3519, 90, 81, 259, 104, 131, 1617, 3520, 7, 3521, 1, 57, 52], [1618, 975, 10, 362, 4, 73, 6, 431, 508, 4, 1619, 12, 470, 934, 518, 1620, 11, 165, 10, 3522, 773, 114, 5, 1621, 1622, 3523, 2, 1621], [148, 80, 38, 11, 159, 56, 1, 899, 992, 992, 16, 3524], [303, 104, 13, 123, 303, 1623, 5], [993, 911, 3525, 83, 3526, 208, 473, 83, 230, 3527, 208, 1624, 3528, 1625, 699, 314, 1557, 1626, 3529, 1627, 208, 3530, 1628], [41, 25, 3531, 1629, 3532, 3, 1630, 11, 684, 3533, 3534, 118, 95, 1, 3535, 257, 165, 3536, 3537, 3538, 121, 9], [151, 61, 69, 2, 1342, 750, 4, 116, 6, 994, 3539, 22, 158, 149, 12, 191, 118, 3540], [303, 3541, 3542, 4, 13, 641, 19, 1631, 66, 38, 4, 641, 21, 19], [700, 40, 3543, 5, 17, 3544, 131, 5, 3545, 3546, 758, 3547, 3548, 3549, 80, 18, 34], [26, 4, 868, 513, 1, 988, 1, 757, 11, 3550, 7, 1527, 234, 141, 835, 122, 32], [25, 109, 1, 666, 3551, 1, 545, 2, 3552, 98, 742, 1543], [521, 6, 3553], [404, 315, 1, 68, 3554, 1537, 3555, 3556], [3557, 1542, 611, 5, 102, 50, 3558, 1632, 11, 50, 3559, 1632, 11, 50, 6, 84, 3560, 3561, 1, 3562, 3563, 3564, 3565], [1267, 456, 199, 10, 3566, 3567, 1, 100, 4, 414, 1053, 7, 3568, 454], [3569, 3570, 290, 1, 3571, 3572, 1, 3573, 3574, 435, 1111, 3575], [3576, 3577, 1606, 995, 314, 996, 3578, 1633, 93, 3579, 194, 3580, 3581, 267, 1633, 83, 3582, 175, 996, 430, 83, 1634, 3583, 3584, 3585], [3586, 997, 3, 1635, 193, 3587, 1636, 3588, 6, 1602, 830], [3589, 10, 3590, 8, 1258, 1, 1463, 1637, 2, 3591, 3592, 1, 298, 1564, 7, 53, 1638, 3593], [666, 3594, 180, 1480, 370, 2, 3595, 5, 20, 10, 12, 644, 33, 1089, 13, 152, 20, 10], [64, 30, 204, 1639, 604, 5, 3596, 3597, 390, 100, 1298, 3598, 204, 841, 3599, 5, 8, 329, 3600, 33, 3601, 13, 9, 789], [67, 56, 96, 1468, 4, 437, 3602, 98, 12, 28, 3603, 348, 3604, 187, 385, 3605, 64, 623, 3606, 62, 447, 1, 458, 680, 122, 98], [351, 30, 354, 30, 216, 355, 10, 3607, 65, 19, 20, 1, 3608, 736, 3609, 8, 20, 1, 3610, 11, 998, 3611, 5, 8, 352, 17, 29, 312, 3612, 14, 308], [701, 41, 701, 3613, 255, 53, 3614, 3615, 53, 3616, 18, 951, 3617, 383, 13, 18, 149, 1, 999, 887, 978, 84, 22, 110], [1640, 1433, 20, 11, 907, 950, 34, 19, 147, 3618, 4, 1641, 3, 614, 5, 28], [3619, 4, 1642, 6, 661, 12, 40, 397, 79, 3620, 16, 512, 110, 14, 40, 117, 400, 989, 13, 3621, 3622, 35, 151, 253, 3623, 6, 27, 5, 1434, 997, 3624], [140, 302, 10, 1643, 76, 3625, 1, 100, 3626, 828, 3627, 2, 1000, 3628, 338, 1, 86, 1509, 46, 142, 621, 3, 640, 278, 38, 273, 7, 108, 3629, 3630, 3631], [88, 26, 548, 450, 61, 450, 5, 67, 33, 188, 4, 3632, 1, 381, 66, 16, 119, 12, 3633, 3634, 2, 702, 837, 3635, 3636, 61, 5, 102], [66, 15, 26, 316, 150, 14], [33, 3637, 33, 3638, 33, 1644, 13, 3639, 3640, 3641, 2, 357, 3642, 6, 1458, 5], [81, 50, 7, 28, 3643, 1645, 17, 47, 20, 1, 300, 3644, 14, 1646, 75, 40, 6, 3645, 245, 16, 462, 3646, 227, 1001, 14, 1503], [2, 246, 6, 1421, 43, 3647, 90, 23, 77], [1302, 1303, 1304, 1305, 1306, 93, 1307, 3648, 1308, 93, 1309, 175, 3649, 3650, 93, 1310, 3651, 3652, 208, 93, 3653, 3654, 1625], [1647, 3655, 35, 3656, 2, 419, 3, 3657, 92, 1510, 131, 135, 1647, 250, 783, 307], [67, 29, 111, 4, 408, 235, 5, 12, 29, 651, 132, 13, 3658, 34, 8, 132, 651, 3659, 13, 3660, 464], [317, 1072, 3661, 3662, 3663, 12, 3664, 130, 3665], [305, 3666, 3667, 3668, 3669, 4, 1319, 1648, 634], [564, 737, 1002, 2, 3670, 8, 1649, 3, 1650, 230, 75, 3671, 1276, 531, 237, 3672, 3, 257, 4, 101, 2, 140, 3673, 3, 1651, 1, 3674, 11, 3675, 3676, 131], [890, 179, 655, 375, 3677, 131, 5, 19, 37, 25, 109, 7, 15, 428, 153, 1203], [260, 3, 248, 2, 358, 3, 311, 162, 260, 3, 340, 10, 248, 11, 601, 3, 311, 162, 31], [7, 292, 319, 872, 37, 1652, 419, 605, 7, 39, 190, 71, 3678, 17, 3679, 3680, 3681, 3682, 4, 113, 1296, 22, 87, 300, 1498, 54, 3683, 80, 16, 17], [343, 1445, 1653, 3684, 3, 207, 4, 610, 3, 101, 466, 2, 3, 131, 3685, 3, 1385, 3686, 1654, 43, 2, 1654, 43, 31], [81, 1003, 3687, 76, 122, 3688, 12, 1003, 1420, 65, 7, 1591, 153, 166, 522, 3689, 5, 9, 28, 49, 1646, 656, 149, 5, 39, 1003, 1227, 5, 9], [111, 703, 129, 511, 37, 2, 22, 16, 149, 43, 102], [3690, 1655, 175, 3691, 1004, 93, 3692, 3693, 912, 3694, 83, 1216, 3695, 3696, 143, 3697, 1655, 175, 3698, 3699, 1057, 3700, 175, 3701, 3702, 3703, 9], [3704, 3705, 430, 83, 3706, 3707, 3708, 314, 430, 83, 3709, 208, 3710, 3711, 160, 314, 3712, 1005, 985, 3713, 3714, 3715, 3716, 3717, 1656, 1656], [101, 2, 173, 176, 1006, 3, 3718, 215, 62, 8, 24, 308, 231, 420, 3719, 35, 5, 3720, 6, 3721, 6], [3722, 10, 1657, 3723, 3724, 1427, 1460, 3725, 448], [1617, 1658, 5, 218, 271, 845, 3726, 1, 1658, 4, 1659, 1, 57, 3727, 12, 1660, 3728, 14, 42, 4, 3729, 27, 3730, 3, 3731, 4, 1659, 1, 57, 52], [158, 692, 174, 135, 13, 1001, 111, 12, 1007, 956, 110, 174], [13, 2, 3732, 13, 3733, 151, 945, 235, 43, 300, 3734, 196, 3735], [202, 1127, 58, 3736, 1661, 24, 1662, 3737, 1, 1661, 3, 5, 19, 179, 259, 13, 509, 4, 9], [1008, 3738, 61, 23, 3739, 3740, 621, 23, 1663, 3741, 12, 3742, 23, 3743, 3744, 3745, 53, 570, 23, 1663, 507, 1009, 3746, 31], [302, 1, 100, 3747, 6, 5, 1664, 3748, 275, 3749, 132, 3750, 1, 523, 20, 6, 247, 3751, 18, 13, 149, 137, 74, 167], [44, 1643, 3752, 3753, 146, 105, 97, 3754, 3755, 3756, 162], [1665, 354, 30, 216, 72, 3757, 355, 1, 1666, 963, 3, 284, 4, 27, 681, 3758, 570, 8, 533, 65, 622, 8, 42, 2, 42, 1, 3759, 6, 3760, 634], [211, 107, 24, 1, 139, 156, 3, 3761, 555, 3762, 422, 11, 507, 131], [348, 231, 29, 144, 5, 3763, 3764, 1, 1175, 154, 3765, 3766, 3, 128, 3767, 96, 704, 704, 1573, 3, 128, 190, 1571, 1667, 123, 5], [20, 1668, 6, 3768, 48, 918, 21, 73, 4, 36], [3769, 19, 3770, 872, 41, 25, 1, 84], [544, 1644, 3771, 254, 3772, 42, 3773, 1, 3774, 39, 1669, 15, 155, 8, 419, 15, 39, 169, 8, 3775, 6, 3776], [466, 3, 3777, 6, 3778, 511, 176, 1, 3779, 11, 1010, 3780, 472, 16, 1619, 307, 25, 97, 40, 502, 1077, 705, 238], [3781, 2, 3782, 1670, 7, 379, 933, 1, 86, 91, 1011, 287, 14, 504, 7, 3783, 38, 2, 3784, 262, 1012, 5, 9], [112, 1671, 10, 39, 3785, 3786, 58, 89, 63, 1, 54, 29, 495, 3787], [2, 3788, 747, 747, 1, 1013, 3789, 43, 9], [1466, 3790, 1568, 3791, 1672, 3792, 19, 3793, 3794, 19, 3795, 3796, 3797, 28, 71, 1177, 73, 4, 36, 2, 706, 3798, 18, 3799], [8, 39, 90, 36, 23, 876, 1, 1673, 952, 31, 142, 15, 3800, 1674], [219, 88, 424, 629, 17, 20, 3801, 1675, 3802, 3803, 6, 3804, 15, 5, 971, 2, 157, 1657, 5, 157], [670, 423, 671, 10, 105, 146, 669, 671, 7, 1600, 59], [78, 78, 1199, 47, 10, 12, 1443, 1676, 5, 40, 4, 157], [948, 1677, 143, 3805, 3806, 3807, 3808, 859, 3809, 1556, 707, 996, 3810, 948, 1677, 208, 995, 3811, 267, 3812, 3813, 3814, 3815, 3816, 1678, 3817, 1678], [61, 3818, 42, 240, 1, 68, 3819, 5, 9, 3820, 6, 201, 5, 3821, 65, 1014, 6, 3822, 1629, 3823, 5], [3824, 2, 3825, 4, 895, 377, 1, 54, 873, 660, 834, 59, 3826, 3, 3827, 7, 1015, 965, 300, 1679], [185, 3828, 246, 92, 3829, 85, 98, 3830], [1680, 1680, 3831, 3832, 3833, 1452], [620, 10, 3834, 1681, 94, 11, 851, 1, 139, 3835, 344, 16, 59], [708, 51, 920, 1176, 14, 169, 3836, 3837, 53, 709, 14, 1475, 1682, 1369, 19, 1682, 3838, 1016, 3, 14, 3839, 202, 33, 13, 3840, 3, 3841, 936], [189, 3842, 187, 97, 22, 49, 21], [3843, 136, 19, 612, 2, 259, 924, 3844], [3845, 3846, 314, 3847, 3848, 93, 3849, 3850, 1683, 143, 3851, 194, 949, 3852, 143, 3853, 3854, 1683, 3855, 1187, 3856, 3857], [47, 265, 144, 4, 45, 3858, 1637, 7, 80, 668, 14, 710, 425], [3859, 7, 272, 3860, 186, 2, 227, 59, 52], [711, 3, 1684, 8, 3861, 1684, 31, 35, 3862, 775, 3, 207, 4, 22, 3863, 3864, 1685, 5], [101, 1, 3865, 608, 2, 176, 984, 3, 1589, 203], [62, 215, 62, 7, 1290, 3, 33, 482, 13, 1291, 3866, 20, 306, 193, 27, 409, 18, 17, 272, 104, 1293, 32, 316, 3867, 409, 72, 619, 18, 17, 104, 55], [148, 80, 38, 11, 159, 56, 1, 1686, 701, 934, 3868, 935, 294, 75, 15, 807, 16, 121, 14, 39, 115, 328, 28, 206, 110, 60, 31], [90, 270, 3869, 463, 900, 39, 1456, 58, 23, 1687, 3870, 3871, 1, 1283, 3872, 19, 479, 210, 3873, 428, 3874, 8, 1017, 1679], [47, 10, 45, 1688, 3, 1325, 1013, 45, 3875, 11, 3, 5], [3876, 7, 426, 4, 3877, 319, 3878, 9], [1060, 432, 1, 1061, 1, 54, 1062, 1063, 1064, 3879, 3880, 1465, 1689, 2, 1690, 676, 75, 45, 403, 1, 31], [1691, 3881, 6, 3882, 12, 3883, 3884, 24, 3, 3885, 4, 326, 6, 5, 1018, 54, 200, 1638, 3886, 13, 18, 3887], [64, 3888, 64, 3889, 323, 3890, 166, 1019, 3891, 3892], [445, 3893, 3894, 30, 216, 3895, 355, 11, 3896, 1376, 1516, 72, 576], [172, 581, 1692, 697, 3897, 14, 102, 29, 12, 78, 1669, 14, 9, 161, 198, 27, 1693, 1693, 1020, 14], [101, 865, 441, 3898, 976, 105, 64, 1694, 691, 3899, 283, 3900], [88, 6, 3901, 3902, 3903, 163, 3904, 248, 2, 3905, 3906, 225, 192, 130, 1685], [88, 4, 888, 106, 124, 26, 1021, 640, 1, 1172, 2, 497, 2, 3907, 58], [211, 107, 11, 24, 3, 3908, 957], [1094, 659, 25, 3909, 3910, 2, 363, 3911, 299, 10, 1635, 983, 11, 193, 7, 571, 333, 3912, 299, 7, 809, 1695, 454, 618, 3913, 3914, 3915], [564, 1541, 3, 664, 3916, 3, 3917, 1696, 78, 1071, 5, 999, 3918, 45, 968, 35, 3919, 7, 3920, 5, 237, 3921], [3922, 10, 3923, 5, 111, 3924, 1, 1697, 3925, 4, 3926, 1698, 388, 2, 1558, 3927, 111, 3928, 197, 92, 70, 3929, 4, 3930, 341, 1651, 126, 1530, 3931], [551, 3932, 1, 86, 562, 3933, 6, 712, 1, 3934, 11, 3935, 50, 3936, 4, 1022, 217, 661], [2, 3937, 4, 3938, 3939, 3940, 9, 9, 79, 3941, 3942, 1699, 3943, 9, 3944, 3945, 3946, 71, 4, 3947, 3948, 2, 3949, 16, 77, 3950, 3951, 2, 3952, 9], [3953, 3954, 3955, 3956, 30, 962, 4, 1700, 3957, 53, 1469, 30, 962, 1700, 3958, 38, 163, 5, 3959], [176, 984, 1, 3960, 862, 11, 748, 52, 36, 1701, 3961, 5, 36, 1, 1023, 1211, 3962, 372, 23, 43, 1559, 198, 11, 3963, 57, 251, 85], [256, 3, 3964, 3965, 13, 877, 12, 3966, 94, 6, 515, 22, 3967, 616, 880, 5], [406, 869, 3968, 3969, 1528, 3, 3970, 869, 3971, 1662, 3972, 1529, 1, 139, 937, 938, 246, 3973, 3974, 167, 3975], [3976, 1, 3977, 3978, 504, 3, 3979, 1, 3980, 154, 3981, 3, 3982, 6, 3983, 3984, 2, 3985, 1238], [24, 2, 81, 528, 3, 1702, 1703, 21, 29, 1006, 203, 38, 7, 3986, 21, 3987, 3, 49, 21, 348, 1692, 528, 8, 1704, 2, 1336, 1371, 153, 3988, 21], [1439, 204, 1440, 2, 47, 3989, 777, 1441, 32, 81, 146, 313, 2, 122, 32, 48, 4, 3990, 335, 32, 73, 4, 36], [53, 127, 3991, 3, 128, 472, 16, 1024, 794, 119, 1, 329, 3992, 72, 1705, 92, 32, 157], [3993, 103, 3, 3994, 1706, 695, 171, 9, 1707, 3995, 7, 3996, 3997, 5, 9, 3998, 3999, 231, 10, 31], [1204, 224, 3, 1205, 470, 808, 1206, 217, 203, 181, 727, 217, 471, 37, 397, 1207, 593, 142, 35, 1208, 398, 53, 4000, 4001, 16, 4002, 43], [643, 561, 10, 206, 4003, 6, 4004, 47, 24, 658, 1, 686, 2, 1012, 13, 60, 172, 643, 1491, 4005, 1436, 6, 741, 331, 76, 4006, 1, 91, 1011, 1377, 55], [254, 612, 21, 17, 185, 200, 106, 1708, 35, 99, 1575, 119, 16, 178, 4007, 7, 310, 200, 106, 3, 136], [57, 105, 64, 6, 791, 1709, 1025, 903, 4008], [460, 2, 771, 4009, 563, 11, 745, 4010, 2, 4011, 1710, 4012, 2, 1026, 691, 4013, 4014, 531], [4015, 5, 4016, 4017, 12, 47, 4018, 85, 32, 19, 1278, 2, 711, 249, 32, 4019, 3, 4020, 64, 1521, 244], [429, 16, 39, 219, 4021, 4022, 1457, 301, 5, 132, 20, 295, 7, 47, 408, 22, 110, 60], [1696, 26, 297, 3, 4023, 2, 4024, 803, 658, 1, 68, 1511, 7, 4025, 1343, 4, 1711, 1, 68, 411, 1027, 1, 84, 4026, 7, 4027], [604, 971, 4028, 4029, 1712, 11, 452, 10, 806, 1713, 4030, 5, 4031, 4032], [1520, 749, 444, 4033, 4034, 1, 66, 7, 384, 8, 4035, 1714, 2, 22, 4036, 19, 510, 205, 94, 196, 836, 2, 731, 4037, 4038, 4039, 516, 836], [36, 183, 23, 177, 1431, 52, 4040, 218, 201, 58, 69, 4041, 52], [82, 35, 2, 96, 13, 897, 19, 268, 275, 6, 559, 1697, 697, 18, 149, 5, 102, 20, 35, 7, 71, 4, 113, 506, 829, 96, 10, 59], [4042, 4043, 163, 24, 13, 320, 179, 254, 1715, 1648, 4044, 5, 4045, 8, 4046, 84, 84, 157, 4047], [4048, 713, 7, 159, 56, 1, 466, 1, 54, 894, 4049, 4050, 95], [44, 138, 4051, 99, 4052, 7, 4053, 964], [88, 112, 109, 10, 51, 41, 25, 4, 4054, 18, 16, 8, 51, 732, 1, 1716, 2, 190, 148, 80, 16, 59, 20, 1717, 1, 4055], [156, 560, 4056, 106, 86, 233, 1382, 2, 4057, 1718, 4058], [712, 2, 941, 38, 65, 421, 7, 1028, 106, 4059, 888, 250, 4060], [44, 4061, 8, 1352, 3, 4062, 884, 11, 4063, 803, 245, 121, 14, 9, 4064], [4065, 4066, 4067, 3, 1054, 4068, 864, 7, 4069, 4, 4070, 4071], [179, 47, 10, 1719, 127, 1720, 5, 1112, 2, 4072, 6, 958, 624, 13, 179, 47, 10, 1719, 127, 1720, 5, 4073, 2, 673, 1583, 31], [481, 4074, 4075, 155, 426, 4076, 4077, 4078, 25, 15, 4079, 4080, 9], [4081, 8, 4082, 246, 702, 668, 14, 19, 1522, 25, 7, 15, 893, 1411, 1360, 448], [111, 172, 23, 104, 4083, 32, 1721, 12, 58, 90, 111, 274, 158, 1, 127, 55, 2, 4084, 4085], [44, 4086, 6, 1029, 3, 702, 163, 512, 4087], [195, 3, 884, 2, 714, 272], [177, 249, 247, 97], [359, 2, 4088, 21, 328, 288, 4089, 4090, 2, 1722, 6, 4091, 950, 4092, 31], [62, 215, 62, 7, 4093, 1723, 4094, 1724, 158, 121, 14, 19, 487, 4095, 62, 447, 870, 4096], [4097, 4, 259, 183, 495, 5, 4098], [1725, 1726, 213, 13, 114, 1725, 1726, 213, 52, 5, 136, 18, 136, 18, 136, 18], [44, 494, 4099, 7, 927, 170, 277, 4100, 1, 4101, 11, 4102, 4103], [842, 129, 4104, 4105, 4106, 1030, 2, 4107, 4108, 3, 4109, 1, 31], [606, 51, 1403, 85, 483, 396, 109, 4, 49, 110, 14], [715, 1197, 4110], [410, 25, 156, 1, 139, 26, 107, 2, 77, 905, 967, 4111, 4112, 106, 2, 124, 599, 76, 55], [4113, 1489, 1, 4114, 7, 685, 675, 685, 476, 22, 46, 34, 4115, 1727], [140, 302, 489, 206, 110, 60, 64, 302, 479, 12, 4116, 1031, 23, 459, 60, 88, 61, 10, 479, 495, 1389, 59], [2, 4117, 1, 4118, 3, 128, 470, 4119, 4120, 4121, 4122, 98, 12, 51, 259, 171, 98], [8, 356, 15, 4123, 4124, 4125, 22, 4126, 4127, 4128, 4129, 8, 975, 6, 403, 325, 174, 149, 1728, 317, 649, 692, 155, 4130, 824, 21, 42, 4131], [460, 759, 563, 11, 4132, 1, 443, 4133], [187, 109, 40, 3, 904, 75, 40, 1, 4134, 109, 3, 284, 4, 110, 14, 19, 205, 40, 1, 4135, 11, 15, 765, 4136, 1701, 238, 14], [29, 4137, 13, 4138, 17, 329, 300, 26, 1517, 15, 78, 4139, 440, 58], [37, 656, 1729, 5, 19, 4140, 1502, 7, 445, 4141, 1, 4142, 1328, 60, 40, 4143, 690, 4144, 102], [1354, 1032, 4145, 3, 442, 11, 377, 7, 4146], [1730, 1113, 261, 974, 1544, 1545, 427, 1546, 499, 1547, 1548, 1549, 169], [4147, 6, 4148, 4149, 4150, 4151, 4152, 8, 4153, 4154, 4155, 5, 9, 137, 302, 6, 4156, 136, 4157, 1731, 11, 137, 126, 376, 4, 158, 897, 5, 1311, 74], [248, 19, 635, 4158, 19, 291, 8, 635, 1732, 116, 3, 4159, 8, 840, 3, 4160, 470, 992, 4, 53, 935, 14, 9], [699, 713, 7, 370, 537, 2, 573, 3, 116, 4161, 731, 85, 9, 997, 4162, 398, 4163], [40, 3, 49, 509, 18, 966, 5, 4164, 28, 12, 4165, 1026, 27, 380, 502, 4166, 4167, 16, 966, 5, 4168], [2, 10, 4169, 17, 125, 22, 5, 4170, 4171, 4172, 701, 1567, 4173], [411, 4174, 4175, 6, 4176, 258, 7, 301, 5, 4177, 805, 10, 401, 4, 4178], [1033, 4179, 1034, 4180, 83, 1035, 93, 1036, 145, 4181, 1036, 1733, 175, 1034, 1734, 1735, 145, 1035, 373, 1736], [44, 1615, 4182, 4183, 3, 486, 674, 406, 698, 4184, 1681, 212, 14, 4185, 1116], [8, 67, 57, 220, 1737, 10, 4186, 418, 228, 539, 217, 716, 315, 12, 406, 575, 1295, 4187, 1246, 4188, 8, 129, 217, 4189, 9], [1738, 43, 429, 16, 4190, 53, 1496, 7, 2, 4191, 188, 28, 117, 23, 4192, 12], [1464, 14, 81, 4, 47, 10, 4193, 4194, 14, 312, 269, 4, 4195, 4196, 4197, 14], [4198, 737, 1002, 1, 443, 4199, 3, 1649, 4, 1650, 77, 297, 221, 4200, 283, 4201, 4202, 2, 486, 377, 15, 4203, 531, 4204, 1233, 4205, 809, 1695], [44, 221, 367, 94, 65, 494, 775, 1, 4206, 10, 4207, 4208, 11, 860, 16, 717, 153, 344, 4209], [30, 177, 617, 1285, 390, 408, 3, 64, 79, 152, 1286, 1287, 1288], [101, 4210, 4211, 4212, 72, 1201, 1, 1135, 6, 184, 9], [48, 48, 226, 48], [28, 115, 15, 224, 60, 4213, 7, 4214, 1, 4215, 687, 1490, 22, 4216, 34], [24, 156, 107, 4217, 4, 4218, 1338, 1339, 256, 4219, 10, 107, 4220, 162, 474, 5], [4221, 4222, 1739, 196, 1500, 111, 294, 90, 878, 23, 232, 239], [1013, 104, 692, 14, 4223, 125, 4, 4224, 23, 249, 269, 7, 202, 53, 4225, 4, 1586], [1740, 106, 3, 74, 2, 1553, 718, 4226, 726, 289, 11, 183, 633, 4227, 25, 3, 63, 6, 91, 4228, 76, 1, 9, 1622, 70, 1741, 4, 13, 9], [24, 2, 4229, 4230, 53, 4231, 8, 577, 7, 1742, 2, 429, 16, 261, 94, 1, 4232, 4233, 4234, 2, 714, 174, 1743, 5, 439, 426, 654, 13, 1020], [29, 254, 453, 4235, 18, 316, 1744, 519, 27, 13, 37, 744, 4, 523], [659, 1398, 660, 2, 195, 6, 4236, 4237, 4238, 1399, 4239], [957, 999, 1100, 6, 281, 22, 4240, 149, 5, 9, 127, 30, 27, 20, 35, 8, 116, 154, 190, 1745, 781, 9, 4241], [4242, 4243, 4244, 3, 526, 4245, 4246, 1746, 885, 2, 4247, 557, 55], [1747, 150, 14, 874, 1, 68, 42, 2, 158, 16, 135, 114, 23, 4248, 694], [1748, 4249, 10, 305, 13, 496, 1450, 13, 110], [410, 25, 3, 764, 1749, 602, 1, 86, 156, 7, 211, 107, 4250, 1, 54, 1539, 422, 6, 4251, 4252], [4253, 47, 4254, 3, 667, 108, 4255, 1745, 72, 4256, 6, 4257, 22, 108, 4258, 4259, 4260, 6, 4261, 242, 172, 15, 4262, 242, 17, 969, 485, 7, 4263, 22, 108, 34], [1750, 486, 4264, 92, 33, 555, 23, 4265, 12, 164, 1751, 1751, 4266, 344, 18, 301, 5], [4267, 1752, 393, 10, 89, 4268, 4269, 4270], [62, 215, 62, 6, 186, 63, 8, 379, 244, 63, 4, 4271, 6, 4272, 167, 425], [330, 1, 4273, 2, 4274, 280, 38, 11, 4275, 4276, 414, 38, 11, 1037, 1213, 810, 782], [342, 475, 2, 1375, 6, 603, 299, 636, 1694, 1247], [1010, 33, 989, 13], [4277, 37, 2, 4278, 499, 4279, 4280, 4281, 4282], [140, 146, 527, 1437, 4283, 4284, 196, 1471, 6, 4285, 15, 4286, 27, 243, 34], [1030, 261, 678, 14, 29, 75, 1525, 30, 589, 1451, 10, 449, 138, 2, 4287, 351, 421, 241, 216, 350, 6, 517, 38, 517, 1753, 1, 68, 4288, 251], [64, 30, 20, 35, 1, 1117, 41, 25, 7, 401, 463, 1192, 142, 4289, 45, 1754, 1, 285, 23, 4290, 1010, 84, 315, 3, 4291, 4292], [1755, 153, 5, 12, 172, 1280, 3, 4293, 23, 4294], [44, 91, 1011, 927, 119, 16, 1015, 4295, 85, 9, 4296], [118, 95, 109, 970, 3, 128, 53, 709, 4297, 246, 344, 85, 32], [4298, 4299, 269, 23, 4300, 268, 4301, 63, 110, 155, 4302, 715], [4303, 3, 4304, 2, 1715, 4305, 152, 20, 10, 865, 66, 235, 58, 4306, 3, 1756, 2], [763, 36, 6, 1757, 147, 592, 592, 120, 14, 73, 4, 36], [4307, 1083, 35, 3, 4308, 2, 1758, 4309, 18, 55], [298, 1412, 1, 54, 4310, 4311, 48, 4312, 1038, 209, 5], [71, 4, 357, 49, 317, 21, 418, 1, 57, 1, 2, 151, 57, 220, 1737, 4313, 1759, 317, 304, 4, 4314, 335, 9, 75, 22, 1315, 155, 4315, 8, 943, 2, 647, 481, 4316, 155], [67, 101, 8, 4317, 2, 62, 215, 62, 4318, 5, 12, 518, 71, 4, 357, 284, 265, 144, 3, 4319, 4320, 8, 4321, 186, 7, 130, 1714, 153, 5, 9], [28, 274, 4322, 1, 1675, 4323, 14, 753, 4324, 4, 22, 1757, 4325, 1129, 1021, 5], [699, 1760, 195, 224, 196, 5], [573, 4326, 4, 124, 228, 457, 1, 4327, 4328, 4329, 1550, 19, 67, 23, 212, 12, 42, 6, 4330, 15, 22, 856, 5, 4331], [101, 47, 10, 124, 24, 266, 8, 172, 24, 1007, 3, 4332, 756, 4333], [2, 10, 4334, 405, 4335, 17, 628, 4336, 78, 4337, 1448, 4338], [1761, 4339, 75, 4340, 258, 4341, 4342, 18, 55, 102], [1210, 2, 297, 892, 4343, 4, 649, 568, 14, 111, 287, 18, 186, 23, 4344], [1750, 4345], [44, 1029, 3, 702, 38, 196, 4346, 124, 504, 117, 13, 4347, 9, 921, 1762, 25], [82, 66, 1, 545, 2, 40, 4348, 13, 227, 238, 1018, 66, 7, 4349, 1429, 92, 4350, 99, 482, 153, 15, 23, 4351, 9], [839, 32, 155, 258, 54, 12, 197, 92, 1763, 705, 22, 70, 49, 11], [4352, 471, 1313, 1263, 10, 4353, 169, 1, 1764, 15, 1765, 4354, 15, 1765], [88, 4355, 78, 1119, 5], [4356, 103, 187, 360, 103, 10, 70, 4357, 4, 1241, 955, 92, 939, 4358, 8, 1766, 4359, 3, 657, 606, 16, 152, 4360], [82, 4, 33, 4361, 838, 18, 4362, 47, 7, 29, 417, 711, 27, 13, 1184], [1477, 4, 4363, 13, 1767, 19, 1768, 4364, 652, 308, 8, 4365, 4366, 11, 1332, 4367, 91, 103], [686, 4368, 1023, 1, 68, 1374, 6, 4369, 1769, 5], [4370, 4371, 1604, 4372, 4373], [4374, 282, 687, 4375, 78, 71, 51, 4376, 16, 1770, 5], [4377, 4378, 4379, 4380, 6, 4381, 4382, 8, 4383, 1027, 8, 1027, 4384, 2, 714, 235, 5, 521, 8, 1739, 1, 68, 4385], [247, 4386, 1771, 3, 1772, 21, 20, 690, 11, 39, 681, 4387, 19, 795, 4388, 1, 20, 849, 19, 1, 4389, 4390, 4391, 11, 28, 816, 21, 4392], [985, 4393, 4394, 4395, 160, 4396, 4397, 1773, 4398, 4399, 4400, 1774, 707, 4401, 754, 4402, 1773, 4403, 4404], [4405, 1379, 4406, 21, 4407, 295, 6, 79, 4408, 4409], [662, 449, 138, 4410, 52, 4411, 4412, 4413, 4, 4414, 953, 1623, 5, 4415, 4416, 113, 4, 113, 4417, 85, 8, 4418, 85, 4419], [4420, 4421, 29, 4422, 1775, 39, 1518, 189, 1, 4423, 4424, 2, 4425, 3, 4426, 257, 65, 4427, 2, 326, 3, 257, 1664, 5, 9, 28, 1775, 1524, 4, 4428, 11, 183, 728], [147, 928, 4, 4429, 5, 210, 4430, 4431, 917, 1000, 301, 5], [45, 4432, 7, 4433, 3, 998, 4, 4434], [310, 195, 4435, 1, 4436, 4, 1561, 53, 709, 91, 103, 4437, 457], [1186, 6, 956, 87, 323], [26, 1017, 693, 765, 1017, 4438, 1508, 14, 75], [4439, 169, 3, 1125, 4440, 960, 961, 4441, 117, 13, 4442], [195, 3, 4443, 2, 714, 47, 10, 13, 4444, 63, 10, 22, 402, 4445, 91, 195, 4446, 60, 29, 20, 49, 4447, 4448, 4449, 4450, 88, 29, 4451, 14], [4452, 4453, 4454, 6, 4455, 126, 348, 4456, 4457, 959, 2], [1, 4458, 1776, 6, 4459, 574, 82, 2, 4460, 4461, 4462, 8, 4463, 173, 4464, 4465, 1776, 337, 1630, 1, 846, 4466, 416, 4467, 4468, 1512], [719, 1, 4469, 456, 645, 155, 31], [4470, 21, 4471, 1, 4472, 51, 13, 4473, 15, 21, 4474, 4475, 4476, 405, 1039, 21, 9], [4477, 4478, 4479, 394, 293, 4480, 885, 4481, 4482, 4483, 1040, 546, 632], [183, 23, 339, 4484, 4485, 72, 4486, 1041, 11, 4487, 4488, 1, 622, 312, 4489, 1041, 11, 719, 2, 22, 4490, 719, 2, 22, 4491, 4492, 445, 10, 1000, 1121, 4493, 1041, 11], [127, 4494, 35, 4, 15, 4495, 65, 706, 14, 9], [359, 359, 516, 516, 74, 74, 137, 74, 167, 264, 30, 1042, 4496, 359, 516, 516, 74, 74, 137, 74, 167, 264, 30, 1042, 412], [993, 4497, 473, 811, 910, 143, 4498, 1627, 145, 4499, 949, 752, 4500, 4501, 422, 245, 506, 1], [44, 147, 469, 2, 1014, 6, 986, 403, 1580, 210], [901, 3, 4502, 1689, 23, 22, 16, 1388, 1167, 6, 4503, 5, 130, 4504, 82, 2, 1777, 913, 12, 127, 218, 1778, 5], [497, 2, 4505, 4506, 10, 24, 1, 275, 547, 362, 2, 4507, 34, 16, 1356, 1, 79, 213, 54], [41, 694, 8, 42, 1, 4508, 3, 4509, 324, 3, 46, 9, 42, 3, 1652, 4510, 6, 4511, 4512, 4513, 4, 324, 87, 9], [4514, 4515, 4516, 4517, 201, 1008, 104, 1, 461, 45, 4518, 4519, 1123, 4520, 4521, 4522, 4523, 958, 16, 1, 4524], [318, 28, 1779, 4525, 14, 157, 931, 1780, 1781], [4526, 4527, 4528, 1151, 3, 4529, 4530, 446, 1782, 15, 4531, 4, 49, 4532, 29, 173, 283, 134, 4533, 7, 11, 1783, 135, 932, 4534, 4, 4535], [483, 4536, 4537, 4538, 2, 615, 249, 2, 4539, 1043, 43, 281, 5, 29], [612, 270, 1784, 1763, 5, 82, 2, 252, 163, 70, 4540, 8, 959, 337, 789], [4541, 22, 232, 166, 520, 4542, 1785, 172, 482, 16, 321], [4543, 267, 1004, 83, 1634, 1188, 797, 4544, 4545, 817, 4546, 145, 4547, 145, 4548, 4549, 538, 4550, 194, 1004, 83, 4551, 4552, 4553], [48, 48, 474, 617, 2, 1476, 48, 4554, 4555, 617, 4556, 48, 25, 41, 23, 4557, 400], [1232, 21, 357, 558, 4558, 4559, 72, 77, 2, 4560, 21, 53, 334, 7, 4561, 247, 4562, 4, 1786, 1, 84], [351, 30, 10, 352, 111, 4, 718, 4563, 2, 51, 294, 75, 60, 332, 4, 1787, 4564, 4565, 622, 67, 254, 4566, 2, 33, 4567, 4568], [20, 1, 290, 3, 646, 77, 21, 129, 486, 151, 317, 4569, 8, 142, 1758, 4570, 1676, 203, 848, 8, 107, 4571, 4572, 418, 41, 891, 12, 325], [4573, 267, 4574, 1788, 4575, 1407, 4576, 83, 4577, 4578, 1788, 4579], [4580, 58, 79, 1778, 161, 218, 1789, 1, 4581, 1790, 1790, 192, 218, 1789, 15, 23, 123], [4582, 393, 10, 573, 57, 57, 389, 698, 4583, 4584, 163, 4, 755, 170, 277, 880, 4585, 3, 1444, 590, 16, 4586], [4587, 740, 4588, 4589, 972, 4590, 4591, 696, 4592, 1626, 143, 4593, 4594, 1005, 4595, 4596, 4597, 175, 4598, 175, 4599, 1607, 4600, 160], [630, 76, 4601, 67, 88, 420, 150, 12, 41, 25, 7, 1115, 375, 287, 17, 1104, 1791, 4602, 2, 4603, 4604, 2, 78, 4605], [35, 2, 162, 133, 1594, 1, 1716, 2, 101, 4606, 1168, 4607, 2, 4608, 4609, 1, 596, 4610], [44, 812, 2, 291, 4611, 4612, 2, 4613, 4614, 4615, 428], [265, 144, 3, 207, 4, 451, 241, 1, 139, 4616, 1723, 1706, 4617, 307, 250, 1792], [1363, 889, 87, 4618, 4619], [13, 400, 642, 4620, 6, 111, 4, 135, 49, 38, 7, 97, 1043, 21], [49, 2, 4621, 87], [29, 489, 304, 4, 1793, 222, 29, 489, 304, 4, 1793, 4622, 5, 1639, 1794, 3, 28, 39, 4623, 150, 14, 298, 27, 53, 271, 18, 168, 14, 31], [36, 4624, 1425, 71, 4, 113, 4625, 4626, 2, 4627, 301, 5, 9, 407, 288, 2, 39, 36, 178, 113, 4628, 4629, 6, 4630], [4631, 3, 305, 81, 794, 262, 2, 18, 12, 142, 715, 13, 202, 32, 27, 202, 32, 166], [35, 4, 4632, 8, 4633, 1, 1596, 1, 54, 1044, 5, 17, 310, 1482, 3, 338, 4634, 129, 4635, 3, 709, 11, 23, 4636, 142, 578, 579, 11, 338, 1386, 9], [1795, 4637, 4638, 4639, 4640, 1795, 3, 342, 475, 101, 2, 399, 3, 4641], [63, 133, 916, 1565, 315, 2, 751, 1566, 5, 488, 353], [4642, 1485, 12, 42, 4643, 4644, 4645, 3, 1405, 4646, 8, 1796, 4, 1534, 18, 16, 675, 193, 4647, 720, 459, 14, 9], [760, 36, 191, 126, 118, 95, 10, 4648, 4649, 5, 1396, 13, 9], [4650, 4651, 858, 194, 1279, 4652, 4653, 4654, 1608, 4655, 4656, 4657, 707, 1005, 4658, 430, 4659, 4660, 314, 4661, 4662, 4663, 4664], [4665, 4666, 574, 960, 961, 874, 1045, 8, 4667, 4668, 1045, 1269, 822, 4669, 85, 9], [1797, 1798, 3, 357, 133, 4670, 237, 200, 1, 636, 4671, 360, 103, 757, 16, 55, 14], [22, 50, 10, 20, 49, 11, 4672, 152, 418, 4673, 4674, 6, 4675, 1030, 115, 6, 58, 24, 2, 4676, 21, 50, 10, 1742, 325, 3, 4677], [4678, 371, 371, 371, 4679, 172, 104, 52, 12, 1708, 188, 1145, 4680], [1618, 4681, 353, 10, 24, 2, 4682, 3, 4683, 4684, 4, 124, 4685, 873, 22, 85, 98, 73, 4, 36], [191, 118, 95, 3, 207, 4, 148, 1799, 80, 38, 6, 184, 117, 22, 52, 102, 1800, 700, 1801, 1046, 2, 31], [4686, 4687, 4688, 15, 22, 4689, 700, 507, 4690, 991, 2, 90, 223, 15, 687, 346, 58], [733, 1082, 4691, 4692, 2, 1025, 4693, 1, 4694, 11, 4695, 4696, 3, 4697], [263, 176, 607, 11, 113, 4698, 1, 86, 1056, 1513, 6, 1574, 4699, 540, 4700, 8, 610, 4701, 2, 4702, 338], [708, 309, 4703, 349, 37, 4704, 18, 1802, 80, 37, 4705, 349, 37, 4706, 1803], [191, 118, 95, 3, 207, 4, 148, 1799, 80, 38, 6, 184, 117, 22, 52, 102, 1800, 700, 1801, 1046, 2, 31], [172, 548, 4707, 14, 17, 240, 6, 116, 7, 22, 515, 796, 114, 5], [663, 2, 221, 367, 513, 1462, 436, 1624, 4708, 513, 4709, 4710, 7, 1804, 234, 141, 627, 514, 98, 91, 103, 364, 126, 89, 182], [161, 4711, 4712, 4713, 108, 4714, 520, 64, 4715, 4716, 168, 13, 173, 4717, 129, 4718, 1174, 273, 1, 54, 4719], [356, 12, 125, 1702, 30, 1, 262, 2, 87, 179, 4720, 4721, 1668, 7, 1015, 23, 319, 397, 1552, 4722, 4723, 3, 4724, 4725], [53, 334, 75, 42, 1, 100, 281, 1769, 5], [534, 4726, 51, 4727, 5, 1494, 2, 4728, 4, 4729, 13, 4730, 51, 4731], [887, 4, 4732, 3, 4733, 53, 4734, 39, 1612, 7, 89, 168, 568, 32, 8, 419, 116, 46, 4735, 2, 42, 3, 1047, 4, 361], [30, 589, 4736, 6, 517, 1048, 8, 4737, 1746, 278, 1048, 4738, 189, 4739, 4740, 4741, 4742, 1805, 189, 4743, 4744, 1805, 4745], [4746, 4747, 25, 1, 490, 1, 296, 230, 490, 860, 965], [168, 4748, 112, 4749, 4750, 413, 4751, 319, 64, 102], [36, 2, 4752, 4753, 1806, 15, 4754, 4755, 347, 122, 32, 4756, 4, 36], [402, 4757, 870, 334, 232], [112, 8, 41, 6, 148, 4758, 331, 4759, 4760, 4761], [49, 49, 11, 4762, 4763, 16, 4764, 4765, 163, 4766, 1218, 6, 4767, 192, 4768], [392, 256, 199, 10, 88, 156, 1, 84, 29, 22, 5, 39, 423, 698, 4769, 1, 86, 50, 26, 164, 2, 235, 5], [73, 4, 36, 876, 196, 1744, 7, 1037, 1771, 3, 1772, 31], [4770, 29, 4771, 5, 39, 1710, 1022, 682, 5, 4772, 113, 4773, 5], [44, 240, 4774, 10, 255, 2, 1642, 8, 994, 280, 4775, 434, 1069], [1533, 3, 161, 79, 1021, 4776, 1796], [1807, 1808, 19, 1808, 1807, 4777, 550, 1, 1536, 4778, 4779, 19, 1809, 1809, 79, 3, 4780, 4781, 4782, 4783, 4784, 4785, 76, 76, 4786], [51, 644, 49, 138, 6, 223, 450, 5, 17, 106, 288, 4787, 4788, 913, 2, 1090, 5], [39, 271, 79, 75, 8, 120, 2, 1012, 716, 3, 1366, 653, 65, 369, 120, 80, 716, 11, 4789, 1297, 155, 8, 70, 4790, 1, 31], [24, 308, 231, 348, 4791, 24, 6, 4792], [504, 1, 4793, 1717, 321, 4794, 14, 9, 159, 56, 4795, 4796, 3, 237, 13, 1, 151, 70, 1024, 3, 1256, 681, 4797], [4798, 48, 1810, 4799, 108, 1811, 2, 673, 328, 254, 4800, 4801, 823, 108, 1811, 2, 673, 328], [1812, 30, 386, 1813, 350, 689, 88, 549, 136, 5, 1740, 1814, 4802, 713, 4803, 1815, 1816, 30, 1817], [1784, 4804, 763, 4805, 136, 18, 4806, 4807, 183, 485, 4, 2, 10, 4808, 58, 4809, 6, 292, 183, 137, 74, 167, 264, 30, 1042, 412], [37, 624, 247, 4, 4810, 4811, 5, 4812, 49, 1590, 4813, 92, 158, 4814, 5, 710, 425], [186, 2, 265, 144, 3, 841, 331, 4815, 246, 219, 420, 165, 6, 383, 18, 34], [88, 462, 28, 4816, 15, 4817, 1770, 242, 19, 146, 313, 2, 26, 1239, 923, 332, 65, 15, 4818, 60, 4819, 318, 444, 4820, 27, 4821, 917, 4, 9], [688, 229, 1, 1049, 4822, 72, 1049, 1666, 6, 4823, 94, 11, 1554, 4824, 906, 631, 1039, 4825, 1577, 535], [356, 4826, 12, 233, 6, 26, 27, 5, 4827, 1806, 4828, 210, 4829, 243, 4830, 4831], [191, 118, 95, 6, 120, 436, 977, 535, 38, 436, 968, 35, 177, 6, 214, 8, 41, 25, 3, 15, 120, 436, 116, 4, 4832, 315, 3, 1620], [4833, 1, 1818, 1, 4834, 16, 66, 85, 32, 455, 30, 88, 15, 4835, 87, 8, 205, 4836, 87, 455, 1819], [4837, 16, 463, 64, 147, 4838, 4839, 78, 969, 89, 5, 9, 9, 4840, 161, 772, 1262, 5, 204, 1237, 1, 4841, 3, 9, 9, 4842, 4843], [423, 3, 363, 930, 105, 146, 669, 4844, 769, 1, 1820, 1599, 164, 162, 5], [24, 4845, 967, 26, 555, 1, 506, 11, 24, 7, 4846, 422, 3, 1212, 4847, 4848, 4849, 4850, 25, 4851, 11, 4852, 1449], [695, 206, 4853, 1821, 4854, 346, 5], [491, 277, 4855, 4856, 273, 7, 228, 4857, 3, 886, 6, 567, 4858, 1120, 170, 7, 324, 926, 658, 6, 804], [186, 1, 86, 62, 215, 62, 379, 244, 63, 4, 15, 324, 18, 4859, 104, 52, 5, 17, 62, 215, 62, 768, 63, 4, 15, 324, 94, 6, 184, 848], [44, 565, 127, 4860, 2, 4861, 1804, 345, 141, 4862, 4863, 4864, 345, 141, 4865, 337, 391, 583, 345, 141, 4866, 4867], [45, 40, 7, 667, 514, 758, 383, 440, 21, 37, 15, 198, 21, 919, 45, 4868, 3, 255, 4, 8, 189, 4, 1569, 1587], [4869, 318, 4870, 258, 1050, 2, 4871, 21, 239, 356, 4872, 17, 33, 4873, 13, 58, 1026, 716, 1540], [460, 438, 4874, 234, 4, 584, 290, 7, 438, 4875, 4876, 55, 4877, 2, 438, 4878], [134, 77, 303, 1822, 134, 77, 303, 1822, 73, 4, 36], [1037, 1823, 4879, 2, 329, 296, 296, 662], [40, 7, 13, 424, 1824, 1051, 4880, 1275, 4, 877, 629, 5, 17, 30, 1754, 13, 4881, 5, 19, 20, 6, 1688, 142, 20, 1, 4882, 4883], [44, 1610, 498, 4, 1711, 1, 68, 170, 2, 4884, 4885], [77, 867, 4886, 6, 4887, 4888, 4, 4889, 16, 1755], [77, 4890, 6, 4891, 25, 8, 57, 282, 1538, 1, 1820, 1423, 1002], [1812, 30, 386, 1813, 350, 689, 88, 4892, 5, 4893, 1814, 4894, 713, 4895, 1815, 1816, 30, 1817], [1209, 2, 594, 595, 4, 230, 297, 221, 367, 18, 55, 9, 250, 1792], [1699, 5, 40, 4896], [4897, 550, 4898, 4899, 88, 729, 4900, 1762, 1, 22, 4901, 2, 4902, 155, 4903, 376, 3, 4904, 1, 4905, 4, 4906, 192, 28, 4907, 111, 4, 4908, 5, 31], [1033, 4909, 4910, 145, 4911, 4912, 4913, 4914, 83, 4915, 4916, 1036, 1733, 175, 1034, 1734, 1735, 145, 1035, 373, 1736], [676, 1785, 30, 3, 257, 4, 50, 295, 6, 4917, 559, 129, 945, 40, 1, 4918, 4919, 7, 4920, 16, 346, 5, 1259, 4921, 81, 40, 20, 4922, 2, 1690, 150, 14, 9], [4923, 4924, 4925, 2, 4926, 4927, 11, 358, 1384, 4928, 4929, 4930, 1611], [1605, 415, 4931, 359, 2, 172, 10, 65, 1670, 3, 128, 14, 17, 332, 4, 4932, 16, 4933, 12, 296, 557, 1001, 14, 4934, 4935], [1636, 360, 8, 4936, 287, 471, 954], [1665, 216, 350, 6, 4937, 2, 487, 16, 4938, 319, 15, 4939, 1631, 222, 8, 4940, 3, 257, 1007, 16, 1825, 15], [4941, 4942, 4943, 4, 492, 769, 1, 4944, 4945, 668, 14, 179, 978, 1818, 4946, 2, 4947, 13, 4948, 1039, 126, 4949], [42, 189, 4950, 4951, 1704, 3, 1413, 106, 3, 125, 4, 981, 3, 337, 115, 3, 125, 384, 5], [265, 144, 45, 4952, 1, 435, 26, 790, 3, 237, 76, 131, 5, 710, 425], [4953, 1032, 2, 330, 4954, 230, 392, 221, 367, 4955], [4956, 4957, 1531, 1, 86, 20, 10, 567, 4958, 788, 4959, 99, 4960, 2, 262, 4961, 4962, 23, 1009, 16, 4963, 1253, 4, 4964], [41, 25, 42, 165, 7, 253, 2, 119, 178, 14, 332, 99, 253, 26, 4965, 1826, 41, 25, 3, 170, 2, 1105, 78, 4966], [4967, 1749, 72, 4968, 11, 4969, 3, 311, 3, 4970, 497, 1, 4971, 1362, 10, 206, 5, 17, 29, 4972, 4973], [91, 103, 1, 404, 92, 148, 80, 13, 4974, 464, 41, 250, 4975, 31], [4976, 4977, 8, 530, 4978, 2, 4979, 4980, 1380, 33, 23, 33, 4981, 227, 346, 43, 157, 20, 35, 7, 78, 1741, 3, 1016, 5, 157], [44, 801, 393, 10, 1578, 1, 596, 64, 679, 4982, 4983, 1, 908, 4984, 582, 7, 908, 203, 38, 8, 4985, 919, 4986, 4987, 1713, 38, 6, 828, 59, 361], [402, 109, 725, 104, 4988, 4989, 4990, 1827, 4991], [4992, 72, 4993, 1828, 4994, 4995, 161, 4996, 5, 4997, 5, 223, 4998, 6, 318, 223, 1828, 5], [71, 51, 1640, 10, 27, 1721, 5, 12, 378, 151, 4999, 1079, 60, 102], [1240, 4, 78, 395, 18, 1095, 5, 9, 401, 443, 5, 9, 219, 127, 26, 530, 3, 1016, 5, 39, 26, 11, 43, 43, 8, 47, 14, 9], [1730, 89, 182, 8, 581, 231, 4, 26, 501], [347, 509, 5], [1330, 536, 40, 1401, 174], [359, 359, 2, 661, 5, 41, 25, 48, 918, 5, 73, 4, 36], [719, 2, 1747, 6, 428, 23, 1829, 1830, 81, 4, 1830, 1829, 1722, 123, 5], [97, 1252, 4, 36, 459], [1395, 38, 4, 124, 28, 12, 17, 67, 80, 181, 52, 87, 12, 483, 42, 6, 184, 117, 9, 502, 2], [6, 366, 58, 17, 24, 2, 406, 234, 4, 584, 283, 1712, 66, 286, 24, 1, 2, 1353, 6, 76, 121, 14], [2, 941, 38, 65, 421, 7, 1028, 106, 131, 19, 637, 638, 639], [530, 4, 224, 65, 330, 8, 45, 8, 15, 84, 32, 9], [1033, 1406, 83, 175, 784, 145, 912], [247, 28, 690, 72, 1493, 6, 1823, 481, 129, 1358, 7, 853, 16, 645, 14, 15, 20, 4, 18, 746, 420, 1422], [1797, 1798, 45, 27, 599, 560, 1132, 620, 2], [468, 89, 10, 206, 17, 252, 65, 37, 134, 1831, 121, 14, 67, 41, 10, 15, 89, 3, 128, 3, 209, 12, 134, 23, 1831, 114, 225], [11, 101, 3, 176, 278, 38, 1, 68, 2, 85, 8, 249, 11, 300, 50, 1], [705, 42, 7, 334, 705, 641, 1728, 10, 334, 1532, 21], [8, 558, 87, 648, 204, 2, 87, 26, 609, 72, 4, 609, 87, 6, 87], [480, 940, 5, 20, 128, 3, 362, 45, 188, 15, 322, 85, 706, 515, 18, 34, 67, 515, 166, 192, 12, 375, 339], [140, 854, 10, 352, 70, 7, 74, 1, 4, 69, 232, 117, 17, 269, 74, 6, 517, 339, 268, 1832, 6, 517, 339], [624, 1833, 94, 6, 642, 13, 710, 425], [226, 10, 253, 2, 1598, 411], [35, 2, 1050, 347, 123, 5, 19, 17, 310, 578, 1198, 6, 1834, 18, 129, 23, 75, 20, 338, 1, 139, 14, 19, 42, 1, 458, 33, 1835, 1093, 13, 14, 361], [1616, 15, 2], [665, 665], [37, 12, 127, 20, 847, 7, 1753, 1, 68, 1756, 121, 14, 112, 409, 823, 55, 166], [404, 1836, 37, 404, 1836, 2, 1076, 89], [708, 400, 13, 4, 193, 12, 51, 225, 13, 31, 415, 284, 4, 920, 261, 94, 77], [1837, 1837, 1, 347, 123, 222, 8, 115, 150, 60, 9, 26, 115, 26, 106, 1, 26, 115], [64, 333, 1040], [2, 1838, 49, 4, 724, 235, 43, 1839, 2, 71, 3, 1481, 321, 8, 1136, 1029, 235, 43, 9, 26, 180, 14, 132, 66, 3, 49, 1341, 3, 1840], [721, 293, 1014, 721, 293], [386, 1225, 6, 1841, 360, 103, 1, 68], [1, 23, 388, 1, 150, 14, 312, 1024, 1, 150, 14, 49, 209, 5, 151, 3, 198, 312, 1191, 1, 150, 14], [105, 146, 669, 99, 1455, 164, 423, 671, 10, 213, 251], [40, 7, 415, 5, 40, 407, 8, 2, 409, 72, 619, 1767], [1052, 1052, 31, 1842, 1052, 31, 703, 703, 31, 1842, 703], [23, 27, 12, 650, 5], [1672, 12, 297, 552], [84, 336, 1, 34, 135, 81, 40, 793, 32, 12, 40, 7, 315, 65, 12, 336, 32, 135, 40, 1, 84, 163], [61, 69, 118, 95, 6, 148, 933, 8, 253, 38, 7, 261, 974, 287, 14, 35], [73, 4, 36, 8, 2], [8, 11, 236, 7, 566, 331, 46, 102], [133, 12, 73, 11, 27, 14, 1365, 1, 360, 20, 383, 72, 994, 4, 14, 9, 360, 39], [88, 35, 288, 2, 341, 1832, 341, 1106, 137, 167, 103, 597, 875, 4, 821, 46, 464], [118, 95, 1, 100, 1499, 71, 7, 979, 295, 312, 35, 7, 76, 245, 52], [39, 53, 1732, 209, 14, 19, 42, 3, 1731, 11, 326, 4, 262, 225, 5, 19, 316, 415, 7, 105, 62, 976, 10, 5, 633, 1707], [101, 69, 2, 505, 990, 9], [922, 5, 180], [575, 12, 26, 48, 87, 9, 9, 9, 824, 71, 87, 88, 205], [61, 69, 688, 229, 1, 512, 6, 1268, 59, 1825, 320, 118], [1761, 105, 432, 168, 413, 395, 64, 168, 218, 251, 64, 1046, 153, 1040, 1009], [1289, 138, 11, 1387, 3, 122, 491, 277, 735, 1748], [683, 24, 711, 15, 1841, 360, 103, 1, 510, 60, 6, 3, 492, 6], [1603, 1743, 21, 12, 429, 1351, 174, 1802, 2], [351, 1, 28, 60, 206, 507, 33, 417, 1843, 3, 257, 508, 286, 49, 1843, 20, 3, 257, 1844, 27, 1020, 426, 92, 17, 417, 1777], [1844, 94, 1, 68, 890, 28, 210, 5], [125, 1845, 6, 15, 190, 27, 5, 9, 9, 9, 23, 50, 1, 224, 3, 19, 8, 23, 50, 1, 177, 6, 1154, 9], [1320, 1846, 182, 1, 592, 441, 1846, 6, 271, 845, 72, 1228, 726, 289, 154, 662, 9, 42], [511, 176, 1766, 1760, 92, 24, 8, 105, 394, 105, 11, 114, 1839, 1588, 6, 1488, 8], [44, 1579, 4, 882, 879, 6, 613, 618, 77, 283, 176, 4, 44, 2], [3, 128, 1595, 23, 7, 1047, 6, 1043, 27, 1, 1673, 15, 1840, 10, 142, 51, 23, 59], [502, 424, 5, 90, 162, 924], [294, 243, 34, 185, 9, 9, 35, 1, 100, 1492, 9, 9, 261, 18, 102], [44, 343, 274, 63, 2, 15, 986, 1446, 9, 524, 434, 1506], [126, 376, 10, 352, 5, 147, 86, 33, 445, 150, 12, 29, 74, 150, 239, 137, 74, 167], [73, 4, 122, 98], [40, 236, 11, 459, 18, 862, 8, 1006, 615, 77, 429, 251, 232, 464], [91, 10, 533, 17, 63, 11, 99, 173, 1179, 1264, 98, 9], [1032, 2, 192, 1, 1022, 2, 250, 1025, 1729, 5, 642, 5, 699, 2, 28, 2, 1833, 1645, 34, 361], [314, 93, 1847, 267, 143, 1847, 696, 83, 1848, 1848], [197, 180, 2, 5, 685, 27, 33, 214, 16, 27, 119, 34], [22, 785, 10, 217, 590, 3, 1826, 67, 712, 20, 693, 677, 174, 174, 20, 1, 761, 66, 117, 20, 693, 217, 677, 9], [263, 240, 11, 1438, 1, 141, 60, 19, 82, 3, 284, 4, 144, 977, 80, 18, 55], [534, 111, 356, 27, 1849, 5, 8, 1849, 209, 14], [993, 910, 83, 473, 93, 1628], [2, 10, 10, 469, 10, 133, 144, 10, 490, 253, 344, 10, 134, 3, 1418, 7, 1705, 92], [263, 101, 342, 475, 399, 1, 603, 299, 1265, 11, 340, 1, 1572], [655, 1048, 9, 9], [5, 20, 144, 2, 117, 611, 5, 17, 5, 609, 57, 220, 105, 12, 767, 5], [67, 120, 4, 51, 650, 18, 12, 401, 5, 1593, 20, 6, 22], [1372, 195, 116, 6, 1038, 1779, 5, 89, 182, 8, 116, 7, 294, 1038, 110, 778, 320, 792, 71, 30, 1, 903, 2, 132, 12, 34], [663, 2, 221, 367, 513, 1028, 4, 1641, 1, 988, 1, 1613, 7, 26, 345, 141, 627, 514, 98], [330, 313, 1850, 1851, 6, 100, 659, 364, 126, 683, 313, 572, 47, 839, 55, 1850, 1851, 201, 1, 1051, 313, 330, 313], [50, 427, 413, 168, 279, 396, 50, 427, 168, 279, 396, 1008, 955, 427, 413, 168, 279, 396, 50, 108, 427, 1691, 413, 168, 279, 396, 337, 230, 361], [1182, 3, 389, 1454, 14, 81, 49, 171, 1424, 19, 81, 1404, 171, 1852, 3, 139, 171, 8, 81, 46, 1852, 2, 171, 9, 730, 361], [717, 717, 717, 309, 255, 70, 3, 943, 4, 326, 1803], [431, 309, 3, 1049, 38, 11, 688, 229, 691, 265, 144, 1, 619, 43, 32, 816], [50, 7, 45, 305, 6, 1853, 12, 225, 5, 19, 45, 1853, 6, 305, 13], [135, 47, 512, 43, 697, 4, 1738, 43, 648], [260, 3, 248, 2, 358, 3, 311, 162, 260, 3, 340, 10, 248, 11, 601, 3, 311], [1058, 1, 51, 282, 21], [1560, 1687, 98, 67, 12, 50, 1827, 11, 866, 188, 273, 7, 424, 12, 720, 896, 18], [81, 40, 10, 25, 7, 227, 59, 12, 1050, 6, 515, 13], [979, 5, 120, 2, 71, 51, 336, 114, 5, 22, 400, 21, 102], [263, 240, 10, 56, 96, 8, 159, 56, 7, 16, 233, 1854, 718, 306, 791, 1709, 6, 372, 18, 990], [24, 199, 3, 1447, 429, 16, 26, 981, 259, 980, 334, 111, 7, 135, 325, 1703], [313, 2, 252, 65, 1248, 3, 416, 57, 220, 105, 45, 7, 66, 11, 1724, 1759], [998, 5, 294, 503, 11, 82, 2, 1031, 1, 54, 1019, 1044, 5, 135, 35, 1031, 1, 54, 28, 1156, 10, 80, 16, 152, 5], [580, 1, 285, 983, 11, 478, 18, 1, 898, 153, 1044, 5, 19, 197, 14, 19, 8, 1855, 1, 15], [112, 12, 1791, 27, 12, 13, 1514, 166], [4, 1787, 1361, 13, 110, 19], [304, 11, 601, 14, 19, 1426, 46, 210, 686, 22, 5, 385, 820, 9], [1838, 1, 22, 30, 30, 604, 40, 7, 463, 781, 31, 1193], [42, 6, 66, 27, 5, 239], [159, 56, 1, 191, 118, 95, 10, 1242, 1243, 11, 162, 148, 80, 16, 1, 269, 63, 7], [211, 156, 3, 164, 1, 453, 1752, 2, 24, 7, 77, 3, 1856, 1824, 1051, 1718, 11], [565, 127, 914, 26, 391, 583, 345, 1390, 234, 141, 1391, 1392, 2, 347, 114, 5, 19, 1393], [44, 1417, 199, 6, 226, 1601], [78, 78, 1660, 1857, 462, 15, 1857, 18], [506, 1810, 192, 1018, 15, 131, 15, 1070, 15, 51, 13, 183, 60, 63, 514, 98], [1107, 56, 96, 41, 25, 6, 366, 5, 17, 138, 276, 224, 1, 446, 47, 61, 69, 4, 13, 122, 32, 81, 17], [392, 987, 3, 207, 4, 776, 1, 493, 608, 2, 289, 1727, 7, 266, 8, 942, 11], [312, 7, 424, 21, 233, 357, 1854, 336, 16, 236, 128, 24, 11, 1855, 929, 155, 340, 116, 1, 21, 652, 361], [591, 987, 3, 1047, 358, 24, 1, 926, 170, 1, 201, 591, 3], [61, 69, 299, 6, 26, 510, 766, 50, 1686, 11, 1768, 192, 12, 922, 18], [1483, 83, 946, 194, 1774, 707, 9, 1473, 143, 569, 93, 143, 9, 995, 143, 194], [734, 1819, 179, 37, 198, 5, 17, 33, 133, 166, 22, 46, 9, 1783, 1, 664, 1821, 4, 66, 251, 46, 9], [407, 1, 26, 1614, 308, 715, 3, 45, 290, 7, 187, 630, 1373, 109], [5, 1845, 6, 640, 4, 1130, 3, 13, 51, 165, 1], [309, 45, 849, 6, 24, 84, 178, 60, 19, 402, 756], [24, 7, 164, 1782, 1045, 389, 3, 1856, 164, 262, 2, 5, 197], [24, 6, 101, 5, 9, 931, 1780, 1781], [310, 790, 6, 1834, 578, 579, 154, 1019, 579, 154, 13], [455, 97, 813, 37, 814, 762, 20, 201, 672, 97, 7, 815, 455, 97, 813, 37, 814, 762, 20, 201, 672, 97, 7, 815], [33, 52, 12, 142, 15, 683, 1674, 118, 95, 97, 12, 3, 246, 3, 46], [718, 306, 90, 15, 81, 50, 10, 1671, 206, 58, 12, 79, 1667, 58, 179, 704, 704, 767, 18, 131, 5, 9, 40, 7, 15, 18, 500, 98], [73, 4, 36, 13, 748, 856, 8, 23, 4, 532, 158, 149, 5], [188, 4, 1858, 8, 1859, 16, 1, 712, 4, 28, 1585, 440, 21, 17, 1859, 8, 1858, 188, 4, 286], [744, 417, 10, 7, 706, 1835, 152, 5, 9], [1653, 1350, 3, 1023, 4, 1786, 1, 10, 17, 51, 13, 262, 178, 12, 628, 22, 5], [721, 323, 721, 480, 323, 193, 7, 842, 29, 654, 14], [61, 69, 57, 64, 220, 6, 148, 1224, 1244, 1, 66, 6, 1764, 19, 637, 638, 639], [407, 10, 236, 6, 1698, 388, 2, 59, 5, 15, 720, 708, 861, 27, 81, 92, 680, 720], [41, 25, 1794, 5]]\n"
     ]
    }
   ],
   "source": [
    "preprocessing = []\n",
    "for i in range(len(x)):\n",
    "    text = re.sub(r'https?:\\/\\/.*[\\r\\n]*', '',x[i], flags=re.MULTILINE)\n",
    "    text = re.sub(r'\\<a href', ' ', text)\n",
    "    text = re.sub(r'&amp;', '', text)\n",
    "    text = re.sub(r'[_\"\\-;%()|+&=*%.,!?:#$@\\[\\]/]', ' ', text)\n",
    "    text = re.sub(r'<br />', ' ', text)\n",
    "    text = re.sub(r'\\'', ' ', text)\n",
    "    \n",
    "    preprocessing.append(text)\n",
    "#     print(preprocessing[0:10])\n",
    "    \n",
    "# Now, before proceeding ahead in python sentiment analysis project let’s tokenize all the words in the text with the help of Tokenizer. In tokenization, we break down all the words/sentences of a text into small parts called tokens.\n",
    "\n",
    "from tensorflow.keras.preprocessing.text import Tokenizer\n",
    "# from keras.preprocessing.text import Tokenizer\n",
    "tokenizer = Tokenizer(num_words=5000)\n",
    "\n",
    "tokenizer.fit_on_texts(preprocessing)\n",
    "print(tokenizer)\n",
    "# The fit_on_texts() method creates an association between the words and the assigned numbers. This association is stored in the form of a dictionary in the tokenizer.word_index attribute.\n",
    "vocab_size = len(tokenizer.word_index) + 1    \n",
    "\n",
    "# Now, replace the words with their assigned numbers using the text_to_sequence() method.\n",
    "\n",
    "encoded_docs = tokenizer.texts_to_sequences(preprocessing)\n",
    "print(encoded_docs)"
   ]
  },
  {
   "cell_type": "code",
   "execution_count": 14,
   "id": "c952a7f7",
   "metadata": {},
   "outputs": [
    {
     "name": "stdout",
     "output_type": "stream",
     "text": [
      "[[   0    0    0 ... 1865    3 1866]\n",
      " [   0    0    0 ...   13   76  238]\n",
      " [   0    0    0 ...   14  520 1867]\n",
      " ...\n",
      " [   0    0    0 ...  637  638  639]\n",
      " [   0    0    0 ...   92  680  720]\n",
      " [   0    0    0 ...   25 1794    5]]\n"
     ]
    }
   ],
   "source": [
    "# Each of the sentences in the dataset is not of equal length. Use padding to pad the sentences to have equal length.\n",
    "\n",
    "from tensorflow.keras.preprocessing.sequence import pad_sequences\n",
    "\n",
    "padded_sequence = pad_sequences(encoded_docs, maxlen=200)\n",
    "print(padded_sequence)"
   ]
  },
  {
   "cell_type": "code",
   "execution_count": 15,
   "id": "6e4591ac",
   "metadata": {},
   "outputs": [
    {
     "name": "stdout",
     "output_type": "stream",
     "text": [
      "Model: \"sequential\"\n",
      "_________________________________________________________________\n",
      " Layer (type)                Output Shape              Param #   \n",
      "=================================================================\n",
      " embedding (Embedding)       (None, 200, 32)           174624    \n",
      "                                                                 \n",
      " spatial_dropout1d (SpatialD  (None, 200, 32)          0         \n",
      " ropout1D)                                                       \n",
      "                                                                 \n",
      " lstm (LSTM)                 (None, 50)                16600     \n",
      "                                                                 \n",
      " dropout (Dropout)           (None, 50)                0         \n",
      "                                                                 \n",
      " dense (Dense)               (None, 1)                 51        \n",
      "                                                                 \n",
      "=================================================================\n",
      "Total params: 191,275\n",
      "Trainable params: 191,275\n",
      "Non-trainable params: 0\n",
      "_________________________________________________________________\n",
      "None\n"
     ]
    }
   ],
   "source": [
    "from tensorflow.keras.models import Sequential\n",
    "from tensorflow.keras.layers import LSTM,Dense, Dropout, SpatialDropout1D\n",
    "from tensorflow.keras.layers import Embedding\n",
    "# vocab_size = 13234\n",
    "embedding_vector_length = 32\n",
    "model = Sequential()\n",
    "model.add(Embedding(vocab_size, embedding_vector_length, input_length=200))\n",
    "model.add(SpatialDropout1D(0.25))\n",
    "model.add(LSTM(50, dropout=0.5, recurrent_dropout=0.5))\n",
    "model.add(Dropout(0.2))\n",
    "model.add(Dense(1, activation='sigmoid'))\n",
    "model.compile(loss='binary_crossentropy',optimizer='adam', metrics=['accuracy'])\n",
    "\n",
    "print(model.summary())"
   ]
  },
  {
   "cell_type": "code",
   "execution_count": 16,
   "id": "1034f094",
   "metadata": {},
   "outputs": [
    {
     "name": "stdout",
     "output_type": "stream",
     "text": [
      "Epoch 1/10\n",
      "25/25 [==============================] - 7s 153ms/step - loss: 0.6936 - accuracy: 0.4545 - val_loss: 0.6929 - val_accuracy: 0.4898\n",
      "Epoch 2/10\n",
      "25/25 [==============================] - 3s 127ms/step - loss: 0.6901 - accuracy: 0.5275 - val_loss: 0.6925 - val_accuracy: 0.4847\n",
      "Epoch 3/10\n",
      "25/25 [==============================] - 3s 127ms/step - loss: 0.6779 - accuracy: 0.6056 - val_loss: 0.6859 - val_accuracy: 0.5204\n",
      "Epoch 4/10\n",
      "25/25 [==============================] - 5s 185ms/step - loss: 0.6041 - accuracy: 0.7388 - val_loss: 0.6929 - val_accuracy: 0.5816\n",
      "Epoch 5/10\n",
      "25/25 [==============================] - 5s 187ms/step - loss: 0.4502 - accuracy: 0.8271 - val_loss: 0.7017 - val_accuracy: 0.5918\n",
      "Epoch 6/10\n",
      "25/25 [==============================] - 3s 120ms/step - loss: 0.3025 - accuracy: 0.9091 - val_loss: 0.8576 - val_accuracy: 0.5816\n",
      "Epoch 7/10\n",
      "25/25 [==============================] - 5s 179ms/step - loss: 0.1888 - accuracy: 0.9539 - val_loss: 0.8679 - val_accuracy: 0.5867\n",
      "Epoch 8/10\n",
      "25/25 [==============================] - 5s 186ms/step - loss: 0.1314 - accuracy: 0.9603 - val_loss: 0.9955 - val_accuracy: 0.6020\n",
      "Epoch 9/10\n",
      "25/25 [==============================] - 5s 184ms/step - loss: 0.0993 - accuracy: 0.9718 - val_loss: 1.0686 - val_accuracy: 0.6020\n",
      "Epoch 10/10\n",
      "25/25 [==============================] - 4s 165ms/step - loss: 0.0807 - accuracy: 0.9744 - val_loss: 1.0375 - val_accuracy: 0.6020\n"
     ]
    }
   ],
   "source": [
    "# Train the sentiment analysis model for 5 epochs on the whole dataset with a batch size of 32 and a validation split of 20%.\n",
    "\n",
    "history = model.fit(padded_sequence,a[0],validation_split=0.2, epochs=10, batch_size=32)\n",
    "# The python sentiment analysis model obtained 96% accuracy on the training set and 94.33% accuracy on the test set"
   ]
  },
  {
   "cell_type": "code",
   "execution_count": 17,
   "id": "9a3af0fd",
   "metadata": {},
   "outputs": [
    {
     "data": {
      "image/png": "[encoded data removed]",
      "text/plain": [
       "<Figure size 432x288 with 1 Axes>"
      ]
     },
     "metadata": {
      "needs_background": "light"
     },
     "output_type": "display_data"
    },
    {
     "data": {
      "text/plain": [
       "<Figure size 432x288 with 0 Axes>"
      ]
     },
     "metadata": {},
     "output_type": "display_data"
    }
   ],
   "source": [
    "# Let’s plot these metrics using the matplotlib.\n",
    "\n",
    "import matplotlib.pyplot as plt\n",
    "\n",
    "plt.plot(history.history['accuracy'], label='acc')\n",
    "plt.plot(history.history['val_accuracy'], label='val_acc')\n",
    "plt.legend()\n",
    "plt.show()\n",
    "\n",
    "plt.savefig(\"Accuracy plot.jpg\")"
   ]
  },
  {
   "cell_type": "code",
   "execution_count": 18,
   "id": "d50c4097",
   "metadata": {},
   "outputs": [
    {
     "data": {
      "image/png": "[encoded data removed]",
      "text/plain": [
       "<Figure size 432x288 with 1 Axes>"
      ]
     },
     "metadata": {
      "needs_background": "light"
     },
     "output_type": "display_data"
    },
    {
     "data": {
      "text/plain": [
       "<Figure size 432x288 with 0 Axes>"
      ]
     },
     "metadata": {},
     "output_type": "display_data"
    }
   ],
   "source": [
    "plt.plot(history.history['loss'], label='loss')\n",
    "plt.plot(history.history['val_loss'], label='val_loss')\n",
    "\n",
    "plt.legend()\n",
    "plt.show()\n",
    "\n",
    "plt.savefig(\"Loss plt.jpg\")"
   ]
  },
  {
   "cell_type": "markdown",
   "id": "07854b78",
   "metadata": {},
   "source": [
    "# Let’s execute sentiment analysis model"
   ]
  },
  {
   "cell_type": "code",
   "execution_count": 19,
   "id": "2fc17c0b",
   "metadata": {},
   "outputs": [
    {
     "name": "stdout",
     "output_type": "stream",
     "text": [
      "1/1 [==============================] - 0s 276ms/step\n",
      "Predicted label:  N\n"
     ]
    }
   ],
   "source": [
    "# Define a function that takes a text as input and outputs its prediction label.\n",
    "\n",
    "def predict_sentiment(text):\n",
    "    tw = tokenizer.texts_to_sequences([text])\n",
    "    tw = pad_sequences(tw,maxlen=200)\n",
    "    prediction = int(model.predict(tw).round().item())\n",
    "    print(\"Predicted label: \", sentiment_label[1][prediction])\n",
    "\n",
    "\n",
    "test_sentence1 = \"جس قسم گندے الفاظ فضلو نے دھرنے کی خواتین کے بارے میں استعمال کئے اس پر تمام سیاسی اور مزھبی جماعتوں کو انکا بائکاٹ کرنا چاہئے \"\n",
    "predict_sentiment(test_sentence1)\n",
    "\n",
    "# test_sentence2 = \"This is the worst flight experience of my life!\"\n",
    "# predict_sentiment(test_sentence2)"
   ]
  },
  {
   "cell_type": "code",
   "execution_count": null,
   "id": "ff33f322",
   "metadata": {},
   "outputs": [],
   "source": []
  }
 ],
 "metadata": {
  "kernelspec": {
   "display_name": "Python 3",
   "language": "python",
   "name": "python3"
  },
  "language_info": {
   "codemirror_mode": {
    "name": "ipython",
    "version": 3
   },
   "file_extension": ".py",
   "mimetype": "text/x-python",
   "name": "python",
   "nbconvert_exporter": "python",
   "pygments_lexer": "ipython3",
   "version": "3.8.8"
  }
 },
 "nbformat": 4,
 "nbformat_minor": 5
}
