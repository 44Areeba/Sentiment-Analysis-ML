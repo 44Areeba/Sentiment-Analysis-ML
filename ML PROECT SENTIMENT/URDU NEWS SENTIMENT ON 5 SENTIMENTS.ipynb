{
 "cells": [
  {
   "cell_type": "markdown",
   "id": "37ffbe80",
   "metadata": {},
   "source": [
    "A = NEUTRAL\n",
    "\n",
    "B = NEGATIVE\n",
    "\n",
    "C = VERY NEGATIVE\n",
    "\n",
    "D = POSITIVE\n",
    "\n",
    "E = VERY POSITIVE"
   ]
  },
  {
   "cell_type": "code",
   "execution_count": 1,
   "id": "bdcf6ba9",
   "metadata": {},
   "outputs": [],
   "source": [
    "import numpy as np\n",
    "import pandas as pd\n",
    "import nltk\n",
    "import matplotlib .pyplot as plt\n",
    "import re\n",
    "import warnings\n",
    "\n",
    "warnings.filterwarnings(\"ignore\")"
   ]
  },
  {
   "cell_type": "code",
   "execution_count": 2,
   "id": "20251b60",
   "metadata": {},
   "outputs": [
    {
     "data": {
      "text/html": [
       "<div>\n",
       "<style scoped>\n",
       "    .dataframe tbody tr th:only-of-type {\n",
       "        vertical-align: middle;\n",
       "    }\n",
       "\n",
       "    .dataframe tbody tr th {\n",
       "        vertical-align: top;\n",
       "    }\n",
       "\n",
       "    .dataframe thead th {\n",
       "        text-align: right;\n",
       "    }\n",
       "</style>\n",
       "<table border=\"1\" class=\"dataframe\">\n",
       "  <thead>\n",
       "    <tr style=\"text-align: right;\">\n",
       "      <th></th>\n",
       "      <th>CLASS</th>\n",
       "      <th>SENTENCES</th>\n",
       "      <th>SNO</th>\n",
       "    </tr>\n",
       "  </thead>\n",
       "  <tbody>\n",
       "    <tr>\n",
       "      <th>0</th>\n",
       "      <td>A</td>\n",
       "      <td>میں نے ایٹم بم بنایا ھے</td>\n",
       "      <td>1</td>\n",
       "    </tr>\n",
       "    <tr>\n",
       "      <th>1</th>\n",
       "      <td>B</td>\n",
       "      <td>چندے سے انقلاب اور عمران خان وزیر اعظم نہیں بن...</td>\n",
       "      <td>2</td>\n",
       "    </tr>\n",
       "    <tr>\n",
       "      <th>2</th>\n",
       "      <td>A</td>\n",
       "      <td>ابھی تک اسکی لہریں کبھی کبھی آ جاتی ہیں یار :أْ</td>\n",
       "      <td>3</td>\n",
       "    </tr>\n",
       "    <tr>\n",
       "      <th>3</th>\n",
       "      <td>B</td>\n",
       "      <td>گندی زبان اور گٹر جیسے دماغ والے جاهل جیالے هو...</td>\n",
       "      <td>4</td>\n",
       "    </tr>\n",
       "    <tr>\n",
       "      <th>4</th>\n",
       "      <td>A</td>\n",
       "      <td>قاتل بھی تم مقتول بھی تم,ظالم بھی ہم اور مظلوم...</td>\n",
       "      <td>5</td>\n",
       "    </tr>\n",
       "  </tbody>\n",
       "</table>\n",
       "</div>"
      ],
      "text/plain": [
       "  CLASS                                          SENTENCES  SNO\n",
       "0     A                          میں نے ایٹم بم بنایا ھے      1\n",
       "1     B  چندے سے انقلاب اور عمران خان وزیر اعظم نہیں بن...    2\n",
       "2     A   ابھی تک اسکی لہریں کبھی کبھی آ جاتی ہیں یار :أْ     3\n",
       "3     B  گندی زبان اور گٹر جیسے دماغ والے جاهل جیالے هو...    4\n",
       "4     A  قاتل بھی تم مقتول بھی تم,ظالم بھی ہم اور مظلوم...    5"
      ]
     },
     "execution_count": 2,
     "metadata": {},
     "output_type": "execute_result"
    }
   ],
   "source": [
    "#omporting dataset \n",
    "df = pd.read_csv('5sentiments.csv')\n",
    "df.head()\n"
   ]
  },
  {
   "cell_type": "code",
   "execution_count": null,
   "id": "8077360c",
   "metadata": {},
   "outputs": [],
   "source": []
  },
  {
   "cell_type": "code",
   "execution_count": 3,
   "id": "f7194f00",
   "metadata": {},
   "outputs": [
    {
     "data": {
      "image/png": "[encoded data removed]",
      "text/plain": [
       "<Figure size 432x288 with 1 Axes>"
      ]
     },
     "metadata": {
      "needs_background": "light"
     },
     "output_type": "display_data"
    }
   ],
   "source": [
    "##### BAR PLOT\n",
    "from matplotlib import pyplot as plt\n",
    "import pandas as pd\n",
    "\n",
    "plt.bar(df.CLASS,df.SNO)\n",
    "plt.ylabel(\"NEWS\")\n",
    "plt.xlabel(\"CLASSES\")\n",
    "plt.show()"
   ]
  },
  {
   "cell_type": "code",
   "execution_count": 4,
   "id": "728651db",
   "metadata": {},
   "outputs": [
    {
     "data": {
      "text/plain": [
       "CLASS        0\n",
       "SENTENCES    0\n",
       "SNO          0\n",
       "dtype: int64"
      ]
     },
     "execution_count": 4,
     "metadata": {},
     "output_type": "execute_result"
    }
   ],
   "source": [
    "# checking anything is null\n",
    "df.isnull().sum()"
   ]
  },
  {
   "cell_type": "code",
   "execution_count": 5,
   "id": "363833a0",
   "metadata": {},
   "outputs": [
    {
     "data": {
      "text/html": [
       "<div>\n",
       "<style scoped>\n",
       "    .dataframe tbody tr th:only-of-type {\n",
       "        vertical-align: middle;\n",
       "    }\n",
       "\n",
       "    .dataframe tbody tr th {\n",
       "        vertical-align: top;\n",
       "    }\n",
       "\n",
       "    .dataframe thead th {\n",
       "        text-align: right;\n",
       "    }\n",
       "</style>\n",
       "<table border=\"1\" class=\"dataframe\">\n",
       "  <thead>\n",
       "    <tr style=\"text-align: right;\">\n",
       "      <th></th>\n",
       "      <th>CLASS</th>\n",
       "      <th>SENTENCES</th>\n",
       "      <th>SNO</th>\n",
       "    </tr>\n",
       "  </thead>\n",
       "  <tbody>\n",
       "    <tr>\n",
       "      <th>0</th>\n",
       "      <td>A</td>\n",
       "      <td>میں نے ایٹم بم بنایا ھے</td>\n",
       "      <td>1</td>\n",
       "    </tr>\n",
       "    <tr>\n",
       "      <th>1</th>\n",
       "      <td>B</td>\n",
       "      <td>چندے سے انقلاب اور عمران خان وزیر اعظم نہیں بن...</td>\n",
       "      <td>2</td>\n",
       "    </tr>\n",
       "    <tr>\n",
       "      <th>2</th>\n",
       "      <td>A</td>\n",
       "      <td>ابھی تک اسکی لہریں کبھی کبھی آ جاتی ہیں یار :أْ</td>\n",
       "      <td>3</td>\n",
       "    </tr>\n",
       "    <tr>\n",
       "      <th>3</th>\n",
       "      <td>B</td>\n",
       "      <td>گندی زبان اور گٹر جیسے دماغ والے جاهل جیالے هو...</td>\n",
       "      <td>4</td>\n",
       "    </tr>\n",
       "    <tr>\n",
       "      <th>4</th>\n",
       "      <td>A</td>\n",
       "      <td>قاتل بھی تم مقتول بھی تم,ظالم بھی ہم اور مظلوم...</td>\n",
       "      <td>5</td>\n",
       "    </tr>\n",
       "    <tr>\n",
       "      <th>...</th>\n",
       "      <td>...</td>\n",
       "      <td>...</td>\n",
       "      <td>...</td>\n",
       "    </tr>\n",
       "    <tr>\n",
       "      <th>995</th>\n",
       "      <td>B</td>\n",
       "      <td>پونے : ایک سالہ بچی سے عصمت دری کے بعد کیا قتل...</td>\n",
       "      <td>996</td>\n",
       "    </tr>\n",
       "    <tr>\n",
       "      <th>996</th>\n",
       "      <td>B</td>\n",
       "      <td>اغوا کے بعد تین سال کی معصوم کی آبروریزی ، قب...</td>\n",
       "      <td>997</td>\n",
       "    </tr>\n",
       "    <tr>\n",
       "      <th>997</th>\n",
       "      <td>D</td>\n",
       "      <td>ہندوستانی کرکٹ ٹیم کے ایک اہم ستون ہیں مہندرسن...</td>\n",
       "      <td>998</td>\n",
       "    </tr>\n",
       "    <tr>\n",
       "      <th>998</th>\n",
       "      <td>D</td>\n",
       "      <td>جنوبی افریقی کرکٹرنے اچانک کردیا ریٹائرمنٹ کا ...</td>\n",
       "      <td>999</td>\n",
       "    </tr>\n",
       "    <tr>\n",
       "      <th>999</th>\n",
       "      <td>D</td>\n",
       "      <td>سلمان خان کے والد سلیم خان کے قرض دار ہیں شاہ ...</td>\n",
       "      <td>1000</td>\n",
       "    </tr>\n",
       "  </tbody>\n",
       "</table>\n",
       "<p>1000 rows × 3 columns</p>\n",
       "</div>"
      ],
      "text/plain": [
       "    CLASS                                          SENTENCES   SNO\n",
       "0       A                          میں نے ایٹم بم بنایا ھے       1\n",
       "1       B  چندے سے انقلاب اور عمران خان وزیر اعظم نہیں بن...     2\n",
       "2       A   ابھی تک اسکی لہریں کبھی کبھی آ جاتی ہیں یار :أْ      3\n",
       "3       B  گندی زبان اور گٹر جیسے دماغ والے جاهل جیالے هو...     4\n",
       "4       A  قاتل بھی تم مقتول بھی تم,ظالم بھی ہم اور مظلوم...     5\n",
       "..    ...                                                ...   ...\n",
       "995     B  پونے : ایک سالہ بچی سے عصمت دری کے بعد کیا قتل...   996\n",
       "996     B  اغوا کے بعد تین سال کی معصوم کی آبروریزی ، قب...   997\n",
       "997     D  ہندوستانی کرکٹ ٹیم کے ایک اہم ستون ہیں مہندرسن...   998\n",
       "998     D  جنوبی افریقی کرکٹرنے اچانک کردیا ریٹائرمنٹ کا ...   999\n",
       "999     D  سلمان خان کے والد سلیم خان کے قرض دار ہیں شاہ ...  1000\n",
       "\n",
       "[1000 rows x 3 columns]"
      ]
     },
     "execution_count": 5,
     "metadata": {},
     "output_type": "execute_result"
    }
   ],
   "source": [
    "# putthing space in the null value\n",
    "df['SENTENCES'] = df['SENTENCES'].fillna(' ')\n",
    "df"
   ]
  },
  {
   "cell_type": "code",
   "execution_count": 6,
   "id": "8e696f9c",
   "metadata": {},
   "outputs": [
    {
     "data": {
      "text/plain": [
       "CLASS        0\n",
       "SENTENCES    0\n",
       "SNO          0\n",
       "dtype: int64"
      ]
     },
     "execution_count": 6,
     "metadata": {},
     "output_type": "execute_result"
    }
   ],
   "source": [
    "# checking anything is null\n",
    "df.isnull().sum()"
   ]
  },
  {
   "cell_type": "code",
   "execution_count": 7,
   "id": "c832d68a",
   "metadata": {},
   "outputs": [
    {
     "name": "stdout",
     "output_type": "stream",
     "text": [
      "<class 'numpy.ndarray'>\n"
     ]
    }
   ],
   "source": [
    "# # Associate Category names with numerical index and save it in new column category_id\n",
    "category_id=df['category_id'] = df['CLASS'].factorize()[0]\n",
    "\n",
    "# category_id = review_df.CLASS.factorize()\n",
    "# category_id\n",
    "# View first 10 entries of category_id, as a sanity check\n",
    "df['category_id'][0:10]\n",
    "sentiment_label = df.CLASS.factorize()\n",
    "a = np.array(sentiment_label)\n",
    "\n",
    "# print()\n",
    "# # np.array(sentiment_label)\n",
    "print(type(a))"
   ]
  },
  {
   "cell_type": "code",
   "execution_count": 8,
   "id": "2db75393",
   "metadata": {},
   "outputs": [
    {
     "data": {
      "text/html": [
       "<div>\n",
       "<style scoped>\n",
       "    .dataframe tbody tr th:only-of-type {\n",
       "        vertical-align: middle;\n",
       "    }\n",
       "\n",
       "    .dataframe tbody tr th {\n",
       "        vertical-align: top;\n",
       "    }\n",
       "\n",
       "    .dataframe thead th {\n",
       "        text-align: right;\n",
       "    }\n",
       "</style>\n",
       "<table border=\"1\" class=\"dataframe\">\n",
       "  <thead>\n",
       "    <tr style=\"text-align: right;\">\n",
       "      <th></th>\n",
       "      <th>CLASS</th>\n",
       "      <th>category_id</th>\n",
       "    </tr>\n",
       "  </thead>\n",
       "  <tbody>\n",
       "    <tr>\n",
       "      <th>0</th>\n",
       "      <td>A</td>\n",
       "      <td>0</td>\n",
       "    </tr>\n",
       "    <tr>\n",
       "      <th>1</th>\n",
       "      <td>B</td>\n",
       "      <td>1</td>\n",
       "    </tr>\n",
       "    <tr>\n",
       "      <th>5</th>\n",
       "      <td>E</td>\n",
       "      <td>2</td>\n",
       "    </tr>\n",
       "    <tr>\n",
       "      <th>6</th>\n",
       "      <td>D</td>\n",
       "      <td>3</td>\n",
       "    </tr>\n",
       "    <tr>\n",
       "      <th>12</th>\n",
       "      <td>C</td>\n",
       "      <td>4</td>\n",
       "    </tr>\n",
       "  </tbody>\n",
       "</table>\n",
       "</div>"
      ],
      "text/plain": [
       "   CLASS  category_id\n",
       "0      A            0\n",
       "1      B            1\n",
       "5      E            2\n",
       "6      D            3\n",
       "12     C            4"
      ]
     },
     "execution_count": 8,
     "metadata": {},
     "output_type": "execute_result"
    }
   ],
   "source": [
    "category_id_df = df[['CLASS', 'category_id']].drop_duplicates().sort_values('category_id')\n",
    "category_id_df"
   ]
  },
  {
   "cell_type": "code",
   "execution_count": 9,
   "id": "f245fde5",
   "metadata": {},
   "outputs": [
    {
     "data": {
      "text/html": [
       "<div>\n",
       "<style scoped>\n",
       "    .dataframe tbody tr th:only-of-type {\n",
       "        vertical-align: middle;\n",
       "    }\n",
       "\n",
       "    .dataframe tbody tr th {\n",
       "        vertical-align: top;\n",
       "    }\n",
       "\n",
       "    .dataframe thead th {\n",
       "        text-align: right;\n",
       "    }\n",
       "</style>\n",
       "<table border=\"1\" class=\"dataframe\">\n",
       "  <thead>\n",
       "    <tr style=\"text-align: right;\">\n",
       "      <th></th>\n",
       "      <th>CLASS</th>\n",
       "      <th>SENTENCES</th>\n",
       "      <th>SNO</th>\n",
       "      <th>category_id</th>\n",
       "    </tr>\n",
       "  </thead>\n",
       "  <tbody>\n",
       "    <tr>\n",
       "      <th>993</th>\n",
       "      <td>D</td>\n",
       "      <td>پرنیتی چوپڑا نے بلیک بکنی پہن کر پانی میں لگائ...</td>\n",
       "      <td>994</td>\n",
       "      <td>3</td>\n",
       "    </tr>\n",
       "    <tr>\n",
       "      <th>859</th>\n",
       "      <td>D</td>\n",
       "      <td>شاباش اچھی تربیت ہے اس طرح کی زبان اپنے گھر بھ...</td>\n",
       "      <td>860</td>\n",
       "      <td>3</td>\n",
       "    </tr>\n",
       "    <tr>\n",
       "      <th>298</th>\n",
       "      <td>B</td>\n",
       "      <td>: مولانا ڈیزل سے ڈیزل خان تک کا شرمناک سفرڈیزل...</td>\n",
       "      <td>299</td>\n",
       "      <td>1</td>\n",
       "    </tr>\n",
       "    <tr>\n",
       "      <th>553</th>\n",
       "      <td>B</td>\n",
       "      <td>ہم پیپلز پارٹی سے اپنے حکومتی تعلقات کو ختم کر...</td>\n",
       "      <td>554</td>\n",
       "      <td>1</td>\n",
       "    </tr>\n",
       "    <tr>\n",
       "      <th>672</th>\n",
       "      <td>D</td>\n",
       "      <td>لاہور: وزیر اعلی نوٹس لے کر داد رسی کریں ۔ مظا...</td>\n",
       "      <td>673</td>\n",
       "      <td>3</td>\n",
       "    </tr>\n",
       "  </tbody>\n",
       "</table>\n",
       "</div>"
      ],
      "text/plain": [
       "    CLASS                                          SENTENCES  SNO  category_id\n",
       "993     D  پرنیتی چوپڑا نے بلیک بکنی پہن کر پانی میں لگائ...  994            3\n",
       "859     D  شاباش اچھی تربیت ہے اس طرح کی زبان اپنے گھر بھ...  860            3\n",
       "298     B  : مولانا ڈیزل سے ڈیزل خان تک کا شرمناک سفرڈیزل...  299            1\n",
       "553     B  ہم پیپلز پارٹی سے اپنے حکومتی تعلقات کو ختم کر...  554            1\n",
       "672     D  لاہور: وزیر اعلی نوٹس لے کر داد رسی کریں ۔ مظا...  673            3"
      ]
     },
     "execution_count": 9,
     "metadata": {},
     "output_type": "execute_result"
    }
   ],
   "source": [
    "df.sample(5, random_state=0)"
   ]
  },
  {
   "cell_type": "code",
   "execution_count": 10,
   "id": "68e40a17",
   "metadata": {},
   "outputs": [
    {
     "data": {
      "text/plain": [
       "[<matplotlib.lines.Line2D at 0x1f0ac859ee0>]"
      ]
     },
     "execution_count": 10,
     "metadata": {},
     "output_type": "execute_result"
    },
    {
     "data": {
      "image/png": "[encoded data removed]",
      "text/plain": [
       "<Figure size 432x288 with 1 Axes>"
      ]
     },
     "metadata": {
      "needs_background": "light"
     },
     "output_type": "display_data"
    }
   ],
   "source": [
    "plt.plot(df['category_id'].value_counts())"
   ]
  },
  {
   "cell_type": "code",
   "execution_count": 11,
   "id": "93a14698",
   "metadata": {},
   "outputs": [
    {
     "data": {
      "text/plain": [
       "1    431\n",
       "3    397\n",
       "0    115\n",
       "4     29\n",
       "2     28\n",
       "Name: category_id, dtype: int64"
      ]
     },
     "execution_count": 11,
     "metadata": {},
     "output_type": "execute_result"
    }
   ],
   "source": [
    "df['category_id'].value_counts()"
   ]
  },
  {
   "cell_type": "code",
   "execution_count": 12,
   "id": "fea8029e",
   "metadata": {},
   "outputs": [],
   "source": [
    "x =df['SENTENCES']\n",
    "y = df['category_id']"
   ]
  },
  {
   "cell_type": "code",
   "execution_count": 13,
   "id": "f166b623",
   "metadata": {},
   "outputs": [
    {
     "name": "stdout",
     "output_type": "stream",
     "text": [
      "<keras.preprocessing.text.Tokenizer object at 0x000001F0AC9BD4C0>\n",
      "[[2, 9, 1075, 1076, 268, 22], [72, 4, 35, 8, 43, 25, 94, 103, 13, 79, 239], [197, 95, 525, 1077, 124, 124, 104, 526, 14, 527, 1904], [1905, 368, 8, 1906, 320, 528, 65, 1078, 1079, 188, 1907, 1908, 188, 8, 1078, 1909, 188, 321, 529, 218, 10], [1910, 15, 112, 1911, 15, 112, 1912, 15, 47, 8, 1913, 15, 1914], [1915, 1916, 96, 1917, 146, 161, 1080, 1918, 1919, 431, 96, 1920, 269, 1921, 161], [28, 1081, 1922, 1923, 22, 1924, 17, 51, 1082, 1925, 112, 169, 432, 22, 1926, 28, 1927, 188, 1082, 1928, 22, 240], [1083, 433, 1, 1084, 1, 55, 1085, 1086, 1087, 1929], [94, 103, 3, 369, 1088, 1930, 1089, 6, 1090], [1931, 58, 434, 189, 270, 4, 73, 530, 118, 17, 125, 30, 271, 47, 9, 1091, 531, 435, 1092, 531, 9, 170, 734, 21, 434, 9, 1932, 73, 532, 170, 7, 1933, 59], [1093, 735, 19, 16, 1934, 1935, 19, 16, 1936, 1094, 1937, 736, 124, 1095, 2, 12, 737, 23, 52], [45, 241, 1, 436, 134, 533, 1938, 738, 37, 739, 1939, 53, 5, 10, 370, 1940], [1941, 1942, 1943, 1944, 1945, 11, 272, 1946, 198, 15, 171, 18, 26, 147, 437, 7, 1947, 438, 50, 534, 7, 135, 1948, 1949, 4, 35], [219, 371, 9, 322, 1096, 1097, 59, 29, 12, 220, 1950, 17, 272, 1098, 18, 1951], [740, 48, 1952, 34, 148, 273, 3, 1099, 172, 34], [56, 221, 97, 6, 439, 274, 23, 1100, 6, 173], [26, 1101, 2, 1953, 1954, 26, 1955, 7, 1956, 1102, 60, 10, 535, 440, 1101], [1957, 1103, 2, 441, 174, 11, 1958, 74, 1959, 1960, 536], [1961, 741, 6, 372, 58, 18, 1962, 1963, 2, 1104, 36, 1, 1105, 1106, 3, 1107, 23, 38, 11, 442, 80, 443, 5], [1108, 35, 162, 742, 1109, 1964, 2, 222, 373, 105, 275, 1965, 1966, 1, 1967, 113, 1968, 4, 1110, 1969, 1970, 537, 1971, 1111], [26, 1972, 1, 538, 163, 198, 374, 6, 1973, 1112, 1974, 1113, 20, 1, 375, 1975, 539, 60, 374, 1114, 223, 20, 9, 46, 1976], [66, 743, 1977, 2, 34, 73, 1978, 444, 12, 175, 43, 1, 241, 6, 1115, 79, 149, 58], [744, 1979, 1980, 540, 1116, 4, 1117, 1981, 1982, 376, 541, 2, 1983, 1984, 17, 377, 31, 36, 224, 745], [1118, 43, 25, 7, 41, 1119, 1985, 7, 276, 1986, 323, 324, 83, 746, 445, 24, 2, 42, 16, 28, 1987, 1988, 1120, 1989, 6, 378, 150, 14, 10], [747, 277, 1990, 3, 1991, 242, 1992, 748, 3, 1993, 10], [1994, 146, 1995, 1121, 1996, 161, 1121, 1997, 1998, 1999, 749, 379, 2000, 749, 750, 2001, 161, 2002, 2003, 2004, 2005, 749, 542, 2006, 2007, 106], [10, 57, 98, 543, 380, 2, 751, 13, 118, 2008, 752, 2009, 99, 2010, 136, 544, 1122, 8, 2011, 3, 446, 381, 172, 84], [176, 545, 7, 177, 199, 85, 137, 753], [39, 2012, 7, 13, 2013, 16, 29, 114, 447, 22, 18, 754, 2, 755, 178, 44, 10, 138, 75, 546], [39, 178, 756, 12, 2014, 2, 757, 325, 547, 67, 81, 3, 548, 758, 243, 1123, 1123], [1124, 151, 2015, 2016, 2017, 14, 1124, 8, 2018], [1125, 36, 6, 1126, 1127, 549, 11, 1128, 2, 2019, 2020, 1, 445, 4, 530, 2021, 1125, 36, 1, 445, 2022, 2023], [86, 7, 32, 1, 448, 382, 9, 1129, 3, 2024, 2025], [68, 76, 1130, 57, 98, 43, 25, 6, 372, 5, 18, 139, 278, 225, 1, 449, 47, 68, 76, 4, 13, 125, 30, 33], [48, 25, 9, 2026, 2, 1131, 759, 3, 2027, 2028, 17, 152, 16, 760, 48, 25], [2029, 2030, 2031, 146, 2032, 761, 1132, 2033, 2034, 179, 2035, 2036, 761, 1132, 2037], [86, 2038, 2039, 1133, 2040, 9, 119, 3, 383, 1, 550, 2, 326, 2041, 20, 11, 176, 134, 8, 2042, 2043, 7, 762, 2044, 153, 2045], [2046, 2047, 2048, 763, 2049, 2050, 2051, 2052, 2053, 2054, 87, 2055, 2056, 96, 2057, 2058, 2059, 2060, 2061, 2062], [277, 2063, 764, 190, 279, 2064, 2065, 3, 2066, 11, 327, 6, 765, 1134], [61, 450, 2067, 1135, 1, 551, 2068, 2069, 2070, 3, 2071, 1136, 1, 766, 11, 2072, 748, 2073, 1137, 451], [1138, 73, 2074, 5, 8, 2, 371, 126, 42, 552, 3, 1139, 4], [1140, 2075, 452, 139, 1, 82, 2076, 81, 1141, 200, 2077, 1142, 5], [553, 170, 6, 1143, 1144, 151, 45, 154, 2078, 767, 34, 554, 1145, 453, 18, 1146, 442, 277, 74, 376, 768, 6, 2079, 5], [61, 450, 1, 769, 454, 242, 3, 2080, 2081, 169, 2082, 1, 2083, 2084, 3, 1147, 2085, 2086, 555, 3, 556, 2087, 2088, 2, 2089, 1148], [371, 8, 557, 328, 328, 155, 384, 2090, 1149, 88, 2091, 770, 329, 558], [2092, 559, 107, 156, 1, 140, 24, 3, 560, 455, 2093], [1150, 244, 4, 120, 561, 245, 771, 201, 272, 23, 19, 18, 1151, 6, 2094, 772, 2095, 561, 4, 2096, 108, 8, 112, 1152, 79, 17, 127, 2097, 10, 138, 2098, 546], [8, 280, 2099, 2100, 2101, 2102, 2103, 12, 26, 2104, 281, 226, 5, 10], [61, 450, 6, 385, 227, 62, 4, 1153, 6, 173, 746, 82, 27, 62, 4, 2105, 330, 105, 6, 1154, 773, 15, 246, 2106, 134, 1155], [2107, 2108, 2, 456, 63, 27, 1156, 1, 1157, 2109, 115, 5, 10], [2110, 2111, 54, 2112, 774, 2113, 69, 433, 1158, 562, 53, 528, 27, 202, 775, 776, 13, 433, 11, 49, 38, 3, 1159], [777, 778, 9, 1160, 2, 457, 2114, 15, 779, 386], [2115, 1, 2116, 89, 780, 75, 2117, 172, 31, 70, 228, 1161, 244, 31, 24, 1161, 244, 31, 24, 458, 2118], [282, 2119, 31, 37, 2120, 11, 2121, 29, 2122, 331, 1162, 2123, 1, 2124, 3, 2125, 1163, 2126, 331], [28, 1164, 1164, 283, 2127, 28, 1165, 1165, 4, 2128, 203, 781, 18, 126, 5, 203, 332, 6, 2129], [39, 563, 1166, 23, 108, 2130, 4, 13, 2131, 324, 157], [12, 2, 247, 782, 115, 42, 2132, 12, 387, 8, 388, 3, 1167, 223], [459, 59, 44, 1168, 229, 59, 44, 564, 333, 82, 21, 2133, 21, 44], [434, 189, 9, 2134, 1, 2135, 2136, 7, 1169, 1170, 60, 10, 29, 230, 2137, 19, 52, 10], [248, 99, 29, 15, 2138, 2139, 136, 28, 2140, 3, 1171, 4, 2141, 5, 1172, 1172], [559, 107, 156, 565, 24, 3, 783, 164], [538, 389, 390, 281, 153, 5], [141, 191, 566, 784, 2142, 109, 2143, 2144, 90, 567, 2145], [1173, 2146, 43, 25, 1, 1174, 284, 1, 82, 1175, 70, 4, 2147], [1176, 1, 2148, 2149, 4, 219, 2150, 2151, 460, 5], [1177, 1, 375, 2152, 9, 192, 58, 18, 391, 392, 2153, 1178, 11, 2154, 534, 268, 53, 58, 18, 29, 1177, 3, 1156, 3, 446, 88, 30, 48, 3, 1179], [2, 197, 2155, 11, 785, 568, 569, 4, 171, 243, 10, 570, 1, 73, 3, 285, 4, 785, 568, 11, 80, 114, 2156, 71, 2157, 22, 334, 6, 786, 787, 2158, 22], [788, 380, 2, 2159, 6, 571, 249, 231, 461, 5, 43, 25], [148, 462, 335, 14, 39, 456, 2160, 250, 1, 572, 118, 463, 14, 2161, 2162, 8, 117, 33], [464, 2163, 2164, 3, 204, 4, 128, 393, 205, 6, 100, 286, 2165], [221, 465, 4, 1180, 116, 2166, 573, 10, 2167, 251, 789, 336, 252], [137, 753, 220, 790, 154, 1181, 5, 1182, 466, 253, 2168, 467, 791, 2169], [2170, 3, 1183, 21, 5, 16, 82, 28, 15, 2171, 18, 2172, 7, 1183, 2, 21, 337, 14, 10], [2173, 43, 25, 333, 180, 2174, 53, 12, 21, 188, 31, 20, 3, 789, 15, 336, 74], [2175, 23, 2176, 1184, 23, 277, 129, 2177, 4, 127, 2178], [2179, 21, 563, 22, 169, 15, 2180], [2181, 2182, 2183, 2184, 9, 574, 1185, 7, 68, 76, 2, 191, 391, 392, 4, 2185, 6, 173, 21, 2186, 2187, 129, 193, 9, 191, 7, 1186, 254], [2188, 193, 2189, 575, 2190, 2191, 4, 1187, 6, 2192, 8, 2193, 576, 2194, 4, 1188, 2195, 22, 2196, 2197, 2198], [1189, 2199, 139, 2200, 181, 3, 204, 4, 176, 545], [552, 2201, 114, 460, 121, 31, 228, 48], [1190, 2, 2202, 1, 577, 792, 52, 2203, 2204, 2205, 182, 11, 2206], [2207, 793, 1191, 161], [794, 2208, 54, 338, 578, 2, 183, 1192, 15, 23, 2209, 27, 12, 192, 5, 1192, 13, 795, 31, 2210, 796, 468], [579, 383, 1, 2211, 36, 287, 2, 580, 288, 1, 1193, 2, 2212, 8, 2213, 6, 1194, 164], [2, 2214, 15, 2215, 58, 12, 54, 394, 469, 2216, 1195, 6, 34, 12, 2217, 469], [43, 206, 384, 1, 2218, 11, 12, 37, 77, 6, 581, 1196, 6, 1197, 14, 10, 40, 46, 2219, 6, 2220, 336, 339, 797, 340, 125, 30, 8, 255, 3, 2221, 15, 23, 19, 84], [289, 1198, 169, 2222, 6, 1199, 155, 341, 582, 153, 232, 583, 1, 55, 2223, 2, 2224, 779, 153, 798, 2225, 7, 2226, 100, 4, 2227, 141, 75], [198, 6, 2228, 5, 18, 1200, 3, 2229, 342, 1, 55, 584, 585, 11, 799, 796, 125, 10, 2230, 800, 2231, 2232, 1170, 125, 10, 2233, 2234, 2235, 244, 10], [45, 1201, 470, 4, 120, 274, 1202, 30, 10], [327, 586, 91, 4, 587, 233, 7, 1203, 233, 6, 100, 59, 44, 801, 587, 233, 9, 588, 12, 124, 2236, 13], [1204, 44, 100, 395, 290, 1, 2237, 4, 395, 802, 27, 2238, 5, 2239, 2], [2240, 6, 2241, 5, 18, 2242, 27, 13, 5, 1205], [803, 2243, 6, 2244, 24, 7, 2245, 2, 2246, 2247, 804, 1206, 589, 396, 1207, 4, 2248, 163, 343, 2249, 4, 590, 142, 6, 2250, 1206, 2251, 2252, 95, 805, 52], [272, 2253, 2254, 291, 165, 130, 19, 53, 28, 2255, 471, 471, 471, 471, 471], [2256, 806, 1208, 1209, 806, 207, 2257], [472, 92, 3, 807, 808, 591, 592, 593, 809, 11, 292, 62, 4, 293, 594, 810, 397, 9, 811], [118, 280, 2, 2258, 208, 12, 1210, 25, 3, 131, 135, 2259, 126, 208], [35, 3, 1211, 2, 2260, 8, 54, 812, 13, 2261, 194, 122, 106, 35, 2262, 7, 5], [2263, 2264, 2265, 148, 595, 8, 12, 256, 1212, 1213, 1214, 1215, 132, 595, 2266], [1216, 813, 1217, 1218, 3, 50, 15, 814, 3, 446, 153, 2267, 2268, 344, 1216, 813, 1217, 1218, 3, 50, 15, 814, 1168], [56, 97, 64, 7, 2269, 3, 2270, 596, 2271, 2272, 775, 56, 398, 294, 2273, 398, 294, 9, 2274], [45, 345, 473, 13, 597, 8, 1219, 76, 2, 598, 1220, 246, 126, 42, 10, 209], [41, 2275, 11, 815, 1221, 44, 1106, 1, 82, 381, 816, 88, 10, 1222], [43, 399, 2276, 8, 46, 1223, 291, 7, 1224, 2277, 2278, 22, 21, 295, 296, 1, 297, 257, 7, 1225, 1226], [1227, 225, 3, 1228, 474, 817, 1229, 218, 202, 188, 737, 218, 475, 37, 400, 1230, 599, 143, 36, 1231, 401], [600, 601, 6, 378, 253, 74, 298, 2279, 818, 1232, 2, 1233, 476, 52, 1234, 2280, 2281, 2, 600, 601, 6, 378, 2282], [2283, 334, 346, 9, 1235, 452, 1, 477, 1236, 2284, 1237, 819, 577], [2285, 2286, 2287, 1238, 1239, 2288, 96, 2289, 1238, 1239, 478, 96, 33, 2290, 2291, 820, 2292, 2293, 87, 1240, 2294], [191, 391, 392, 4, 821, 90, 2295, 2296, 292, 2297, 2298, 8, 602, 1089, 6, 2299, 2300], [744, 99, 822, 37, 823, 234, 20, 200, 2, 99, 6, 824, 21, 1241, 8, 28, 18, 17, 113, 109, 200, 1242, 11, 80, 345, 825, 17, 30], [158, 4, 119, 1, 55, 135, 255, 165, 183, 826, 1243, 6, 603, 1244, 6, 180, 116, 13, 1245, 17, 119, 1246, 827, 1247], [552, 1211, 2301, 177, 432], [210, 2302, 110, 6, 371, 1248, 156, 1, 2303, 2304, 828, 604, 2305], [1249, 109, 12, 2306, 8, 2307, 2308, 14, 2, 2309, 42, 39, 1250, 1251, 42, 299, 299, 605, 1252, 2310, 12, 2, 2311, 116, 23, 42, 2312, 2313], [113, 146, 2314, 2315, 2316, 144, 2317, 2318, 87, 2319, 2320, 207, 2321, 2322, 2323, 793, 2324, 2325], [68, 76, 191, 391, 829, 11, 606, 1, 140, 230, 36, 287, 2, 300, 1253, 830, 44, 2326, 1254, 128, 401, 2327], [2328, 128, 1, 2329, 2330, 128, 9, 24, 211, 2, 56, 97, 64, 3, 258, 4, 607, 246, 17, 773, 831, 2, 183, 100, 1255, 2331, 1, 2332, 11, 819, 832, 59], [20, 36, 7, 2333, 38, 2334, 1256, 2335, 9, 833, 2336, 834, 479], [347, 480, 402, 608, 259, 2337, 2338, 403, 101, 2339, 200, 769, 2, 347, 2340, 1, 1257, 2341, 2, 402, 38, 811], [86, 1258, 2, 1259, 44, 347, 6, 2342, 276, 6, 2343, 5, 404, 2344], [2345, 190, 835, 9, 1260, 836, 2346, 2347, 2348, 1, 140, 837, 2349, 78, 111, 212, 1260, 836, 7, 2350], [176, 838, 68, 7, 177, 199, 85, 137, 19, 1182, 609, 28, 85, 348, 2351, 1261, 8, 2352, 6, 436, 796, 348, 1262], [80, 4, 2353, 184, 8, 52, 185, 228, 37, 15, 257, 1, 82, 260, 2354, 4, 2355], [2356, 12, 28, 5, 348, 235, 1263, 481, 92, 481, 8, 2357, 7, 63, 405, 839, 108, 121, 14, 2358, 235, 73, 12, 41, 241, 1, 301, 15, 19, 239, 60], [2359, 203, 2360, 1, 482, 1264, 2361, 186, 1, 37, 483, 261, 23, 21, 44], [2362, 107, 24, 2363, 1, 140, 840, 213, 2364, 2365, 2366], [12, 2367, 2368, 79, 159, 206], [406, 43, 2369, 9, 841, 4, 407, 2370, 3, 2371, 4, 842, 2372, 21], [29, 39, 2373, 60, 2374, 2375, 29, 2376, 63, 1265, 52, 10, 1266, 1267, 4, 160, 57, 1, 610, 3, 2377, 283, 147, 64, 9, 1268, 2378, 302, 479], [2379, 9, 580, 288, 1, 55, 81, 1, 2380, 843, 844, 10, 2381, 2382, 2, 2383, 349, 4, 590, 611, 539, 845, 152], [2384, 2385, 2386, 12, 1269, 6, 248, 15, 5], [197, 12, 145, 302, 846, 5], [2387, 847, 234, 8, 34, 484, 283, 548, 2388, 114, 2389, 13, 111, 2390, 612, 4, 2391, 15, 1270, 234, 10], [86, 1258, 2, 1259, 44, 1271, 3, 1272, 2392, 276, 1, 2393, 4, 7, 1273, 848, 19, 1274, 5, 33], [160, 57, 1, 2394, 3, 610, 7, 2395, 613, 2, 159, 17, 788, 380, 3, 2396, 38, 3, 2397], [26, 2398, 1110, 214, 1174, 284, 7, 849, 9, 1275, 2399, 186, 5, 2400, 443, 3, 49, 5], [163, 51, 2401, 69, 35, 1, 100, 11, 28, 2402, 20, 1276, 1, 482, 123, 2403, 303, 5, 18, 117, 201, 1277, 35, 1, 67, 27, 1278, 23, 19, 125, 10], [141, 304, 3, 850, 2404], [408, 3, 69, 12, 47, 250, 4, 27, 330, 19, 125, 30, 113, 3, 131, 220, 2405, 2406, 192, 44, 31], [20, 3, 1279, 485, 9, 20, 7, 229, 59], [614, 29, 5, 39, 63, 2407, 11, 183, 2408, 172, 8, 583, 3, 2409, 11, 123, 2410, 166, 1, 583, 7, 2411, 108, 8, 187, 7, 851, 1280], [160, 57, 1, 852, 194, 122, 106, 6, 274, 262, 182, 6, 215], [92, 189, 3, 853, 1, 69, 1281, 7, 305, 38, 3, 486, 62, 3, 854, 1, 1282, 855, 2412, 2413], [2414, 2415, 1202, 2416, 275, 90, 389, 306, 5, 2417, 2418], [1127, 549, 154, 12, 163, 34, 51, 15, 782, 2419, 22, 66, 40, 2420, 1, 67, 2421, 132, 2422, 549, 154, 856, 2423, 12, 49, 64], [1283, 484, 2424, 2425, 2426, 4, 54, 1284, 857, 166, 1, 29, 1283, 86, 2, 40, 158, 3, 1284, 1, 42, 1285, 8, 263, 2427, 2428, 70, 1, 286], [1286, 46, 858, 6, 24, 82, 1287, 16, 2429, 24, 268, 487, 2430, 184, 16, 2431, 2432, 61, 216, 61], [2433, 2, 859, 8, 402, 1, 403, 860, 3, 1288, 11, 2434, 2435, 9, 859, 8, 402, 1, 403, 860, 1289], [481, 92, 488, 113, 488, 434, 488, 2436, 488, 615, 488, 33], [61, 216, 61, 6, 36, 2437, 300, 2438], [616, 22, 2439, 861, 7, 113, 109, 9, 2440, 617, 4, 92, 59, 22, 10, 10], [45, 1290, 459, 174, 9, 1291, 4, 2441, 618, 409, 862, 2442, 863, 2443], [489, 1, 55, 34, 2444, 2445, 2446, 619, 2447, 1, 67, 39, 77, 307, 7, 2448, 111, 14, 41, 4, 308, 2449, 489, 67, 33], [2450, 25, 151, 2451, 8, 1292, 831, 154, 94, 103, 79, 149, 5, 102], [2452, 2, 2453, 1119, 2, 2454, 298, 600, 601, 4, 222, 1293, 190, 62, 2455], [206, 21, 201, 1294, 27, 78, 19, 133, 5, 10], [45, 2456, 11, 2457, 396, 864, 212, 10], [2, 57, 98, 8, 160, 57, 1, 610, 4, 453, 42, 18, 66, 47, 4, 34, 4, 34, 15, 297, 2458, 143, 2459, 66, 33], [160, 1295, 4, 245, 105, 165, 1144, 134, 1296, 1, 67, 326, 13, 21, 865, 45, 835], [1297, 1146, 2460, 22, 10, 2461, 8, 1298, 38, 275, 90, 2462, 2463, 151, 1299, 2464, 444, 22, 535, 2465, 866, 2466, 65, 147, 437, 90, 2467, 214, 98], [83, 95, 2468, 42, 1300, 2469, 24, 25, 2470, 3, 1301, 93, 2471, 2472, 108, 93, 537, 5, 18, 2473, 1300, 4, 469, 31], [2474, 2475, 2476, 867, 195, 1302, 2477, 144, 2478, 2479, 2480, 2481, 2482, 144, 867, 195, 2483, 2484, 868, 2485, 161, 2486, 2487], [547, 1303, 2, 869, 152, 5, 2488, 2489, 7, 282, 870, 63, 1272, 350, 5], [32, 40, 6, 1304, 172, 10, 389, 141, 14, 2490, 15, 260, 2491, 2, 60, 10, 28, 215, 2492, 2493, 2494, 41, 109, 1, 2495], [21, 34, 375, 24, 1, 107, 130, 1, 550, 2, 620, 149, 89, 10, 82, 871, 2496, 2497], [264, 101, 259, 490, 7, 346, 2498, 2499, 872], [2500, 12, 388, 89, 2501, 89, 136, 2502, 2503, 89], [2504, 8, 1305, 2505, 1306, 1, 77, 66, 110, 2, 410, 2506, 1307, 12, 1305, 78, 2507, 5, 10], [351, 2508, 89, 72, 4, 72, 95, 6, 2509, 4, 35], [32, 182, 621, 1308, 395, 411, 3, 64, 81, 152, 1309, 1310, 1311], [139, 278, 6, 224, 123, 104, 622, 300, 1312, 491, 873, 7, 344], [61, 216, 61, 7, 1313, 3, 34, 486, 13, 1314, 36, 1315, 20, 309, 187, 27, 412, 19, 18, 274, 104, 1316, 30, 320, 1317, 2510, 412, 71, 623, 19, 18, 104, 52], [443, 1318, 443, 1319, 452, 6, 2511, 15, 352, 2512], [2513, 353, 2514, 7, 2515, 624, 2, 211, 2516, 2517], [2518, 33, 413, 25, 3, 204, 4, 26, 8, 2519], [1320, 104, 2520, 2521], [124, 124, 2522, 236, 243], [1321, 414, 2523, 2524, 5, 2525, 4, 2526, 111, 2527, 110, 23, 533, 39, 56, 12, 2528, 2529, 374, 111, 2530, 533], [46, 874, 2531, 7, 564, 120, 29, 170, 7, 2532, 8, 12, 63, 196, 11, 875, 108, 10, 2533, 166, 79, 743, 2534, 2535, 2536, 2537, 2538], [68, 76, 2, 139, 278, 6, 224, 123, 104, 310, 177, 199, 85, 137, 753, 47, 70, 1, 55, 1322, 8, 2539, 6, 436, 244, 2540, 2541], [1323, 229, 2542, 31, 1324, 16, 8, 2543, 212, 354, 30, 16, 66, 213, 15, 52], [1160, 457, 876, 8, 777, 2544, 6, 1325, 78, 38, 6, 215], [1326, 1327, 1328, 1329, 1330, 96, 1331, 2545, 2546, 1332, 96, 1333, 179, 2547, 2548, 2549, 96, 1334, 2550, 2551], [20, 75, 1, 2552, 6, 2, 21, 2553, 2554, 42, 18, 86, 1, 2555, 4, 469, 1133, 7, 489, 625, 246, 17, 2556, 350, 5, 1335, 75, 167, 265, 32, 415], [151, 877, 878, 1, 572, 114, 184, 2557, 9, 196, 114, 326, 1336, 406, 879], [1210, 1337, 4, 880, 7, 1338, 106, 6, 2558, 2559, 2560, 2561, 230, 487, 2562, 880, 6, 599, 188, 31, 1338, 106, 2563, 1339, 626, 10], [101, 627, 416, 147, 768, 2, 2564, 90, 1340, 107, 6, 173, 19, 310], [120, 74, 289, 2565, 1, 69, 881, 129, 1341, 2566, 492, 27, 493, 526, 5], [1342, 32, 2, 260, 1, 1343, 2, 197, 95, 2567, 13], [882, 2568, 2569, 2570, 9, 46, 73, 6, 2571, 21], [176, 545, 7, 177, 199, 85, 137, 2572, 628, 2573, 138, 167, 103, 217, 355, 8, 138, 242, 217, 355, 11, 2574, 1137], [356, 1166, 382, 9, 357, 1344, 124, 2575, 557, 23, 2576, 801, 86, 9, 2577, 71, 1323, 8, 2578, 557, 2579, 12, 32, 6, 571, 20, 4, 2580, 5, 740, 2581], [57, 98, 629, 1, 1345, 11, 358, 5, 1346, 3, 306, 1347, 14, 494, 359], [1348, 3, 1349, 2, 1350, 2582, 14, 10, 41, 1350, 2583, 7, 630, 1, 55, 631, 3, 2584, 7, 2585, 1351, 5, 10, 47, 495, 1352, 33], [72, 4, 35, 883, 4, 460, 5, 1, 47, 50, 2586, 3, 632, 88, 8, 525, 127, 7, 2587, 17, 252], [616, 5, 156, 3, 174, 80, 633, 2588, 17, 126, 5, 10, 417, 884, 12, 2589, 3, 1353, 5], [141, 2590, 265, 32, 2591, 2592, 9, 183, 575, 46, 2593, 1354, 4, 2594, 1355, 83, 1354, 7, 20, 6, 885, 634, 12, 20, 9, 33], [194, 635, 490, 7, 628, 636, 376, 637, 19, 52], [40, 2, 4, 29, 2595, 9, 638, 2596, 2597, 2598, 6, 276, 886, 5, 16, 308, 239, 14, 18, 47, 77, 237, 2599, 4, 1175, 42, 30, 2600, 74, 2601, 2602, 42], [45, 887, 6, 618, 15, 544, 2, 118, 254, 310], [72, 4, 35, 35, 12, 1356, 27, 639, 1357, 4, 496, 4, 1357, 1118], [602, 1358, 1, 94, 1150, 128, 888, 8, 764, 497, 279, 128, 2603, 9, 68, 76, 2, 94, 103, 128, 92, 189, 4, 821, 3], [45, 117, 9, 2604, 59, 5, 241, 4, 1359, 13, 2605, 640, 94, 2606], [24, 3, 497, 211, 174, 1, 641, 228, 2607, 36, 6, 2608, 889, 15, 1360, 839, 108, 59, 622, 642, 643, 644], [498, 2609, 227, 2, 1361, 1362, 2610, 3, 1363, 2611, 2, 2612, 2613, 90, 2614, 5], [1364, 645], [2615, 2616, 1, 158, 7, 2617, 6, 277, 59, 159, 149, 5, 12, 227, 870, 2618, 13, 16, 499, 2619, 2, 1365, 348, 2620, 2621, 1366, 11, 73, 13, 17, 121, 2622, 2623], [1367, 2624, 6, 2625, 1324, 2, 890, 2626, 16, 891, 81, 3, 1368, 2627, 1369], [500, 1370, 13, 500, 1360], [2628, 7, 83, 201, 418, 23, 892, 79, 53, 2629, 780, 11, 2630, 157, 1371], [24, 2, 646, 501, 893], [2631, 4, 266, 145, 26, 409, 2632, 336, 2633, 2, 647, 1372, 2634, 2635, 2636, 50, 9, 18, 2637, 1373, 2638, 2639], [196, 3, 894, 2, 2640, 581, 895, 1374, 6, 648], [612, 849, 3, 2641, 8, 176, 2642, 3, 2643, 5, 16, 1375, 649, 103], [2644, 2645, 2646, 96, 2647, 2648, 2649, 16, 2650, 868, 2651, 33], [788, 231, 2652, 7, 1114, 14, 16, 231, 461, 896, 108, 451], [93, 138, 75, 167, 265, 32, 415, 4, 169, 20, 285, 4, 15, 5, 18, 2, 9, 886, 18, 2653, 351, 6, 897, 248, 1, 855, 1250, 795, 2654, 1, 2655, 1376, 2656], [40, 501, 4, 19, 2657, 262, 4, 132, 2658, 2659, 473, 2, 281, 212, 60, 102, 72, 4, 35], [2660, 1377, 280, 898, 142, 135, 74, 93, 16, 547, 67, 119, 108, 115, 42, 66, 104, 13, 239, 16, 135, 12, 108, 239, 19, 2661, 72, 4, 35], [158, 11, 26, 272, 1378, 225, 165, 5, 18, 86, 2, 419, 7, 2662, 13, 1148, 18, 39, 29, 118, 115, 5, 171, 18, 2663, 5, 132, 899, 387, 741], [1379, 37, 2664, 15, 2665, 2666, 123, 2667, 30, 2668, 1380, 8, 2669, 1380, 2670, 6, 2671, 900, 14, 2672], [2673, 2674, 130, 2, 228, 650, 27, 1381, 236, 5, 10, 43, 25], [1108, 472, 92, 3, 807, 808, 591, 592, 593, 809, 11, 292, 62, 4, 293, 594, 810, 397, 9, 292, 62, 4, 94, 33], [29, 12, 129, 295, 27, 81, 1294, 115, 58, 209, 2675, 2676, 6], [51, 158, 7, 651, 372, 5, 2677, 7, 41, 3, 368, 2, 293, 652, 5, 2678, 1382, 111, 5, 2679, 7], [2680, 3, 2681, 19, 133, 240], [43, 66, 46, 291, 3, 387, 653, 620, 108, 8, 183, 2682, 107, 420, 654, 901, 329, 22, 654, 1169, 845, 12, 655, 51, 8, 77, 20, 3, 446, 2683], [34, 902, 4, 656, 53, 8, 50, 9, 1383, 17, 502, 12, 21, 186, 421, 12, 2684, 27, 2685, 14, 50, 7, 35, 3, 903, 5, 8, 50, 7, 62, 3], [657, 657, 551, 2, 2686, 573, 270, 148, 2687, 3, 2688, 223, 2689, 1384, 1, 100, 4, 8, 101, 904, 2, 2690, 1384, 1, 100, 4], [21, 20, 4, 114, 15, 2691, 3, 1385, 22, 658], [160, 57, 555, 7, 905, 76, 2, 541, 172, 84, 2692, 6, 2693, 2694, 37, 905, 76, 2, 2695], [2696, 4, 906, 876, 659, 907, 2697, 2698, 79, 53, 1386, 2699, 503, 4, 1387, 660, 65, 74, 33], [2700, 46, 1388, 249, 11, 2701], [2702, 661, 7, 1096, 4, 114, 1389, 13, 908, 185, 1389, 3, 1390, 2, 1391, 13, 2703, 324, 10], [2704, 836, 1, 232, 291, 2, 441, 504, 3, 909], [36, 2, 1348, 1, 100, 11, 2705, 2706, 3, 576, 2707, 159, 126, 5, 86, 4, 36, 2708, 19, 115, 5, 635, 1392], [68, 76, 162, 78, 38, 11, 26, 650, 145, 1, 910, 15, 1393, 2709, 121, 14, 335, 1, 852, 120, 110, 4, 27, 110, 2710], [2711, 2712, 28, 2713, 42, 18, 28, 26, 2714, 2715, 5, 10], [45, 1340, 107, 7, 78, 13, 911, 739, 369, 2716, 5, 10, 640, 94, 500, 1370], [101, 347, 480, 11, 1394, 6, 608, 259, 403, 2717, 109, 120, 15, 790, 3, 2718, 912, 2719, 1395, 142, 118, 2720, 223], [211, 3, 20, 2721, 174, 11, 116, 24, 6, 2722, 2723, 864, 21, 159, 115, 5, 28, 124, 13, 213, 239, 157, 41, 7, 2724, 234], [1396, 12, 505, 27, 115, 5, 18, 24, 130, 2725, 4, 213, 118, 31], [2726, 2727, 506, 1184, 20, 901, 43, 6, 1199, 2728, 2729, 658, 2730, 22, 12, 2, 20, 214, 2731, 187, 249, 243, 63, 2732, 243], [113, 109, 662, 168, 2733, 30, 19, 30], [141, 2734, 2735, 913, 4, 2736, 5, 18, 356, 193, 360, 32, 217, 361, 9, 2737, 2738, 914, 1, 110, 70, 77, 422, 532, 182, 1, 69, 26, 2739, 8, 2740], [2741, 2742, 2743, 2744, 2745, 2746, 2747, 2748, 2749, 2750, 1397, 2751, 144, 2752, 2753, 2754, 146, 2755, 2756, 1397, 2757, 763, 2758], [40, 360, 193, 217, 361, 9, 357, 2759, 182, 2760, 915, 38, 4, 1398, 916, 2761, 507, 12, 914, 1, 110, 307, 4, 118, 325, 387, 311, 2762, 2763], [92, 189, 1, 439, 1, 301, 496, 4, 13, 2764, 31, 43, 25, 2765, 163, 1399, 2766, 5, 603, 1400, 15, 303, 5, 1159], [266, 145, 9, 2767, 190, 2768, 326, 21, 454, 242], [210, 107, 413, 25, 1, 100, 107, 1, 235, 1401, 2, 607, 2769, 24, 3, 663, 2, 70, 4, 114, 917, 664, 65, 604, 79, 52], [2770, 12, 2771, 15, 308, 7, 1402, 303, 5, 2772, 4, 508, 38, 3, 282, 2773, 17, 149, 5, 10], [918, 2774, 794, 393, 2775, 1, 447, 2776, 1403, 3, 2777, 2778], [160, 57, 6, 162, 78, 105, 11, 68, 76, 2, 2779, 6, 2780], [2781, 1404, 110, 639, 91, 24, 211, 174, 1, 55, 2782, 12, 2783], [625, 71, 2784, 3, 919, 2, 432, 312, 3, 54, 2785, 11, 2786, 164, 1405, 31, 16, 2787, 920, 6, 2788, 8, 902, 2789, 3, 44, 84], [210, 559, 921, 24, 6, 156, 565, 840, 213, 17, 783, 6, 215], [264, 45, 2, 891, 887, 6, 618, 1406, 532, 182, 2790], [478, 922, 923, 2791, 269, 2792, 2793, 2794, 2795, 2796, 820, 923, 2797, 924, 2798, 161], [2, 2799, 42, 197, 2800, 913, 2, 243, 209, 1407, 197, 925, 13, 1408], [327, 2801, 570, 129, 926, 26, 396, 589, 349, 1409, 214, 142, 1410, 1411, 2, 352, 115, 5, 16, 1412], [209, 228, 1413, 2802, 12, 220, 15, 2803, 1, 1414, 7, 51, 1413, 2804, 46, 2805, 11, 1225, 5, 8, 1415, 3, 204, 2806, 5, 2807, 177, 24], [1416, 272, 27, 5, 2808, 134, 162, 8, 602, 2809, 11, 235, 154, 815, 2810, 2811], [665, 1417, 2812, 927, 666, 2813, 2, 477, 279, 196, 3, 2814, 1418, 2815, 2816], [28, 15, 509, 22, 18, 77, 63, 134, 928, 154, 2817, 1419, 111, 14], [41, 320, 375, 4, 460, 5, 1131, 787], [117, 7, 1420, 2818, 1421, 2819, 354, 8, 36, 2820, 2821, 6, 929, 2822, 168, 354, 101, 1, 117, 7, 1421, 246, 168, 33], [930, 1422, 667, 2823, 22, 2824, 2825, 76, 8, 113, 43, 8, 931, 2826, 2827, 76], [49, 2828, 19, 34, 1423, 2829, 2830, 856, 1424, 19, 143, 274, 2831, 2832, 932, 17, 350, 42, 2, 2833], [57, 98, 9, 629, 3, 909, 90, 586, 1, 286, 482, 105, 6, 215, 2834, 588, 221, 465], [139, 2835, 123, 668, 101, 2836, 2837, 2838, 96, 1425, 87, 2839, 1426, 2840, 195, 2841, 2842, 2843, 1427, 2844, 2845], [2846, 2847, 1428, 2848, 1429, 32, 2849, 2850, 2851, 2852, 2853, 2854, 2855, 2856, 2857, 1429], [641, 2858, 933, 24, 7, 934, 2859, 1430, 451], [20, 49, 7, 2860, 2, 34, 2861, 13, 18, 47, 46, 1431, 2, 1432, 1368, 13, 212, 10, 136, 47, 9, 20, 510, 11, 1369, 1433, 2862], [2863, 165, 935, 48, 25, 4, 619, 17, 310, 543, 380, 2, 57, 2864, 3, 779, 1434, 11, 231, 2865, 31, 86, 7, 57, 98, 2866, 2867, 172, 84], [659, 637, 628, 238, 199, 636, 1402, 1435, 25, 2868, 118, 121, 14, 157], [28, 177, 2869, 205, 15, 34, 2870, 27, 2871, 5, 15, 2872, 17, 115, 5, 10], [918, 2873, 1436, 152, 2874, 927, 2875, 2876, 271, 834, 2877, 2878, 8, 1437, 2879, 5, 8, 2880], [1438, 2881, 39, 936, 40, 7, 2882, 907], [1439, 2883, 1440, 6, 198, 188, 1441, 89, 102, 2884, 24, 422, 1442], [37, 2885, 2886, 2, 51, 15, 13, 2887, 3, 1443, 576, 2, 511, 512, 52, 2888, 2889, 126, 14, 18, 2890, 154, 2891, 2892, 3, 2893, 4, 148, 263, 512, 52], [2894, 360, 393, 128, 382], [2895, 1444, 2896, 9, 93, 2897, 2, 1445, 1446, 22, 937, 194, 9, 466, 2898, 12, 2899, 2900, 11, 418, 388, 2901, 2902, 2903, 5, 2904, 35], [2905, 2906, 3, 2907, 1447, 1376, 759, 65, 77], [1448, 24, 4, 1449, 57, 24, 1, 2908, 2909, 17, 36, 2910, 20, 57, 7, 2911, 30, 10, 628, 938, 194, 2912], [51, 15, 329, 2913, 939, 12, 1450, 397, 7, 187, 325, 324, 58, 2914, 2915, 2916, 37, 2917, 1, 2918, 313, 2919, 2920], [2921, 1451, 178, 206, 1452, 22, 1452, 113, 9, 118, 502, 2922, 8, 237, 502, 63, 2923, 37, 262, 44, 2924, 1201, 85, 184, 31], [2925, 669, 6, 345, 926, 2926, 2927, 2928, 862], [2929, 168, 2930, 104, 2931, 2932, 9, 16, 1171, 362, 27, 1204, 1453, 437], [2933, 276, 38, 3, 670, 2934, 17, 59, 53, 1454, 2935], [36, 287, 2, 2936, 9, 63, 2937, 2938, 152], [341, 232, 26, 238, 2939, 1, 940, 4, 371, 126, 5, 18, 312, 941, 19, 121, 14, 535, 560, 238, 2940, 1, 940, 4, 18, 1455, 941, 19, 121, 14], [70, 4, 314, 1297, 368, 2941, 81, 2942, 8, 2943, 2944, 22, 423, 2945, 86, 1, 462, 937, 180, 2946, 8, 2947, 178, 654, 2948, 22, 2949, 2950], [369, 123, 789, 2, 2951, 942, 1, 297, 238, 3, 834, 942, 5, 157, 143, 387, 199, 1456, 337, 14, 157, 39, 2952], [2953, 1, 2954, 90, 2955, 1457, 3, 418, 943, 566, 339, 30, 10], [2956, 2957, 571, 2958, 238, 199, 569, 638, 2959, 2960, 2961, 401, 2962, 2963, 2964, 401, 2965, 2966, 2967], [880, 548, 6, 2968, 19, 671, 8, 561, 1, 2969, 79, 671, 8, 1458, 32, 4, 944, 2970, 66, 547, 462, 80, 114, 944, 13, 12, 34, 513, 13, 304], [1459, 203, 1460, 2, 485, 786, 1461, 30, 514, 1462, 15, 166, 892, 12, 73, 48, 4, 634, 339, 30, 72, 4, 35], [1463, 47, 1464, 3, 2971, 2972, 105, 1, 69, 1307, 30, 120, 2973, 1, 67, 48, 2974, 2975], [191, 48, 4, 48, 25, 95, 6, 672, 2976, 104, 13, 115, 16, 48, 104, 53, 5], [112, 4, 345, 2977, 282, 5], [68, 76, 8, 464, 2, 139, 278, 6, 224, 123, 2978, 89, 176, 2979, 68, 7, 177, 85, 137, 178], [139, 278, 6, 224, 123, 2980, 177, 2981, 85, 2982, 137, 2983], [166, 2984, 8, 1465, 2985, 1, 449, 15, 2986, 11, 544, 532, 212, 14, 2987, 2988, 63, 1434, 7, 1466, 65, 13, 2989], [57, 98, 6, 2990, 2991, 198, 11, 82, 229, 44, 12, 25, 2992, 13, 2993, 113, 1, 182, 4, 116, 945, 31, 39, 57, 98, 6, 1467, 15, 13, 10], [2994, 12, 2995, 14, 919, 3, 2996, 2, 180, 4, 330, 225, 3, 2997, 673, 12, 1468, 5, 77, 77, 150, 41, 7, 21, 674, 946, 33], [947, 948, 4, 15, 114, 2998, 163, 85, 2999, 374, 3, 285, 4, 208, 5, 10, 947, 948, 8, 3000, 3001, 3, 131, 1469, 374, 4, 15, 421, 27, 3002, 5], [262, 3, 250, 2, 363, 3, 315, 164], [210, 107, 24, 1, 235, 3003, 1470, 424, 11, 1471, 210, 107, 130, 2, 24, 840, 213, 17, 3004], [141, 423, 242, 6, 949, 1472, 3005, 8, 3006, 861, 1473, 1, 3007, 90, 561, 71, 1474, 6, 1448, 14, 1475, 33], [45, 504, 1, 841, 1, 407, 1, 67, 950, 152, 3008, 5, 3009, 99, 1476], [914, 3, 1477], [237, 9, 371, 1478, 5, 16, 237, 9, 1479, 3010, 5, 37, 1480, 53, 946, 20, 508, 6, 1481], [828, 85, 69, 136, 98, 340, 3011, 3, 26, 624, 9, 1482, 951, 1483, 1, 176, 410, 3012, 7, 75, 3013, 3, 673, 3014, 5], [99, 3015, 3016, 3017, 237, 9, 1484, 1485, 293, 252, 3018, 3019, 16], [56, 97, 64, 2, 3020, 3021, 1, 3022, 3, 896, 1486, 73, 675, 14], [1190, 2, 1487, 130, 97, 147, 676, 3, 677, 425, 678, 9, 213, 254], [122, 106, 24, 289, 3023, 1, 118, 171, 3024, 3, 3025, 78, 3026, 78, 3027, 46, 36, 3028], [29, 77, 3029, 9, 3030, 3, 3031, 1488, 230, 3032, 3033, 1274, 3034, 3035, 41, 4, 3036, 28, 5, 3037], [515, 476, 293, 3038, 6, 3039, 3040, 8, 679, 158, 6, 3041, 288, 129, 389, 5, 29, 3042], [3043, 3044, 3, 516, 889, 3045, 6, 559, 3046, 164], [411, 3047, 74, 3048, 3049, 72, 4, 35], [1162, 3050, 222, 680, 3051, 5, 3052, 3053, 212, 3054, 331, 81, 1489, 3055, 680, 3056, 1163, 136, 567, 3057, 212, 952, 331], [3058, 3059, 3, 3060, 90, 853, 6, 3061, 3062, 326, 38, 6, 215, 16, 642, 643, 644], [64, 3063, 3064, 864, 251, 15, 3065, 3066, 245, 13, 3067, 3068, 1, 205, 1490, 92, 143, 202, 251, 108, 1102, 155], [3069, 13, 5, 18, 40, 94, 103, 6, 439, 1491, 1491, 187, 46, 408, 3070, 10, 57, 98, 1492, 2, 54, 1493, 23, 44, 185, 439, 23, 108], [388, 661, 4, 953, 3071, 121, 21, 426, 114, 953, 3072, 1494, 953, 954, 267, 1495, 4, 3073], [8, 66, 201, 3074, 208, 12, 270, 17, 15, 339], [24, 57, 98, 6, 3075, 7, 629, 1, 3076, 11, 49, 38, 90, 586, 497, 279, 1, 286, 482, 105, 6, 215], [1496, 955, 1496, 3077, 3078, 956, 96, 3079, 3080, 1497, 87, 957, 3081, 144, 1498, 3082, 3083, 956, 3084, 144, 3085, 1498, 958, 3086], [3087, 3, 1179, 37, 50, 4, 3088, 13, 126, 5, 10, 230, 95, 39, 510, 3089, 3, 1499, 17, 121, 60, 91, 3090, 19, 17, 260, 3091], [2, 48, 48, 479, 1500, 48, 846, 157], [143, 3092, 93, 20, 3093, 459, 959, 31], [3094, 3095, 2, 3096, 884, 6, 3097, 3098, 3, 62, 9, 2, 74, 499, 1501, 2, 1502, 3099, 3, 3100], [26, 110, 3101, 1, 55, 681, 127, 3102, 1351, 5], [141, 304, 1, 1378, 1503, 2, 1504, 3103, 3, 653, 3104, 682, 3105, 95, 805, 960, 223, 10, 683, 510, 3106, 3107, 16, 3108, 3109, 10], [472, 92, 3, 807, 808, 591, 592, 593, 809, 11, 292, 62, 4, 293, 594], [684, 3110, 123, 3, 1505, 2, 313, 1506, 3, 342, 20, 131, 15, 529, 5, 10], [3111, 12, 93, 70, 3112, 961, 31, 866], [1507, 3, 28, 484, 3113, 5, 18, 499, 962, 251, 50, 1483, 7, 3114, 685, 354, 8, 117, 1, 286, 679, 79, 3115, 3116, 354, 18, 220, 12, 98, 13, 340, 115], [37, 1, 3117, 3118, 3119, 7, 3120, 133, 3121, 123, 1, 3122, 3123, 512, 52, 3124, 1508, 1508, 14, 1509, 1510, 1510, 3125, 148, 686, 1, 110, 332, 512, 52], [62, 3126, 3127, 8, 3128, 3129, 7, 292, 94, 1511, 5, 535, 677, 25, 7, 1512, 3130, 1511, 5, 578, 3131], [384, 3132, 234, 517, 19, 44, 31], [1241, 1513, 12, 1514, 5, 21, 141, 1515, 15, 1278, 14, 132, 442, 15, 3133, 6, 3134, 5, 963], [498, 231, 461, 3135, 3136, 100, 1516, 380, 6, 173, 414, 3137, 231, 33], [3138, 1517, 508, 28, 5, 64, 518, 3139, 6, 1518, 3140, 3141, 19, 53, 5, 34, 15, 296, 41, 7, 1519, 23, 17, 377, 8, 23, 3142], [169, 93, 41, 1439, 4, 5, 48, 964, 39, 685, 14, 3143, 1254, 43, 1435, 25], [127, 46, 1520, 6, 100, 5, 127, 26, 1521, 377, 3144, 5, 127, 3145, 3146, 3147, 5, 127, 1315, 50, 261, 5, 3148, 273, 1522, 5, 33], [26, 1523, 22, 240, 72, 4, 35, 12, 529, 13, 603, 1400, 6, 3149, 655, 596, 3150, 240, 132, 175, 3151, 48, 409, 4, 73, 3152, 33], [965, 3, 1524, 5, 1525, 2, 9, 86, 1, 55, 70, 7, 1091, 59, 20, 9, 93, 229, 59], [343, 257, 3153, 133, 22, 18, 48, 3, 3154, 116, 792, 133, 14], [12, 21, 40, 321, 599, 3155, 475, 420, 3156, 3157, 90, 1433, 3158, 1325, 3159, 188, 3160], [86, 110, 47, 2, 1526, 6, 3161, 281, 19, 44, 31, 20, 110, 316, 1527, 7, 63, 63, 3162, 202, 17, 1, 1356, 562, 44, 31], [802, 13, 64, 81, 966, 3163, 175, 8, 34, 483, 476, 23, 756, 1528], [3164, 3165, 88, 3166, 19, 125, 30], [3167, 3168, 1, 841, 1, 67, 1529, 3169, 5], [61, 216, 61, 6, 190, 62, 1, 69, 385, 3170, 227, 62, 4, 15, 1153, 6, 173, 3171, 167, 427], [28, 39, 51, 3172, 3173, 4, 244, 3174, 14, 148, 3175, 124, 3176, 125, 12, 3177, 17, 3178], [967, 687, 3179, 3180, 1530, 98, 687], [158, 4, 119, 1, 55, 135, 255, 165, 183, 826, 1243, 6, 603, 1244, 6, 180, 116, 13, 1245, 17, 119, 1246, 827, 1247], [384, 3181, 1280, 27, 13], [181, 3182, 296, 9, 937, 8, 298, 7, 363, 251, 859, 386, 24], [3183, 255, 65, 135, 255, 11, 3184], [45, 434, 189, 9, 3185, 682, 927, 3186, 202, 3187, 10, 531, 435, 1531], [3188, 6, 1180, 3189, 12, 188, 53, 166], [1532, 649, 566, 20, 332, 949, 17, 1533, 8, 257, 688, 299, 3190, 4, 968, 3191, 48, 281, 23, 226], [14, 893, 21, 3192, 817, 11, 1534, 184, 40, 77, 866], [1535, 1503, 68, 3, 3193, 8, 545, 1, 1358, 3, 3194, 3195, 22, 66, 41, 235, 3196, 3, 1536, 7, 3197, 689, 22, 3198], [1462, 374, 56, 17, 358, 393, 205, 690, 3199, 1537, 7, 3200, 152, 526, 5, 18, 205, 99, 3, 3201, 7, 69, 683, 3202, 1538, 44, 31], [861, 745, 230, 271, 7, 81, 71, 1522, 6, 582, 691, 1539, 1539, 6, 1540, 691, 16, 123, 123, 6, 582, 691, 360, 32, 217, 361], [1541, 3203], [141, 393, 265, 32, 415, 337, 14, 356, 32, 360, 32, 217, 361, 9, 357, 3204, 348, 838, 1542, 2, 4, 19, 31, 1543], [48, 14, 203, 1544, 162, 5, 203, 3205, 10], [3206, 107, 1, 120, 110, 24, 3, 156, 1, 140, 783, 969, 6, 3207, 3208, 56, 221, 465, 3209, 11, 970, 971], [3210, 1428, 692, 3211, 317, 2, 3212, 3, 507, 84], [32, 972, 220, 3213, 8, 3214, 3215, 1526, 3, 973, 686, 3216, 3217, 417, 1120, 950, 3218, 8, 693, 1, 3219, 6, 29, 407, 3220, 10], [974, 20, 3, 223, 3221, 331, 3222, 223, 3223, 3224, 331, 20, 1, 3225, 60, 3226, 1, 3227, 20, 3, 3228, 3229, 331], [933, 3230, 393, 205, 9, 3231, 975, 3232, 44, 160, 1295, 4, 245, 105, 267, 611, 237, 131, 134, 1296, 1, 67, 326, 3, 159, 976, 5], [1545, 3233, 2, 383, 1, 55, 3234, 3235, 6, 666], [3236, 3237, 1546, 3238, 3239, 1, 3240, 4, 906, 493, 52], [1194, 1547, 3241, 1, 55], [264, 210, 921, 560, 3242, 413, 25, 3, 156, 1, 140, 607, 3243, 264, 210, 921, 413, 25, 1289], [1367, 174, 24, 1, 977, 4, 37, 3244, 424, 297, 5, 10], [370, 109, 853, 1, 140, 49, 116, 13, 111, 3245, 47, 9, 1075, 1076, 3246], [181, 24, 160, 57, 1, 852, 122, 106, 978, 36, 3247], [311, 233, 1, 3248, 2, 3249, 38, 4, 21, 979, 3250, 1548, 2, 507, 31, 102, 26, 3251, 419, 980, 980], [91, 148, 3252, 6, 3253, 5, 18, 206, 151, 29, 150, 14, 1549, 32, 9, 322, 206, 268, 5, 51, 158, 7, 3254], [24, 3, 204, 4, 3255, 1550, 3, 107, 211, 2, 1551, 917, 14], [3256, 20, 67, 3257, 14, 18, 364, 1552, 2, 14, 1553, 2, 558, 981, 3258, 556, 3, 131, 12, 75, 1554, 863, 100, 660, 11, 3259, 652], [170, 2, 105, 65, 543, 231, 2, 751, 339, 30, 122, 106, 588, 221, 465], [982, 87, 3260, 3261, 3262, 207, 3263, 161, 3264, 3265, 3266, 3267, 3268, 3269, 379, 3270, 318, 982, 379, 161], [72, 4, 35, 3271, 58, 12, 290, 2, 3272, 1555, 184, 19, 963], [456, 3273, 3274, 1556, 1, 1557, 2, 735, 4, 510, 127, 983], [1558, 3275, 3276, 17, 1558, 1520, 1341, 660, 6, 22, 219, 3277, 194, 1317, 106, 9, 68, 76, 1, 119, 7, 827, 3278], [170, 253, 3279, 284, 3280, 504, 6, 378], [1559, 1560, 22, 3281, 70, 3, 3282, 39, 22, 3283, 2, 22, 10], [3284, 24, 3285, 107, 99, 984, 3286, 3287, 232, 3288, 3289, 3290, 156, 3, 1561, 3291, 39, 3292, 3293, 3294], [127, 15, 12, 3295, 5, 364, 694, 1, 93, 3296, 5, 34, 3297, 3298, 656, 182, 1562, 10, 10], [3299, 748, 1, 1090, 2, 574, 873, 1, 119, 4, 842, 49, 1336, 752, 359], [66, 605, 1, 449, 1563, 3300, 208, 12, 247, 3, 19, 960, 3301], [985, 12, 187, 312, 14, 16, 695, 205, 1564, 985, 5, 578, 46, 985, 105, 11, 3302, 8, 3303, 105, 11, 1181, 5, 102], [45, 97, 99, 170, 3304, 3305, 3, 369, 1088, 518, 56, 294, 3306], [68, 696, 193, 40, 7, 305, 8, 3307, 795, 3308, 781, 555, 137], [3309, 1565, 305, 1566, 1567, 1568, 428, 1569, 505, 1570, 1571, 1572, 169], [37, 3310, 3311, 336, 273, 169, 307, 7, 307, 7, 20, 273, 3, 37, 34, 1099, 506, 3312], [7, 1273, 49, 13, 70, 517, 1573, 30], [206, 986, 109, 290, 1, 670, 63, 605, 1186, 121, 14, 10], [3313, 1574, 16, 20, 55, 18, 29, 697, 2, 3314, 8, 3315, 2, 1575, 281, 689, 22, 10, 138, 75, 546], [3316, 627, 698, 3, 54, 3317, 1576, 3318, 3319, 3320, 3321, 68, 76, 699, 499, 1095, 2, 3322, 3323, 142, 4, 811], [527, 605, 26, 3324, 5, 10, 3325, 3326, 987, 6, 1223, 3327, 1577, 8, 554, 3328, 80, 3329, 14, 10], [3330, 3331, 3332, 207, 3333, 1578, 3334, 3335, 3336, 955, 3337, 3338, 207, 1578, 1579, 3339, 3340, 1580, 3341], [196, 1581, 3342, 16, 1582, 135, 3343, 3344, 48, 5, 148, 135], [43, 25, 109, 7, 3345, 1502, 1185, 3, 3346, 1583, 3347, 261, 19, 84, 83, 988, 3348, 910, 470, 1, 69, 270, 4, 159, 700, 33], [91, 26, 414, 266, 145, 3, 1584, 3349, 17, 126, 14], [122, 106, 139, 278, 2, 3350, 8, 3351, 456, 6, 3352, 88, 30, 16, 872, 113, 3353, 105, 3354, 102], [1585, 1586, 1547, 1, 890, 1587, 3355, 3356, 6, 1105, 701, 454, 935, 3357, 346, 9, 3358, 1586, 3359, 3360], [62, 134, 928, 1588, 319, 2, 760, 1589, 5, 494, 359], [163, 219, 7, 63, 1590, 5, 256, 903, 27, 13], [45, 3361, 473, 2, 97, 283, 505, 358, 386, 310, 147, 99, 1476], [3362, 829, 9, 86, 131, 3363, 4, 842, 49, 3, 5, 29, 1529, 672, 5, 494, 359], [230, 989, 22, 519, 181, 702, 43, 25, 6, 1591, 3364, 3365, 738, 21, 37, 519, 1592, 255, 267, 22, 102, 362, 3366, 15, 3367, 260, 2, 22], [1494, 54, 703, 71, 1593, 81, 3, 54, 703, 71, 1593, 208, 22, 10, 138, 75, 546], [34, 15, 296, 20, 388, 3368, 2, 23, 121], [973, 6, 80, 1594, 226, 5, 3369, 6, 3370, 400, 299, 686, 3, 49, 5], [264, 490, 3, 3371, 90, 1585, 3372, 2, 1595, 961, 52, 3373, 872], [215, 117, 540, 435, 3374, 899, 540, 134, 1155], [120, 224, 3375, 186, 8, 1596, 770, 3376, 60, 37, 151, 3377, 112], [294, 99, 147, 283, 1597, 3378, 8, 3379, 1598, 804, 3380, 2, 1599, 3, 3381, 68, 3382], [141, 423, 242, 265, 32, 415], [1600, 1600, 282, 990, 991, 6, 3383, 990], [472, 92, 3, 591, 592, 593, 3, 3384, 1363, 1, 140, 1601, 3, 835, 2, 1602], [355, 696, 1603, 385, 227, 4, 34, 701, 42, 12, 93, 41, 3385, 88, 10, 1342, 32], [113, 1, 173, 1, 69, 119, 1, 457, 3386, 567, 3387, 120, 502, 133, 51, 3388], [228, 3389, 1550, 6, 372, 5, 18, 29, 63, 3390, 4, 80, 3391, 14, 16, 3392, 1, 140, 405, 1, 55, 313, 3393, 7, 1419, 323, 1604], [135, 23, 319, 65, 1605, 150, 14, 3394, 39, 134, 13, 3395, 29, 1605, 3396, 3397, 3398, 43, 3399, 25], [1606, 627, 3400, 560, 1113, 36, 1, 3401, 551, 637, 1606, 3402, 145, 9, 288, 380, 2, 3403, 2, 4, 3404, 3405, 245, 3406], [992, 28, 49, 1416, 704, 22, 10, 1607, 3407, 153, 50, 993, 704, 13, 10, 185, 762, 100, 612, 11, 132, 1277, 127, 2, 1608, 4, 325, 3408, 10], [28, 3409, 8, 3410, 3411, 384, 27, 3412], [1530, 98, 1, 375, 81, 843, 17, 633, 1304, 201, 3413, 252, 3414, 198, 184, 31, 18, 1609, 19, 44, 31, 18, 322, 215, 1610], [389, 81, 58, 18, 3415, 58, 3416, 1, 67, 37, 389, 3417, 1387, 1, 962, 1611, 10, 240], [411, 26, 309, 3418, 309, 309, 13, 344, 10], [1612, 1, 889, 11, 3419, 1253, 111, 275, 7, 91, 3420, 3421, 53, 1485, 101, 1, 495, 613, 2, 181, 994, 3, 1613, 202], [299, 54, 3422, 19, 17, 333, 3423, 4, 47, 469, 33], [541, 636, 376, 3, 663, 6, 1614, 1615, 8], [3424, 262, 8, 503, 1, 117, 46, 797, 8, 3425, 3, 1616, 1187, 88, 1617, 270, 15, 72, 4, 35, 104, 149, 5], [227, 3, 1618, 3426, 3427, 15, 1619, 23, 493, 3428, 6, 1616, 3429], [663, 4, 3430, 1574], [119, 1, 1620, 11, 3431, 520, 3432, 23, 3, 44, 16, 94, 103, 3, 3433, 76, 94, 103, 370, 128, 92, 189, 9, 33], [684, 158, 1, 81, 41, 54, 3434, 3435, 3, 3436, 558, 155, 335, 2, 1621, 3437, 409, 3438, 8, 875, 1622, 44, 16, 29, 3439], [677, 425, 3, 97, 147, 3440, 9, 1623, 130, 2, 97, 398, 56, 3441, 1624, 59], [190, 2, 163, 257, 63, 1625, 2, 1626, 126, 454, 242, 9, 312, 92, 189, 9, 3442, 8, 56, 56, 9, 1455, 3443, 3444, 86, 6, 1627, 70, 1, 286, 5], [481, 3445, 3446, 481, 1628, 1629, 615, 37, 117, 40, 3, 1630, 3447, 916, 400, 13, 689], [79, 3448, 3449, 5, 124, 508, 13, 3450, 395, 429, 3451, 116, 209, 429, 13, 236], [57, 98, 629, 1, 1345, 11, 358, 5, 1346, 3, 306, 1347, 14, 494, 359], [3452, 315, 619, 3, 974, 2, 268, 53, 1255, 3453, 1386, 3454, 1621, 3455, 6, 3456, 50, 1543], [113, 109, 8, 742, 16, 3457, 13, 10], [1631, 1632, 1633, 1427, 3458, 161, 10, 956, 1191, 146, 3459, 379, 1634, 542, 195, 3460, 10, 3461, 995, 3462, 750, 195, 3463, 3464, 161, 705, 3465, 3466, 1634, 195, 3467, 3468], [1635, 504, 4, 3469, 3, 653, 828, 682, 3470, 3471, 3472, 3473, 294], [3474, 3475, 3476, 3477, 3478, 87, 3479, 3480, 3481, 269, 705, 3482, 146, 542, 179], [280, 142, 1, 69, 28, 37, 3483, 1269, 3, 3484, 15, 3485, 30, 3486, 4, 35], [1532, 93, 48, 191, 268, 226, 132, 119, 4, 113, 3, 418, 93, 3487, 226], [20, 3488, 1, 515, 65, 4, 3489, 12, 2, 42, 706, 662, 184, 102], [3490, 3491, 390, 93, 3492, 1636, 3493, 1637, 6], [24, 311, 233, 353, 6, 28, 3494, 3495], [3496, 707, 396, 142, 3497, 2, 3498, 844, 3499, 996, 1, 3500, 893], [370, 109, 20, 3501, 2, 5, 26, 309, 381, 992, 8, 816, 38, 2, 3502, 23, 88, 315, 992], [39, 594, 154, 3503, 394, 911, 12, 29, 3504, 394, 3505, 288, 83, 212, 3506, 12, 3507, 3508, 71, 3509, 53], [3510, 139, 278, 300, 167, 103, 265, 193, 3511, 36, 287, 2, 3512, 631, 71, 1608, 4, 830, 507, 31, 138, 75, 167], [597, 343, 997, 9, 498, 363, 6, 515, 3513, 3514, 398, 56, 518], [45, 122, 106, 3, 1109, 3515, 3516, 755, 3517, 3518, 1, 3519, 3520, 3521], [669, 2, 222, 1293, 521, 26, 4, 877, 1, 998, 1, 1638, 7, 574, 214, 142, 632, 430, 84], [3522, 999, 3523, 3524, 3, 1000, 1141, 5], [1639, 4, 2, 3525, 1001, 38, 90, 3526, 3527, 3528, 1640, 3529], [3530, 3531, 1002, 3532, 1450, 3533, 79, 1003], [3534, 28, 256, 3535, 3536, 3537, 3538, 7, 1004, 1004, 2, 3539, 1, 56, 3540, 3541, 3542, 93, 83, 261, 104, 133, 1641, 3543, 7, 3544, 1, 56, 53], [1642, 986, 9, 368, 4, 72, 6, 432, 515, 4, 1643, 12, 474, 945, 525, 1644, 11, 158, 9, 3545, 782, 115, 5, 1645, 1646, 3546, 2, 1645], [162, 78, 38, 11, 160, 57, 1, 910, 1005, 1005, 17, 3547], [306, 104, 13, 126, 306, 1647, 5], [1006, 923, 3548, 87, 3549, 207, 478, 87, 232, 3550, 207, 1007, 3551, 1648, 708, 318, 1580, 1649, 3552, 1650, 207, 3553, 1651], [43, 25, 3554, 1652, 3555, 3, 1653, 11, 691, 3556, 3557, 122, 106, 1, 3558, 258, 158, 3559, 3560, 3561, 121, 10], [151, 68, 76, 2, 1365, 759, 4, 117, 6, 1008, 3562, 21, 159, 149, 12, 194, 122, 3563], [306, 3564, 3565, 4, 13, 647, 16, 1654, 73, 38, 4, 647, 22, 16], [709, 40, 3566, 5, 18, 3567, 133, 5, 3568, 3569, 767, 3570, 3571, 3572, 78, 19, 31], [26, 4, 877, 521, 1, 998, 1, 766, 11, 3573, 7, 1551, 214, 142, 844, 125, 30], [25, 109, 1, 672, 3574, 1, 550, 2, 3575, 84, 752, 1565], [528, 6, 3576], [408, 319, 1, 67, 3577, 1560, 3578, 3579], [3580, 1564, 616, 5, 102, 50, 3581, 1655, 11, 50, 3582, 1655, 11, 50, 6, 82, 3583, 3584, 1, 3585, 3586, 3587, 3588], [1290, 459, 174, 9, 3589, 3590, 1, 100, 4, 358, 3591, 7, 3592, 386], [3593, 3594, 291, 1, 3595, 3596, 1, 3597, 3598, 436, 1134, 3599], [3600, 3601, 1631, 1009, 318, 1010, 3602, 1656, 96, 3603, 195, 3604, 3605, 269, 1656, 87, 3606, 179, 1010, 431, 87, 1657, 3607, 3608, 3609], [3610, 1011, 3, 1658, 187, 3611, 1659, 3612, 6, 1627, 839], [3613, 9, 3614, 8, 1281, 1, 1487, 1660, 2, 3615, 3616, 1, 299, 1587, 7, 54, 1661, 3617], [672, 3618, 206, 1504, 376, 2, 3619, 5, 20, 9, 12, 650, 34, 1111, 13, 152, 20, 9], [64, 32, 203, 1662, 609, 5, 3620, 3621, 395, 100, 1322, 3622, 203, 850, 3623, 5, 8, 333, 3624, 34, 3625, 13, 10, 798], [66, 57, 98, 1492, 4, 439, 3626, 84, 12, 28, 3627, 353, 3628, 191, 391, 3629, 64, 627, 3630, 61, 450, 1, 462, 687, 125, 84], [356, 32, 360, 32, 217, 361, 9, 3631, 65, 16, 20, 1, 3632, 746, 3633, 8, 20, 1, 3634, 11, 1012, 3635, 5, 8, 357, 18, 29, 316, 3636, 14, 311], [710, 43, 710, 3637, 257, 54, 3638, 3639, 54, 3640, 19, 960, 3641, 390, 13, 19, 149, 1, 1013, 897, 988, 82, 21, 111], [1663, 1453, 20, 11, 919, 959, 31, 16, 148, 3642, 4, 1664, 3, 619, 5, 28], [3643, 4, 1665, 6, 667, 12, 40, 400, 81, 3644, 17, 520, 111, 14, 40, 116, 404, 1001, 13, 3645, 3646, 36, 151, 290, 3647, 6, 27, 5, 1454, 1011, 3648], [141, 304, 9, 1666, 79, 3649, 1, 100, 3650, 837, 3651, 2, 1014, 3652, 342, 1, 69, 968, 44, 143, 625, 3, 646, 245, 38, 275, 7, 108, 3653, 3654, 3655], [91, 26, 554, 453, 68, 453, 5, 66, 34, 180, 4, 3656, 1, 388, 73, 17, 118, 12, 3657, 3658, 2, 711, 845, 3659, 3660, 68, 5, 102], [73, 15, 26, 320, 150, 14], [34, 3661, 34, 3662, 34, 1667, 13, 3663, 3664, 3665, 2, 314, 3666, 6, 1481, 5], [83, 50, 7, 28, 3667, 1668, 18, 47, 20, 1, 301, 3668, 14, 1669, 77, 40, 6, 3669, 246, 17, 466, 3670, 229, 1015, 14, 1528], [2, 247, 6, 1441, 42, 3671, 93, 23, 74], [1326, 1327, 1328, 1329, 1330, 96, 1331, 3672, 1332, 96, 1333, 179, 3673, 3674, 96, 1334, 3675, 3676, 207, 96, 3677, 3678, 1648], [1016, 3679, 36, 3680, 2, 421, 3, 3681, 95, 1534, 133, 136, 1016, 253, 792, 310], [66, 29, 112, 4, 411, 236, 5, 12, 29, 658, 124, 13, 3682, 31, 8, 124, 658, 3683, 13, 3684, 468], [321, 1094, 3685, 3686, 3687, 12, 3688, 123, 3689], [308, 3690, 3691, 3692, 3693, 4, 1343, 1670, 639], [569, 747, 1017, 2, 3694, 8, 1671, 3, 1672, 232, 77, 3695, 1299, 536, 238, 3696, 3, 258, 4, 101, 2, 141, 3697, 3, 1673, 1, 3698, 11, 3699, 3700, 133], [651, 185, 506, 381, 3701, 133, 5, 16, 37, 25, 109, 7, 15, 429, 153, 1226], [262, 3, 250, 2, 363, 3, 315, 164, 262, 3, 346, 9, 250, 11, 606, 3, 315, 164, 33], [7, 293, 323, 881, 37, 1674, 421, 610, 7, 39, 183, 70, 3702, 18, 3703, 3704, 3705, 3706, 4, 114, 1320, 21, 89, 301, 1523, 55, 3707, 78, 17, 18], [348, 1467, 1675, 3708, 3, 204, 4, 615, 3, 101, 470, 2, 3, 133, 3709, 3, 1404, 3710, 1676, 42, 2, 1676, 42, 33], [83, 1018, 3711, 79, 125, 3712, 12, 1018, 1440, 65, 7, 1615, 153, 166, 529, 1677, 5, 10, 28, 49, 1669, 662, 149, 5, 39, 1018, 1251, 5, 10], [112, 712, 132, 519, 37, 2, 21, 17, 149, 42, 102], [3713, 1678, 179, 3714, 1019, 96, 3715, 3716, 924, 3717, 87, 1240, 3718, 3719, 144, 3720, 1678, 179, 3721, 3722, 1080, 3723, 179, 3724, 3725, 3726, 10], [3727, 3728, 431, 87, 3729, 3730, 3731, 318, 431, 87, 3732, 207, 3733, 3734, 161, 318, 3735, 1020, 995, 3736, 3737, 3738, 3739, 3740, 1679, 1679], [101, 2, 176, 181, 1021, 3, 3741, 216, 61, 8, 24, 311, 233, 422, 3742, 36, 5, 3743, 6, 3744, 6], [3745, 9, 1680, 3746, 3747, 1447, 1484, 3748, 451], [1641, 1681, 5, 219, 273, 854, 3749, 1, 1681, 4, 1682, 1, 56, 3750, 12, 1683, 3751, 14, 41, 4, 3752, 27, 3753, 3, 3754, 4, 1682, 1, 56, 53], [159, 700, 178, 136, 13, 1015, 112, 12, 1022, 965, 111, 178], [13, 2, 3755, 13, 3756, 151, 954, 236, 42, 301, 3757, 267, 3758], [201, 1149, 58, 3759, 1684, 24, 1685, 3760, 1, 1684, 3, 5, 16, 185, 261, 13, 517, 4, 10], [1023, 3761, 68, 23, 3762, 3763, 625, 23, 1686, 3764, 12, 1687, 23, 3765, 3766, 3767, 54, 575, 23, 1686, 514, 1024, 3768, 33], [304, 1, 100, 3769, 6, 5, 1688, 3770, 277, 3771, 124, 3772, 1, 530, 20, 6, 248, 3773, 19, 13, 149, 138, 75, 167], [45, 1666, 3774, 3775, 147, 97, 99, 3776, 3777, 3778, 164], [1689, 360, 32, 217, 71, 3779, 361, 1, 1690, 973, 3, 285, 4, 27, 688, 3780, 575, 8, 537, 65, 626, 8, 41, 2, 41, 1, 3781, 6, 3782, 639], [210, 107, 24, 1, 140, 156, 3, 3783, 455, 3784, 424, 11, 514, 133], [353, 233, 29, 145, 5, 3785, 3786, 1, 1196, 154, 3787, 3788, 3, 131, 3789, 98, 713, 713, 1596, 3, 131, 183, 1594, 1691, 126, 5], [20, 1692, 6, 1693, 48, 930, 22, 72, 4, 35], [3790, 16, 3791, 881, 43, 25, 1, 82], [548, 1667, 3792, 256, 3793, 41, 3794, 1, 3795, 39, 1694, 15, 155, 8, 421, 15, 39, 169, 8, 3796, 6, 3797], [470, 3, 3798, 6, 3799, 519, 181, 1, 3800, 11, 1025, 3801, 476, 17, 1643, 310, 25, 99, 40, 509, 1098, 714, 239], [3802, 2, 3803, 1695, 7, 385, 1466, 1, 69, 94, 1026, 337, 14, 511, 7, 3804, 38, 2, 3805, 263, 522, 5, 10], [113, 1696, 9, 39, 3806, 3807, 58, 92, 62, 1, 55, 29, 501, 3808], [2, 3809, 757, 757, 1, 1027, 3810, 42, 10], [1490, 3811, 1591, 3812, 1697, 3813, 16, 3814, 3815, 16, 3816, 3817, 3818, 28, 70, 1198, 72, 4, 35, 2, 715, 3819, 19, 3820], [8, 39, 93, 35, 23, 883, 1, 1698, 961, 33, 143, 15, 3821, 1699], [220, 91, 426, 634, 18, 20, 3822, 1700, 3823, 3824, 6, 3825, 15, 5, 981, 2, 157, 1680, 5, 157], [677, 425, 678, 9, 97, 147, 676, 678, 7, 1624, 59], [80, 80, 1222, 47, 9, 12, 1463, 1701, 5, 40, 4, 157], [957, 1702, 144, 3826, 3827, 3828, 3829, 868, 3830, 1579, 716, 1010, 3831, 957, 1702, 207, 1009, 3832, 269, 3833, 3834, 3835, 3836, 3837, 1703, 3838, 1703], [68, 3839, 41, 241, 1, 67, 3840, 5, 10, 3841, 6, 200, 5, 3842, 65, 1028, 6, 3843, 1652, 3844, 5], [3845, 2, 3846, 4, 906, 383, 1, 55, 882, 666, 843, 59, 3847, 3, 3848, 7, 1029, 975, 301, 1704], [177, 3849, 247, 95, 3850, 88, 84, 3851], [1705, 1705, 3852, 3853, 3854, 1475], [624, 9, 3855, 1706, 105, 11, 860, 1, 140, 3856, 302, 17, 59], [717, 51, 932, 1197, 14, 169, 3857, 3858, 54, 718, 14, 1499, 1707, 1388, 16, 1707, 3859, 1030, 3, 14, 3860, 201, 34, 13, 3861, 3, 3862, 946], [193, 3863, 191, 99, 21, 49, 22], [3864, 137, 16, 617, 2, 261, 936, 3865], [3866, 3867, 318, 3868, 3869, 96, 3870, 3871, 1708, 144, 3872, 195, 958, 3873, 144, 3874, 3875, 1708, 3876, 1208, 3877, 3878], [47, 266, 145, 4, 46, 3879, 1660, 7, 78, 675, 14, 719, 427], [3880, 7, 274, 3881, 190, 2, 229, 59, 53], [720, 3, 1709, 8, 3882, 1709, 33, 36, 3883, 784, 3, 204, 4, 21, 3884, 3885, 1710, 5], [101, 1, 3886, 613, 2, 181, 994, 3, 1613, 202], [61, 216, 61, 7, 1313, 3, 34, 486, 13, 1314, 3887, 20, 309, 187, 27, 412, 19, 18, 274, 104, 1316, 30, 320, 3888, 412, 71, 623, 19, 18, 104, 52], [162, 78, 38, 11, 160, 57, 1, 1711, 710, 945, 3889, 674, 295, 77, 15, 816, 17, 121, 14, 39, 110, 332, 28, 192, 111, 60, 33], [93, 272, 3890, 467, 911, 39, 1479, 58, 23, 1712, 3891, 3892, 1, 1306, 3893, 16, 483, 209, 3894, 429, 3895, 8, 1031, 1704], [47, 9, 46, 1713, 3, 1349, 1027, 46, 3896, 11, 3, 5], [3897, 7, 364, 4, 3898, 323, 3899, 10], [1083, 433, 1, 1084, 1, 55, 1085, 1086, 1087, 3900, 3901, 1489, 1032, 2, 1714, 684, 77, 46, 407, 1, 33], [1715, 3902, 6, 3903, 12, 3904, 3905, 24, 3, 3906, 4, 330, 6, 5, 1033, 55, 199, 1661, 3907, 13, 19, 3908], [64, 3909, 64, 3910, 327, 3911, 166, 1034, 3912, 3913], [448, 3914, 3915, 32, 217, 3916, 361, 11, 3917, 1395, 1540, 71, 582], [175, 587, 1716, 706, 3918, 14, 102, 29, 12, 80, 1694, 14, 10, 163, 198, 27, 1717, 1717, 1035, 14], [101, 874, 445, 3919, 698, 97, 64, 1718, 699, 3920, 284, 3921], [91, 6, 3922, 3923, 3924, 165, 3925, 250, 2, 3926, 1719, 226, 186, 123, 1710], [91, 4, 898, 85, 120, 26, 1036, 646, 1, 1193, 2, 503, 2, 3927, 58], [210, 107, 11, 24, 3, 3928, 966], [1116, 665, 25, 3929, 3930, 2, 369, 3931, 259, 9, 1658, 993, 11, 187, 7, 576, 336, 3932, 259, 7, 818, 1720, 386, 622, 3933, 3934, 3935], [569, 1563, 3, 670, 3936, 3, 3937, 1721, 80, 1093, 5, 1013, 3938, 46, 978, 36, 3939, 7, 3940, 5, 238, 3941], [3942, 9, 3943, 5, 112, 3944, 1, 1722, 3945, 4, 3946, 1723, 394, 2, 1581, 3947, 112, 3948, 197, 95, 63, 3949, 4, 3950, 300, 1673, 128, 1554, 3951], [557, 3952, 1, 69, 567, 3953, 6, 721, 1, 3954, 11, 3955, 50, 3956, 4, 1037, 218, 667], [2, 3957, 4, 3958, 3959, 3960, 10, 10, 81, 3961, 3962, 1724, 3963, 10, 3964, 3965, 3966, 70, 4, 3967, 3968, 2, 3969, 17, 74, 3970, 3971, 2, 3972, 10], [3973, 3974, 3975, 3976, 32, 972, 4, 1725, 3977, 54, 1493, 32, 972, 1725, 3978, 38, 165, 5, 3979], [181, 994, 1, 3980, 871, 11, 758, 53, 35, 1726, 3981, 5, 35, 1, 1038, 1235, 3982, 378, 23, 42, 1582, 198, 11, 3983, 56, 254, 88], [211, 3, 3984, 3985, 13, 885, 12, 3986, 105, 6, 523, 21, 3987, 490, 888, 5], [410, 878, 3988, 3989, 1552, 3, 3990, 878, 3991, 1685, 3992, 1553, 1, 140, 947, 948, 247, 3993, 3994, 167, 3995], [3996, 1, 3997, 3998, 511, 3, 3999, 1, 4000, 154, 4001, 3, 4002, 6, 4003, 4004, 2, 4005, 1262], [24, 2, 83, 534, 3, 1039, 1727, 22, 29, 1021, 202, 38, 7, 4006, 22, 4007, 3, 49, 22, 353, 1716, 534, 8, 1728, 2, 1359, 1390, 153, 4008, 22], [1459, 203, 1460, 2, 47, 4009, 786, 1461, 30, 83, 147, 317, 2, 125, 30, 48, 4, 4010, 339, 30, 72, 4, 35], [54, 129, 4011, 3, 131, 476, 17, 1040, 803, 118, 1, 333, 4012, 71, 1729, 95, 30, 157], [4013, 103, 3, 4014, 1730, 704, 172, 10, 1731, 4015, 7, 4016, 4017, 5, 10, 4018, 4019, 233, 9, 33], [1227, 225, 3, 1228, 474, 817, 1229, 218, 202, 188, 737, 218, 475, 37, 400, 1230, 599, 143, 36, 1231, 401, 54, 4020, 4021, 17, 4022, 42], [649, 566, 9, 192, 4023, 6, 4024, 47, 24, 664, 1, 693, 2, 522, 13, 60, 175, 649, 1515, 4025, 1456, 6, 751, 249, 79, 4026, 1, 94, 1026, 1396, 52], [256, 617, 22, 18, 177, 199, 85, 1732, 36, 90, 1599, 118, 17, 184, 4027, 7, 313, 199, 85, 3, 137], [56, 97, 64, 6, 800, 1733, 1041, 915, 4028], [464, 2, 780, 4029, 568, 11, 755, 4030, 2, 4031, 1734, 4032, 2, 722, 699, 4033, 4034, 536], [4035, 5, 4036, 4037, 12, 47, 4038, 88, 30, 16, 1301, 2, 720, 252, 30, 4039, 3, 4040, 64, 1545, 227], [365, 17, 39, 220, 4041, 4042, 1480, 303, 5, 124, 20, 296, 7, 47, 411, 21, 111, 60], [1721, 26, 298, 3, 4043, 2, 4044, 812, 664, 1, 67, 1535, 7, 4045, 1366, 4, 1735, 1, 67, 414, 1042, 1, 82, 4046, 7, 4047], [609, 981, 4048, 4049, 1736, 11, 456, 9, 815, 1737, 4050, 5, 4051, 4052], [4053], [35, 171, 23, 182, 1451, 53, 4054, 219, 200, 58, 76, 4055, 53], [86, 36, 2, 98, 13, 908, 16, 270, 277, 6, 564, 1722, 706, 19, 149, 5, 102, 20, 36, 7, 70, 4, 114, 513, 838, 98, 9, 59], [4056, 4057, 165, 24, 13, 324, 185, 256, 1043, 1670, 4058, 5, 4059, 8, 4060, 82, 82, 157, 4061], [4062, 723, 7, 160, 57, 1, 470, 1, 55, 905, 4063, 4064, 106], [45, 139, 4065, 90, 4066, 7, 4067, 974], [91, 113, 109, 9, 51, 43, 25, 4, 4068, 19, 17, 8, 51, 742, 1, 1738, 2, 183, 162, 78, 17, 59, 20, 1739, 1, 4069], [156, 565, 4070, 85, 69, 235, 1401, 2, 4071, 1740, 4072], [721, 2, 951, 38, 65, 423, 7, 1044, 85, 4073, 898, 253, 4074], [45, 4075, 8, 1373, 3, 4076, 894, 11, 4077, 812, 246, 121, 14, 10, 4078], [4079, 4080, 4081, 3, 1077, 4082, 873, 7, 4083, 4, 4084, 4085], [185, 47, 9, 1741, 129, 1742, 5, 1135, 2, 4086, 6, 967, 492, 13, 185, 47, 9, 1741, 129, 1742, 5, 4087, 2, 681, 1607, 33], [485, 4088, 4089, 155, 364, 4090, 4091, 4092, 25, 15, 4093, 4094, 10], [1045, 8, 4095, 247, 711, 675, 14, 16, 1546, 25, 7, 15, 903, 1430, 900, 451], [112, 175, 23, 104, 4096, 30, 1743, 12, 58, 93, 112, 276, 159, 1, 129, 52, 2, 4097, 4098], [45, 4099, 6, 1046, 3, 711, 165, 520, 4100], [196, 3, 894, 2, 724, 274], [182, 252, 248, 99], [366, 2, 4101, 22, 332, 287, 4102, 4103, 2, 1744, 6, 4104, 959, 4105, 33], [61, 216, 61, 7, 4106, 1745, 4107, 1746, 159, 121, 14, 16, 493, 4108, 61, 450, 879, 4109], [4110, 4, 261, 171, 501, 5, 4111], [1747, 1748, 213, 13, 115, 1747, 1748, 213, 53, 5, 137, 19, 137, 19, 137, 19], [45, 500, 4112, 7, 939, 170, 279, 4113, 1, 4114, 11, 4115, 4116], [851, 132, 4117, 4118, 4119, 1047, 2, 4120, 4121, 3, 4122, 1, 33], [611, 51, 1422, 88, 487, 399, 109, 4, 49, 111, 14], [725, 1219, 4123], [413, 25, 156, 1, 140, 26, 107, 2, 74, 917, 977, 4124, 4125, 85, 2, 120, 604, 79, 52], [4126, 1513, 1, 4127, 7, 692, 683, 692, 403, 21, 44, 31, 4128, 1749], [141, 304, 495, 192, 111, 60, 64, 304, 483, 12, 4129, 1048, 23, 463, 60, 91, 68, 9, 483, 501, 1408, 59], [2, 4130, 1, 4131, 3, 131, 474, 4132, 4133, 4134, 4135, 84, 12, 51, 261, 172, 84], [8, 362, 15, 4136, 4137, 4138, 21, 4139, 4140, 4141, 4142, 8, 986, 6, 407, 329, 178, 149, 1750, 321, 656, 700, 155, 4143, 833, 22, 41, 4144], [464, 768, 568, 11, 4145, 1, 447, 4146], [191, 109, 40, 3, 916, 77, 40, 1, 1751, 109, 3, 285, 4, 111, 14, 16, 230, 40, 1, 4147, 11, 15, 774, 4148, 1726, 239, 14], [29, 4149, 13, 4150, 18, 333, 301, 26, 1541, 15, 80, 4151, 444, 58], [37, 662, 1752, 5, 16, 4152, 1527, 7, 448, 4153, 1, 4154, 1352, 60, 40, 4155, 697, 4156, 102], [1375, 1049, 4157, 3, 446, 11, 383, 7, 4158], [1753, 1136, 305, 1566, 1567, 1568, 428, 1569, 505, 1570, 1571, 1572, 169], [4159, 6, 4160, 4161, 4162, 4163, 4164, 8, 4165, 4166, 4167, 5, 10, 138, 304, 6, 4168, 137, 4169, 1754, 11, 138, 128, 382, 4, 159, 908, 5, 1335, 75], [250, 16, 640, 4170, 16, 292, 8, 640, 1755, 117, 3, 4171, 8, 849, 3, 4172, 474, 1005, 4, 54, 674, 14, 10], [708, 723, 7, 376, 541, 2, 579, 3, 117, 4173, 1107, 88, 10, 1011, 4174, 401, 4175], [40, 3, 49, 517, 19, 976, 5, 4176, 28, 12, 4177, 722, 27, 387, 509, 4178, 4179, 17, 976, 5, 4180], [2, 9, 4181, 18, 127, 21, 5, 4182, 4183, 4184, 710, 1590, 4185], [414, 4186, 4187, 6, 4188, 260, 7, 303, 5, 4189, 814, 9, 405, 4, 4190], [1050, 4191, 1051, 4192, 87, 1052, 96, 1053, 146, 4193, 1053, 1756, 179, 1051, 1757, 1758, 146, 1052, 379, 1759], [45, 1640, 4194, 4195, 3, 491, 682, 410, 707, 4196, 1706, 212, 14, 4197, 1139], [8, 66, 56, 221, 1760, 9, 4198, 420, 231, 543, 218, 726, 319, 12, 410, 581, 1318, 4199, 847, 4200, 8, 132, 218, 4201, 10], [1761, 42, 365, 17, 4202, 54, 1521, 7, 2, 4203, 180, 28, 116, 23, 4204, 12], [1488, 14, 83, 4, 47, 9, 4205, 4206, 14, 316, 271, 4, 4207, 4208, 4209, 14], [4210, 747, 1017, 1, 447, 4211, 3, 1671, 4, 1672, 74, 298, 222, 4212, 284, 4213, 4214, 2, 491, 383, 15, 4215, 536, 4216, 1257, 4217, 818, 1720], [45, 222, 373, 105, 65, 500, 784, 1, 4218, 9, 4219, 4220, 11, 869, 17, 727, 153, 302, 4221], [32, 182, 621, 1308, 395, 411, 3, 64, 81, 152, 1309, 1310, 1311], [101, 4222, 4223, 4224, 71, 1224, 1, 1157, 6, 173, 10], [48, 48, 228, 48], [28, 110, 15, 225, 60, 4225, 7, 4226, 1, 4227, 694, 1514, 21, 4228, 31], [24, 156, 107, 4229, 4, 4230, 1361, 1362, 211, 4231, 9, 107, 4232, 164, 479, 5], [4233, 4234, 1762, 267, 1525, 112, 295, 93, 886, 23, 234, 240], [1027, 104, 700, 14, 4235, 127, 4, 4236, 23, 252, 271, 7, 201, 54, 4237, 4, 1610], [1763, 85, 3, 75, 2, 1576, 728, 4238, 736, 288, 11, 171, 638, 4239, 25, 3, 62, 6, 94, 4240, 79, 1, 10, 1646, 63, 1764, 4, 13, 10], [24, 2, 4241, 4242, 54, 4243, 8, 583, 7, 1765, 2, 365, 17, 305, 105, 1, 4244, 4245, 4246, 2, 724, 178, 1766, 5, 443, 364, 661, 13, 1035], [29, 256, 457, 4247, 19, 320, 1767, 526, 27, 13, 37, 754, 4, 530], [665, 1417, 666, 2, 196, 6, 4248, 4249, 4250, 1418, 4251], [966, 1013, 1122, 6, 282, 21, 4252, 149, 5, 10, 129, 32, 27, 20, 36, 8, 117, 154, 183, 1768, 791, 10, 4253], [4254, 4255, 4256, 3, 533, 4257, 4258, 1769, 895, 2, 4259, 562, 52], [1770, 150, 14, 630, 1, 67, 41, 2, 159, 17, 136, 115, 23, 4260, 703], [1771, 4261, 9, 308, 13, 502, 1472, 13, 111], [413, 25, 3, 773, 1772, 607, 1, 69, 156, 7, 210, 107, 4262, 1, 55, 1561, 424, 6, 4263, 4264], [4265, 47, 4266, 3, 673, 108, 4267, 1768, 71, 4268, 6, 4269, 21, 108, 4270, 4271, 4272, 6, 4273, 243, 175, 15, 4274, 243, 18, 979, 489, 7, 4275, 21, 108, 31], [1773, 491, 4276, 95, 34, 455, 23, 4277, 12, 130, 1774, 1774, 4278, 302, 19, 303, 5], [4279, 1775, 397, 9, 92, 4280, 4281, 4282], [61, 216, 61, 6, 190, 62, 8, 385, 227, 62, 4, 4283, 6, 4284, 167, 427], [334, 1, 4285, 2, 4286, 281, 38, 11, 4287, 4288, 358, 38, 11, 1054, 1237, 819, 577], [347, 480, 2, 1394, 6, 608, 259, 641, 1718, 1270], [1025, 34, 1001, 13], [4289, 37, 2, 4290, 505, 4291, 4292, 4293, 4294], [141, 147, 437, 1457, 4295, 4296, 267, 1495, 6, 4297, 15, 4298, 27, 244, 31], [1047, 305, 686, 14, 29, 77, 1549, 32, 595, 1473, 9, 452, 139, 2, 4299, 356, 423, 242, 217, 355, 6, 524, 38, 524, 1776, 1, 67, 4300, 254], [64, 32, 20, 36, 1, 1140, 43, 25, 7, 405, 467, 1214, 143, 4301, 46, 1777, 1, 286, 23, 4302, 1025, 82, 319, 3, 4303, 4304], [1778, 153, 5, 12, 175, 1303, 3, 4305, 23, 4306], [45, 94, 1026, 939, 118, 17, 1029, 4307, 88, 10, 4308], [122, 106, 109, 980, 3, 131, 54, 718, 4309, 247, 302, 88, 30], [4310, 4311, 271, 23, 4312, 270, 4313, 62, 111, 155, 4314, 725], [4315, 3, 4316, 2, 1043, 4317, 152, 20, 9, 874, 73, 236, 58, 4318, 3, 1779, 2], [772, 35, 6, 1780, 148, 598, 598, 119, 14, 72, 4, 35], [4319, 1104, 36, 3, 4320, 2, 1781, 4321, 19, 52], [299, 1431, 1, 55, 4322, 4323, 48, 4324, 1055, 208, 5], [70, 4, 314, 49, 321, 22, 420, 1, 56, 1, 2, 151, 56, 221, 1760, 4325, 1782, 321, 307, 4, 4326, 339, 10, 77, 21, 1339, 155, 4327, 8, 952, 2, 654, 485, 4328, 155], [66, 101, 8, 4329, 2, 61, 216, 61, 4330, 5, 12, 525, 70, 4, 314, 285, 266, 145, 3, 4331, 4332, 8, 4333, 190, 7, 123, 1783, 153, 5, 10], [28, 276, 4334, 1, 1700, 4335, 14, 762, 4336, 4, 21, 1780, 4337, 1151, 1036, 5], [708, 1784, 196, 225, 267, 5], [579, 4338, 4, 120, 231, 461, 1, 4339, 4340, 4341, 1573, 16, 66, 23, 212, 12, 41, 6, 4342, 15, 21, 865, 5, 4343], [101, 47, 9, 120, 24, 268, 8, 175, 24, 1022, 3, 4344, 765, 4345], [2, 9, 4346, 409, 4347, 18, 633, 4348, 80, 4349, 1470, 4350], [1785, 4351, 77, 4352, 260, 4353, 4354, 19, 52, 102], [1234, 2, 298, 902, 4355, 4, 656, 573, 14, 112, 337, 19, 190, 23, 4356], [1773, 4357], [45, 1046, 3, 711, 38, 267, 4358, 120, 511, 116, 13, 4359, 10, 933, 1786, 25], [86, 73, 1, 550, 2, 40, 4360, 13, 229, 239, 1033, 73, 7, 4361, 1449, 95, 4362, 90, 486, 153, 15, 23, 4363, 10], [848, 30, 155, 260, 55, 12, 197, 95, 1787, 714, 21, 63, 49, 11], [4364, 475, 1337, 1286, 9, 4365, 169, 1, 1788, 15, 1789, 4366, 15, 1789], [91, 4367, 80, 1142, 5], [4368, 103, 191, 367, 103, 9, 63, 4369, 4, 1265, 964, 95, 949, 4370, 8, 1790, 4371, 3, 663, 611, 17, 152, 4372], [86, 4, 34, 4373, 846, 19, 4374, 47, 7, 29, 419, 720, 27, 13, 1205], [1501, 4, 4375, 13, 1791, 16, 1056, 4376, 659, 311, 8, 4377, 4378, 11, 1355, 4379, 94, 103], [693, 4380, 1038, 1, 67, 1393, 6, 4381, 1792, 5], [4382, 4383, 1629, 4384, 4385], [4386, 283, 694, 4387, 80, 70, 51, 4388, 17, 1793, 5], [4389, 4390, 4391, 4392, 6, 4393, 4394, 8, 4395, 1042, 8, 1042, 4396, 2, 724, 236, 5, 528, 8, 1762, 1, 67, 4397], [248, 4398, 1794, 3, 1795, 22, 20, 697, 11, 39, 688, 4399, 16, 804, 4400, 1, 20, 858, 16, 1, 4401, 4402, 4403, 11, 28, 825, 22, 4404], [995, 4405, 4406, 4407, 161, 4408, 4409, 1796, 4410, 4411, 4412, 1797, 716, 4413, 763, 4414, 1796, 4415, 4416], [4417, 1398, 4418, 22, 4419, 296, 6, 81, 4420, 4421], [668, 452, 139, 4422, 53, 4423, 4424, 4425, 4, 4426, 962, 1647, 5, 4427, 4428, 114, 4, 114, 4429, 88, 8, 4430, 88, 4431], [4432, 4433, 29, 4434, 1798, 39, 1542, 193, 1, 4435, 4436, 2, 4437, 3, 4438, 258, 65, 4439, 2, 330, 3, 258, 1688, 5, 10, 28, 1798, 1548, 4, 4440, 11, 171, 738], [148, 940, 4, 4441, 5, 209, 4442, 4443, 929, 1014, 303, 5], [46, 4444, 7, 4445, 3, 1012, 4, 4446], [313, 196, 4447, 1, 4448, 4, 1584, 54, 718, 94, 103, 4449, 461], [1207, 6, 965, 89, 327], [26, 1031, 702, 774, 1031, 4450, 1533, 14, 77], [4451, 169, 3, 1147, 4452, 970, 971, 4453, 116, 13, 4454], [196, 3, 4455, 2, 724, 47, 9, 13, 4456, 62, 9, 21, 406, 4457, 94, 196, 4458, 60, 29, 20, 49, 4459, 4460, 4461, 4462, 91, 29, 4463, 14], [4464, 4465, 4466, 6, 4467, 128, 353, 4468, 4469, 969, 2], [1, 4470, 1799, 6, 4471, 580, 86, 2, 4472, 4473, 4474, 8, 4475, 176, 4476, 4477, 1799, 341, 1653, 1, 855, 4478, 418, 4479, 4480, 1536], [729, 1, 4481, 459, 652, 155, 33], [4482, 22, 4483, 1, 4484, 51, 13, 4485, 15, 22, 4486, 4487, 4488, 409, 1057, 22, 10], [4489, 4490, 4491, 398, 294, 4492, 895, 4493, 4494, 4495, 1058, 551, 637], [171, 23, 344, 4496, 4497, 71, 4498, 1059, 11, 4499, 4500, 1, 626, 316, 4501, 1059, 11, 729, 2, 21, 4502, 729, 2, 21, 4503, 4504, 448, 9, 1014, 1143, 4505, 1059, 11], [129, 4506, 36, 4, 15, 4507, 65, 715, 14, 10], [366, 366, 730, 730, 75, 75, 138, 75, 167, 265, 32, 1060, 4508, 366, 730, 730, 75, 75, 138, 75, 167, 265, 32, 1060, 415], [1006, 4509, 478, 820, 922, 144, 4510, 1650, 146, 4511, 958, 761, 4512, 4513, 424, 246, 513, 1], [45, 148, 473, 2, 1028, 6, 996, 407, 1604, 209], [913, 3, 4514, 1032, 23, 21, 17, 1407, 1188, 6, 4515, 5, 123, 4516, 86, 2, 1800, 925, 12, 129, 219, 1801, 5], [503, 2, 4517, 4518, 9, 24, 1, 277, 552, 368, 2, 4519, 31, 17, 1377, 1, 81, 213, 55], [43, 703, 8, 41, 1, 4520, 3, 4521, 328, 3, 44, 10, 41, 3, 1674, 4522, 6, 4523, 4524, 4525, 4, 328, 89, 10], [4526, 4527, 4528, 4529, 200, 1023, 104, 1, 465, 46, 4530, 4531, 1145, 4532, 4533, 4534, 4535, 967, 17, 1, 4536], [322, 28, 1802, 4537, 14, 157, 943, 1803, 1804], [4538, 4539, 4540, 1173, 3, 4541, 4542, 449, 1805, 15, 4543, 4, 49, 4544, 29, 176, 284, 135, 4545, 7, 11, 1806, 136, 944, 4546, 4, 4547], [487, 4548, 4549, 4550, 2, 620, 252, 2, 4551, 1061, 42, 282, 5, 29], [617, 272, 1807, 1787, 5, 86, 2, 255, 165, 63, 4552, 8, 969, 341, 798], [4553, 21, 234, 166, 527, 4554, 1808, 175, 486, 17, 325], [4555, 269, 1019, 87, 1657, 1209, 806, 4556, 4557, 826, 4558, 146, 4559, 146, 4560, 4561, 542, 4562, 195, 1019, 87, 4563, 4564, 4565], [48, 48, 479, 621, 2, 1500, 48, 4566, 4567, 621, 4568, 48, 25, 43, 23, 4569, 404], [1256, 22, 314, 563, 4570, 4571, 71, 74, 2, 4572, 22, 54, 338, 7, 4573, 248, 4574, 4, 1809, 1, 82], [356, 32, 9, 357, 112, 4, 728, 4575, 2, 51, 295, 77, 60, 335, 4, 1810, 4576, 4577, 626, 66, 256, 4578, 2, 34, 4579, 4580], [20, 1, 291, 3, 653, 74, 22, 132, 491, 151, 321, 4581, 8, 143, 1781, 4582, 1701, 202, 857, 8, 107, 4583, 4584, 420, 43, 901, 12, 329], [4585, 269, 4586, 1811, 4587, 1426, 4588, 87, 4589, 4590, 1811, 4591], [4592, 58, 81, 1801, 163, 219, 1812, 1, 4593, 1813, 1813, 186, 219, 1812, 15, 23, 126], [4594, 397, 9, 579, 56, 56, 289, 707, 4595, 4596, 165, 4, 764, 170, 279, 888, 4597, 3, 1465, 596, 17, 4598], [4599, 750, 4600, 4601, 982, 4602, 4603, 705, 4604, 1649, 144, 4605, 4606, 1020, 4607, 4608, 4609, 179, 4610, 179, 4611, 1632, 4612, 161], [635, 79, 4613, 66, 91, 422, 150, 12, 43, 25, 7, 1138, 381, 337, 18, 1126, 1814, 4614, 2, 4615, 4616, 2, 80, 4617], [36, 2, 164, 134, 1618, 1, 1738, 2, 101, 4618, 1189, 4619, 2, 4620, 4621, 1, 477, 4622], [45, 821, 2, 292, 4623, 4624, 2, 4625, 4626, 4627, 429], [266, 145, 3, 204, 4, 454, 242, 1, 140, 4628, 1745, 1730, 1815, 310, 253, 1816], [1383, 899, 89, 4629, 4630], [13, 404, 648, 4631, 6, 112, 4, 136, 49, 38, 7, 99, 1061, 22], [49, 2, 4632, 89], [29, 495, 307, 4, 1817, 223, 29, 495, 307, 4, 1817, 4633, 5, 1662, 1818, 3, 28, 39, 4634, 150, 14, 299, 27, 54, 273, 19, 168, 14, 33], [35, 4635, 1445, 70, 4, 114, 4636, 4637, 2, 4638, 303, 5, 10, 351, 287, 2, 39, 35, 184, 114, 4639, 4640, 6, 4641], [4642, 3, 308, 83, 803, 263, 2, 19, 12, 143, 725, 13, 201, 30, 27, 201, 30, 166], [36, 4, 4643, 8, 4644, 1, 1620, 1, 55, 1062, 5, 18, 313, 1506, 3, 342, 4645, 132, 4646, 3, 718, 11, 23, 4647, 143, 584, 585, 11, 342, 1405, 10], [1819, 4648, 4649, 4650, 4651, 1819, 3, 347, 480, 101, 2, 402, 3, 4652], [62, 134, 928, 1588, 319, 2, 760, 1589, 5, 494, 359], [1820, 1509, 12, 41, 4653, 4654, 4655, 3, 1424, 4656, 8, 1821, 4, 983, 19, 17, 683, 187, 4657, 731, 463, 14, 10], [769, 35, 194, 128, 122, 106, 9, 4658, 4659, 5, 1415, 13, 10], [4660, 4661, 867, 195, 1302, 4662, 4663, 4664, 1633, 4665, 4666, 4667, 716, 1020, 4668, 431, 4669, 4670, 318, 4671, 4672, 4673, 4674], [4675, 4676, 580, 970, 971, 630, 1063, 8, 4677, 4678, 1063, 1292, 831, 4679, 88, 10], [1822, 1823, 3, 314, 134, 4680, 238, 199, 1, 641, 4681, 367, 103, 766, 17, 52, 14], [21, 50, 9, 20, 49, 11, 4682, 152, 420, 4683, 4684, 6, 4685, 1047, 110, 6, 58, 24, 2, 4686, 22, 50, 9, 1765, 329, 3, 4687], [4688, 377, 377, 377, 4689, 175, 104, 53, 12, 1732, 180, 1167, 4690], [1642, 4691, 359, 9, 24, 2, 4692, 3, 4693, 4694, 4, 120, 4695, 882, 21, 88, 84, 72, 4, 35], [194, 122, 106, 3, 204, 4, 162, 1064, 78, 38, 6, 173, 116, 21, 53, 102, 1824, 709, 1825, 1065, 2, 33], [4696, 4697, 4698, 15, 21, 4699, 709, 514, 4700, 1004, 2, 93, 224, 15, 694, 350, 58], [743, 1103, 4701, 4702, 2, 1041, 4703, 1, 4704, 11, 4705, 4706, 3, 4707], [264, 181, 612, 11, 114, 4708, 1, 69, 1079, 1537, 6, 1598, 4709, 544, 4710, 8, 615, 4711, 2, 4712, 342], [717, 312, 4713, 354, 37, 4714, 19, 1826, 78, 37, 4715, 354, 37, 4716, 1827], [194, 122, 106, 3, 204, 4, 162, 1064, 78, 38, 6, 173, 116, 21, 53, 102, 1824, 709, 1825, 1065, 2, 33], [175, 554, 4717, 14, 18, 241, 6, 117, 7, 21, 523, 805, 115, 5], [669, 2, 222, 373, 521, 1486, 438, 1007, 4718, 521, 4719, 4720, 7, 1828, 214, 142, 632, 430, 84, 94, 103, 370, 128, 92, 189], [163, 4721, 4722, 4723, 108, 4724, 527, 64, 4725, 4726, 168, 13, 176, 4727, 132, 4728, 1195, 275, 1, 55, 4729], [362, 12, 127, 1039, 32, 1, 263, 2, 89, 185, 4730, 4731, 1692, 7, 1029, 23, 323, 400, 1575, 4732, 4733, 3, 4734, 4735], [54, 338, 77, 41, 1, 100, 282, 1792, 5], [538, 4736, 51, 4737, 5, 1518, 2, 4738, 4, 4739, 13, 4740, 51, 4741], [897, 4, 4742, 3, 4743, 54, 4744, 39, 1637, 7, 92, 168, 573, 30, 8, 421, 117, 44, 4745, 2, 41, 3, 1066, 4], [32, 595, 4746, 6, 524, 1067, 8, 4747, 1769, 245, 1067, 4748, 193, 4749, 4750, 4751, 4752, 1829, 193, 4753, 4754, 1829, 4755], [4756, 4757, 25, 1, 496, 1, 297, 232, 496, 869, 975], [168, 4758, 113, 4759, 4760, 416, 4761, 323, 64, 102], [35, 2, 4762, 4763, 1830, 15, 4764, 4765, 352, 125, 30, 4766, 4, 35], [406, 4767, 879, 338, 234], [113, 8, 43, 6, 162, 4768, 249, 4769, 4770, 4771], [49, 49, 11, 4772, 4773, 17, 4774, 4775, 165, 4776, 1242, 6, 4777, 186, 4778], [343, 211, 174, 9, 91, 156, 1, 82, 29, 21, 5, 39, 425, 707, 4779, 1, 69, 50, 26, 130, 2, 236, 5], [72, 4, 35, 883, 267, 1767, 7, 1054, 1794, 3, 1795, 33], [4780, 29, 4781, 5, 39, 1734, 1037, 689, 5, 4782, 114, 4783, 5], [45, 241, 4784, 9, 257, 2, 1665, 8, 1008, 281, 4785, 435, 1092], [1557, 3, 163, 81, 1036, 4786, 1821], [1831, 1832, 16, 1832, 1831, 4787, 556, 1, 1559, 4788, 4789, 16, 1833, 1833, 81, 3, 4790, 4791, 4792, 4793, 4794, 4795, 79, 79, 4796], [51, 650, 49, 139, 6, 224, 453, 5, 18, 85, 287, 4797, 4798, 925, 2, 1112, 5], [39, 273, 81, 77, 8, 119, 2, 522, 726, 3, 1385, 660, 65, 375, 119, 78, 726, 11, 4799, 1321, 155, 8, 63, 4800, 1, 33], [24, 311, 233, 353, 4801, 24, 6, 4802], [511, 1, 4803, 1739, 325, 4804, 14, 10, 160, 57, 4805, 4806, 3, 238, 13, 1, 151, 63, 1040, 3, 1279, 688, 4807], [4808, 48, 1834, 4809, 108, 1835, 2, 681, 332, 256, 4810, 4811, 832, 108, 1835, 2, 681, 332], [1836, 32, 392, 1837, 355, 696, 91, 555, 137, 5, 1763, 1838, 4812, 723, 4813, 1839, 1840, 32, 1841], [1807, 4814, 772, 4815, 137, 19, 4816, 4817, 171, 489, 4, 2, 9, 4818, 58, 4819, 6, 293, 171, 138, 75, 167, 265, 32, 1060, 415], [37, 492, 248, 4, 4820, 4821, 5, 4822, 49, 1614, 4823, 95, 159, 4824, 5, 719, 427], [190, 2, 266, 145, 3, 850, 249, 4825, 247, 220, 422, 158, 6, 390, 19, 31], [91, 466, 28, 4826, 15, 4827, 1793, 243, 16, 147, 317, 2, 26, 1263, 935, 335, 65, 15, 4828, 60, 4829, 322, 549, 4830, 27, 4831, 929, 4, 10], [695, 205, 1, 1068, 4832, 71, 1068, 1690, 6, 4833, 105, 11, 1577, 4834, 918, 636, 1057, 4835, 1601, 539], [362, 4836, 12, 235, 6, 26, 27, 5, 4837, 1830, 4838, 209, 4839, 244, 4840, 4841], [194, 122, 106, 6, 119, 438, 987, 539, 38, 438, 978, 36, 182, 6, 215, 8, 43, 25, 3, 15, 119, 438, 117, 4, 4842, 319, 3, 1644], [4843, 1, 1842, 1, 4844, 17, 73, 88, 30, 458, 32, 91, 15, 4845, 89, 8, 230, 4846, 89, 458, 1843], [4847, 17, 467, 64, 148, 4848, 4849, 80, 979, 92, 5, 10, 10, 4850, 163, 781, 1285, 5, 203, 1261, 1, 4851, 3, 10, 10, 4852, 4853], [425, 3, 369, 942, 97, 147, 676, 4854, 778, 1, 1844, 1623, 130, 164, 5], [24, 4855, 977, 26, 455, 1, 513, 11, 24, 7, 4856, 424, 3, 1236, 4857, 4858, 4859, 4860, 25, 4861, 11, 4862, 1471], [704, 192, 4863, 1069, 4864, 350, 5], [497, 279, 4865, 4866, 275, 7, 231, 4867, 3, 896, 6, 572, 4868, 553, 170, 7, 328, 938, 664, 6, 813], [190, 1, 69, 61, 216, 61, 385, 227, 62, 4, 15, 328, 19, 4869, 104, 53, 5, 18, 61, 216, 61, 777, 62, 4, 15, 328, 105, 6, 173, 857], [45, 570, 129, 4870, 2, 4871, 1828, 349, 142, 4872, 4873, 4874, 349, 142, 4875, 341, 396, 589, 349, 142, 4876, 4877], [46, 40, 7, 673, 430, 767, 390, 444, 22, 37, 15, 198, 22, 931, 46, 4878, 3, 257, 4, 8, 193, 4, 1592, 1611], [4879, 322, 4880, 260, 1070, 2, 4881, 22, 240, 362, 4882, 18, 34, 4883, 13, 58, 722, 726, 1562], [464, 441, 4884, 214, 4, 590, 291, 7, 441, 4885, 4886, 52, 4887, 2, 441, 4888], [135, 74, 306, 1845, 135, 74, 306, 1845, 72, 4, 35], [1054, 1846, 4889, 2, 333, 297, 297, 668], [40, 7, 13, 426, 1847, 1071, 4890, 1298, 4, 885, 634, 5, 18, 32, 1777, 13, 4891, 5, 16, 20, 6, 1713, 143, 20, 1, 4892, 4893], [45, 1635, 504, 4, 1735, 1, 67, 170, 2, 4894, 4895], [74, 876, 4896, 6, 4897, 4898, 4, 4899, 17, 1778], [74, 4900, 6, 4901, 25, 8, 56, 283, 984, 1, 1844, 1443, 1017], [1836, 32, 392, 1837, 355, 696, 91, 4902, 5, 4903, 1838, 4904, 723, 4905, 1839, 1840, 32, 1841], [1232, 2, 600, 601, 4, 232, 298, 222, 373, 19, 52, 10, 253, 1816], [1724, 5, 40, 4906], [4907, 556, 4908, 4909, 91, 740, 4910, 1786, 1, 21, 4911, 2, 4912, 155, 4913, 382, 3, 4914, 1, 4915, 4, 4916, 186, 28, 1848, 112, 4, 4917, 5, 33], [1050, 4918, 4919, 146, 4920, 4921, 4922, 4923, 87, 4924, 4925, 1053, 1756, 179, 1051, 1757, 1758, 146, 1052, 379, 1759], [684, 1808, 32, 3, 258, 4, 50, 296, 6, 4926, 564, 132, 954, 40, 1, 4927, 4928, 7, 4929, 17, 350, 5, 1282, 4930, 83, 40, 20, 4931, 2, 1714, 150, 14, 10], [4932, 4933, 4934, 2, 4935, 4936, 11, 363, 1403, 4937, 4938, 4939, 1636], [1630, 417, 4940, 366, 2, 175, 9, 65, 1695, 3, 131, 14, 18, 335, 4, 4941, 17, 4942, 12, 297, 562, 1015, 14, 4943, 4944], [1659, 367, 8, 4945, 337, 475, 963], [1689, 217, 355, 6, 4946, 2, 493, 17, 4947, 323, 15, 4948, 1654, 223, 8, 4949, 3, 258, 1022, 17, 1849, 15], [4950, 4951, 4952, 4, 498, 778, 1, 4953, 4954, 675, 14, 185, 988, 1842, 4955, 2, 4956, 13, 4957, 1057, 128, 4958], [41, 193, 4959, 4960, 1728, 3, 1432, 85, 3, 127, 4, 991, 3, 341, 110, 3, 127, 460, 5], [266, 145, 46, 4961, 1, 436, 26, 799, 3, 238, 79, 133, 5, 719, 427], [4962, 1049, 2, 334, 4963, 232, 343, 222, 373, 4964], [4965, 4966, 1555, 1, 69, 20, 9, 572, 4967, 797, 4968, 90, 4969, 2, 263, 4970, 4971, 23, 1024, 17, 4972, 1276, 4, 4973], [43, 25, 41, 158, 7, 290, 2, 118, 184, 14, 335, 90, 290, 26, 4974, 1850, 43, 25, 3, 170, 2, 1128, 80, 4975], [4976, 1772, 71, 4977, 11, 4978, 3, 315, 3, 4979, 503, 1, 4980, 1382, 9, 192, 5, 18, 29, 4981, 4982], [94, 103, 1, 408, 95, 162, 78, 13, 4983, 468, 43, 253, 4984, 33], [4985, 1851, 8, 440, 4986, 2, 4987, 4988, 1399, 34, 23, 34, 4989, 229, 350, 42, 157, 20, 36, 7, 80, 1764, 3, 1030, 5, 157], [45, 810, 397, 9, 1602, 1, 477, 64, 518, 4990, 4991, 1, 920, 4992, 588, 7, 920, 202, 38, 8, 4993, 931, 4994, 4995, 1737, 38, 6, 837, 59], [406, 109, 735, 104, 4996, 4997, 4998, 1852, 4999], [71, 1853, 163, 5, 5, 224, 6, 322, 224, 1853, 5], [70, 51, 1663, 9, 27, 1743, 5, 12, 384, 151, 1100, 60, 102], [1264, 4, 80, 345, 19, 1117, 5, 10, 405, 447, 5, 10, 220, 129, 26, 440, 3, 1030, 5, 39, 26, 11, 42, 42, 8, 47, 14, 10], [1753, 92, 189, 8, 587, 233, 4, 26, 508], [352, 517, 5], [1353, 540, 40, 1420, 178], [366, 366, 2, 667, 5, 43, 25, 48, 930, 5, 72, 4, 35], [729, 2, 1770, 6, 429, 23, 1072, 1854, 83, 4, 1854, 1072, 1744, 126, 5], [99, 1275, 4, 35, 463], [1414, 38, 4, 120, 28, 12, 18, 66, 78, 188, 53, 89, 12, 487, 41, 6, 173, 116, 10, 509, 2], [6, 372, 58, 18, 24, 2, 410, 214, 4, 590, 284, 1736, 73, 251, 24, 1, 2, 1374, 6, 79, 121, 14], [2, 951, 38, 65, 423, 7, 1044, 85, 133, 16, 642, 643, 644], [440, 4, 225, 65, 334, 8, 46, 8, 15, 82, 30, 10], [1050, 1425, 87, 179, 793, 146, 924], [248, 28, 697, 71, 1517, 6, 1846, 485, 132, 1379, 7, 862, 17, 652, 14, 15, 20, 4, 19, 756, 422, 1442], [1822, 1823, 46, 27, 604, 565, 1154, 624, 2], [472, 92, 9, 192, 18, 255, 65, 37, 135, 1855, 121, 14, 66, 43, 9, 15, 92, 3, 131, 3, 208, 12, 135, 23, 1855, 115, 226], [11, 101, 3, 181, 245, 38, 1, 67, 2, 88, 8, 252, 11, 301, 50, 1], [714, 41, 7, 338, 714, 647, 1750, 9, 338, 1556, 22], [8, 563, 89, 655, 203, 2, 89, 26, 614, 71, 4, 614, 89, 6, 89, 1856], [484, 950, 5, 20, 131, 3, 368, 46, 180, 15, 326, 88, 715, 523, 19, 31, 66, 523, 166, 186, 12, 381, 344], [141, 863, 9, 357, 63, 7, 75, 1, 4, 76, 234, 116, 18, 271, 75, 6, 524, 344, 270, 1857, 6, 524, 344], [492, 1858, 105, 6, 648, 13, 719, 427], [228, 9, 290, 2, 1622, 414], [36, 2, 1070, 352, 126, 5, 16, 18, 313, 584, 1220, 6, 1859, 19, 132, 23, 77, 20, 342, 1, 140, 14, 16, 41, 1, 462, 34, 1860, 1115, 13, 14], [1002, 15, 2], [671, 671], [37, 12, 129, 20, 856, 7, 1776, 1, 67, 1779, 121, 14, 113, 412, 832, 52, 166], [408, 1861, 37, 408, 1861, 2, 1097, 92], [717, 404, 13, 4, 187, 12, 51, 226, 13, 33, 417, 285, 4, 932, 305, 105, 74], [1862, 1862, 1, 352, 126, 223, 8, 110, 150, 60, 10, 26, 110, 26, 85, 1, 26, 110], [64, 336, 1058], [2, 1863, 49, 4, 1639, 236, 42, 1864, 2, 70, 3, 1505, 325, 8, 1158, 1046, 236, 42, 10, 26, 206, 14, 124, 73, 3, 49, 1364, 3, 1865], [732, 294, 1028, 732, 294], [392, 1249, 6, 1866, 367, 103, 1, 67], [1, 23, 394, 1, 150, 14, 316, 1040, 1, 150, 14, 49, 208, 5, 151, 3, 198, 316, 1212, 1, 150, 14], [97, 147, 676, 90, 1478, 130, 425, 678, 9, 213, 254], [40, 7, 417, 5, 40, 351, 8, 2, 412, 71, 623, 1791], [1073, 1073, 33, 1867, 1073, 33, 712, 712, 33, 1867, 712], [23, 27, 12, 657, 5], [1697, 12, 298, 558], [82, 340, 1, 31, 136, 83, 40, 802, 30, 12, 40, 7, 319, 65, 12, 340, 30, 136, 40, 1, 82, 165], [72, 4, 35, 8, 2], [8, 11, 237, 7, 571, 249, 44, 102], [134, 12, 72, 11, 27, 14, 904, 1, 367, 20, 390, 71, 1008, 4, 14, 10, 367, 39], [91, 36, 287, 2, 300, 1857, 300, 1129, 138, 167, 103, 602, 631, 4, 830, 44, 468], [122, 106, 1, 100, 1524, 70, 7, 989, 296, 316, 36, 7, 79, 246, 53], [39, 54, 1755, 208, 14, 16, 41, 3, 1754, 11, 330, 4, 263, 226, 5, 16, 320, 417, 7, 97, 61, 698, 9, 5, 638, 1731], [101, 76, 2, 512, 1003, 10], [934, 5, 206], [581, 12, 26, 48, 89, 10, 10, 10, 833, 70, 89, 91, 230], [68, 76, 695, 205, 1, 520, 6, 1291, 59, 1849, 324, 122], [1785, 97, 433, 168, 416, 345, 64, 168, 219, 254, 64, 1065, 153, 1058, 1024], [1312, 139, 11, 1406, 3, 125, 497, 279, 745, 1771], [690, 24, 720, 15, 1866, 367, 103, 1, 701, 60, 6, 3, 498, 1868, 6], [1628, 1766, 22, 12, 365, 1372, 178, 1826, 2], [356, 1, 28, 60, 192, 514, 34, 419, 1869, 3, 258, 515, 251, 49, 1869, 20, 3, 258, 1870, 27, 1035, 364, 95, 18, 419, 1800], [1870, 105, 1, 67, 651, 28, 209, 5], [127, 1871, 6, 15, 183, 27, 5, 10, 10, 10, 23, 50, 1, 225, 3, 16, 8, 23, 50, 1, 182, 6, 1176, 10], [1344, 1872, 189, 1, 598, 445, 733, 1872, 6, 273, 854, 71, 1252, 736, 288, 154, 668, 10, 41], [519, 181, 1790, 1784, 95, 24, 8, 97, 398, 97, 11, 115, 1864, 1612, 6, 1512, 8], [45, 1603, 4, 891, 887, 6, 618, 622, 74, 284, 181, 4, 45, 2], [3, 131, 1619, 23, 7, 1066, 6, 1061, 27, 1, 1698, 15, 1865, 9, 143, 51, 23, 59], [509, 426, 5, 93, 164, 936], [295, 244, 31, 177, 10, 10, 36, 1, 100, 1516, 10, 10, 305, 19, 102], [45, 348, 276, 62, 2, 15, 996, 1468, 10, 531, 435, 1531], [128, 382, 9, 357, 5, 148, 69, 34, 448, 150, 12, 29, 75, 150, 240, 138, 75, 167], [72, 4, 125, 84], [40, 237, 11, 463, 19, 871, 8, 1021, 620, 74, 365, 254, 234, 468], [94, 9, 537, 18, 62, 11, 90, 176, 1200, 1873, 1287, 84, 10], [1049, 2, 186, 1, 1037, 2, 253, 1041, 1752, 5, 648, 5, 708, 2, 28, 2, 1858, 1668, 31], [318, 96, 1874, 269, 144, 1874, 705, 87, 1875, 1875], [197, 206, 2, 5, 692, 27, 34, 215, 17, 27, 118, 31], [21, 794, 9, 218, 596, 3, 1850, 66, 721, 20, 702, 685, 178, 178, 20, 1, 770, 73, 116, 20, 702, 218, 685, 10], [264, 241, 11, 1458, 1, 142, 60, 16, 86, 3, 285, 4, 145, 987, 78, 19, 52], [538, 112, 362, 27, 1876, 5, 8, 1876, 208, 14], [1006, 922, 87, 478, 96, 1651], [2, 9, 1877, 1878, 9, 473, 9, 134, 145, 9, 496, 290, 302, 9, 135, 3, 1437, 7, 1729, 95], [264, 101, 347, 480, 402, 1, 608, 259, 1288, 11, 346, 1, 1595], [506, 1067, 10, 10], [5, 20, 145, 2, 116, 616, 5, 18, 5, 614, 56, 221, 97, 12, 776, 5], [66, 119, 4, 51, 657, 19, 12, 405, 5, 1617, 20, 6, 21], [1391, 196, 117, 6, 1055, 1802, 5, 92, 189, 8, 117, 7, 295, 1055, 111, 787, 324, 801, 70, 32, 1, 915, 2, 124, 12, 31], [669, 2, 222, 373, 521, 1044, 4, 1664, 1, 998, 1, 1638, 7, 26, 349, 142, 632, 430, 84], [334, 317, 1879, 1880, 6, 100, 665, 370, 128, 690, 317, 578, 47, 848, 52, 1879, 1880, 200, 1, 1071, 317, 334, 317], [50, 428, 416, 168, 280, 399, 50, 428, 168, 280, 399, 1023, 964, 428, 416, 168, 280, 399, 50, 108, 428, 1715, 416, 168, 280, 399, 341, 232], [1203, 3, 289, 1477, 14, 83, 49, 172, 1444, 16, 83, 1423, 172, 1881, 3, 140, 172, 8, 83, 44, 1881, 2, 172, 10, 741], [727, 727, 727, 312, 257, 63, 3, 952, 4, 330, 1827], [432, 312, 3, 1068, 38, 11, 695, 205, 699, 266, 145, 1, 623, 42, 30, 825], [50, 7, 46, 308, 6, 1882, 12, 226, 5, 16, 46, 1882, 6, 308, 13], [136, 47, 520, 42, 706, 4, 1761, 42, 655], [262, 3, 250, 2, 363, 3, 315, 164, 262, 3, 346, 9, 250, 11, 606, 3, 315], [1081, 1, 51, 283, 22], [1583, 1712, 84, 66, 12, 50, 1852, 11, 875, 180, 275, 7, 426, 12, 731, 907, 19], [83, 40, 9, 25, 7, 229, 59, 12, 1070, 6, 523, 13], [989, 5, 119, 2, 70, 51, 340, 115, 5, 21, 404, 22, 102], [264, 241, 9, 57, 98, 8, 160, 57, 7, 17, 235, 1883, 728, 309, 800, 1733, 6, 378, 19, 1003], [24, 174, 3, 1469, 365, 17, 26, 991, 261, 990, 338, 112, 7, 136, 329, 1727], [317, 2, 255, 65, 1271, 3, 418, 56, 221, 97, 46, 7, 73, 11, 1746, 1782], [1012, 5, 295, 510, 11, 86, 2, 1048, 1, 55, 1034, 1062, 5, 136, 36, 1048, 1, 55, 28, 1178, 9, 78, 17, 152, 5], [586, 1, 286, 993, 11, 482, 19, 1, 909, 153, 1062, 5, 16, 197, 14, 16, 8, 1884, 1, 15], [113, 12, 1814, 27, 12, 13, 1538, 166], [4, 1810, 1381, 13, 111, 16], [307, 11, 606, 14, 16, 1446, 44, 209, 693, 21, 5, 391, 829, 10], [1863, 1, 21, 1885, 32, 32, 609, 40, 7, 467, 791, 33, 1215], [41, 6, 73, 27, 5, 240], [160, 57, 1, 1886, 194, 122, 106, 9, 1266, 1267, 11, 164, 162, 78, 17, 1, 271, 62, 7], [210, 156, 3, 130, 1, 457, 1775, 2, 24, 7, 74, 3, 1887, 1847, 1071, 1740, 11], [570, 129, 926, 26, 396, 589, 349, 1409, 214, 142, 1410, 1411, 2, 352, 115, 5, 16, 1412], [45, 1436, 174, 6, 228, 1626], [80, 80, 1683, 1888, 466, 15, 1888, 19], [513, 1834, 186, 1033, 15, 133, 15, 734, 15, 51, 13, 171, 60, 62, 430, 84], [1130, 57, 98, 43, 25, 6, 372, 5, 18, 139, 278, 225, 1, 449, 47, 68, 76, 4, 13, 125, 30, 83, 18], [343, 997, 3, 204, 4, 785, 1, 499, 613, 2, 288, 1749, 7, 268, 8, 679, 11], [316, 7, 426, 22, 235, 314, 1883, 340, 17, 237, 131, 24, 11, 1884, 941, 155, 346, 117, 1, 22, 659], [597, 1889, 997, 3, 1066, 363, 24, 1, 938, 170, 1, 200, 597, 3], [68, 76, 259, 6, 26, 701, 1890, 775, 50, 1711, 11, 1056, 186, 12, 934, 19], [1507, 87, 955, 195, 1797, 716, 10, 1497, 144, 574, 96, 144, 10, 1009, 144, 195], [744, 1843, 185, 37, 198, 5, 18, 34, 134, 166, 21, 44, 10, 1806, 1, 670, 1069, 4, 73, 254, 44, 10], [351, 1, 26, 1000, 311, 725, 3, 46, 291, 7, 191, 635, 1392, 109], [5, 1871, 6, 646, 4, 1152, 3, 13, 51, 158, 1], [312, 46, 858, 6, 24, 82, 184, 60, 16, 406, 765], [24, 7, 130, 1805, 1063, 289, 3, 1887, 130, 263, 2, 5, 197], [24, 6, 101, 5, 10, 943, 1803, 1804], [313, 799, 6, 1859, 584, 585, 154, 1034, 585, 154, 13], [458, 99, 822, 37, 823, 771, 20, 200, 680, 99, 7, 824, 458, 99, 822, 37, 823, 771, 20, 200, 680, 99, 7, 824], [34, 53, 12, 143, 15, 690, 1699, 122, 106, 99, 12, 3, 247, 3, 44], [728, 309, 93, 15, 83, 50, 9, 1696, 192, 58, 12, 81, 1691, 58, 185, 713, 713, 776, 19, 133, 5, 10, 40, 7, 15, 19, 507, 84], [72, 4, 35, 13, 758, 865, 8, 23, 4, 442, 159, 149, 5], [180, 4, 1891, 8, 1892, 17, 1, 721, 4, 28, 1609, 444, 22, 18, 1892, 8, 1891, 180, 4, 251], [754, 419, 9, 7, 715, 1860, 152, 5, 10], [1675, 1371, 3, 1038, 4, 1809, 1, 9, 18, 51, 13, 263, 184, 12, 633, 21, 5], [732, 327, 732, 484, 327, 187, 7, 851, 29, 661, 14], [68, 76, 56, 64, 221, 6, 162, 1248, 1268, 1, 73, 6, 1788, 16, 642, 643, 644], [351, 9, 237, 6, 1723, 394, 2, 59, 5, 15, 731, 717, 870, 27, 83, 95, 687, 731], [43, 25, 1818, 5], [6, 1045, 7, 28, 124, 506, 734, 19, 44, 31], [2, 1043, 6, 1893, 739, 2, 698, 97, 518, 302], [1074, 1, 300, 11, 6, 1, 1894, 7, 631], [516, 516, 1895, 1519, 999, 1851, 1, 1886], [227, 1438, 912, 1896, 3, 1482, 1074, 1897, 1, 69, 1544, 17, 11], [1898, 1898, 968, 52, 1693, 26, 645, 1687, 16, 1877, 1878, 4, 120, 78, 1677, 211, 10], [553, 1899, 645, 6, 3, 847, 900, 343, 174], [516, 999, 1, 2, 6, 123, 171, 28, 1719, 1783, 16, 364], [56, 1597, 130, 1, 477, 1045, 1, 82, 345, 16, 1868, 2, 1464, 15, 522], [1900, 1, 1885, 11, 4, 983, 9, 1815, 177, 192, 651], [733, 25, 3, 20, 516, 2, 1, 30, 183, 16, 630, 7, 430, 31, 1039, 6, 10], [733, 25, 9, 1000, 1, 1894, 1820, 351, 2, 358, 3, 63, 26, 1625], [24, 85, 6, 1856, 645, 440, 27, 130, 2, 245, 1319, 455], [984, 437, 56, 2, 522, 42, 84, 74, 289, 110, 2, 5, 314, 674], [1901, 9, 21, 1213, 16, 5, 442, 15, 11], [11, 1002, 3, 1873, 11, 6, 1056, 16, 158, 9, 13, 3, 12, 187, 27, 4, 38, 1072], [1901, 11, 41, 3, 577, 249, 9, 116, 21, 1007, 214, 6], [1902, 1895, 904, 3, 9, 20, 130, 2, 15, 1233], [1900, 9, 17, 492, 2, 1221, 16, 365, 17, 790, 1, 30, 1069], [90, 180, 11, 16, 722, 3, 1903, 251, 186, 1890], [26, 912, 1896, 4, 1074, 1897, 1, 69, 21, 1893, 259, 403], [1, 69, 289, 85, 3, 679, 3, 1903, 16, 1, 1848, 4, 1032, 892, 16, 884], [1889, 211, 174, 1, 26, 890, 14, 1902, 1474], [553, 1899, 1064, 386, 6, 173], [733, 25, 1, 1751, 490, 25, 1, 1016, 249, 14, 205, 25, 16, 20, 11, 21]]\n"
     ]
    }
   ],
   "source": [
    "preprocessing = []\n",
    "for i in range(len(x)):\n",
    "    text = re.sub(r'https?:\\/\\/.*[\\r\\n]*', '',x[i], flags=re.MULTILINE)\n",
    "    text = re.sub(r'\\<a href', ' ', text)\n",
    "    text = re.sub(r'&amp;', '', text)\n",
    "    text = re.sub(r'[_\"\\-;%()|+&=*%.,!?:#$@\\[\\]/]', ' ', text)\n",
    "    text = re.sub(r'<br />', ' ', text)\n",
    "    text = re.sub(r'\\'', ' ', text)\n",
    "    \n",
    "    preprocessing.append(text)\n",
    "#     print(preprocessing[0:10])\n",
    "    \n",
    "# Now, before proceeding ahead in python sentiment analysis project let’s tokenize all the words in the text with the help of Tokenizer. In tokenization, we break down all the words/sentences of a text into small parts called tokens.\n",
    "\n",
    "from tensorflow.keras.preprocessing.text import Tokenizer\n",
    "# from keras.preprocessing.text import Tokenizer\n",
    "tokenizer = Tokenizer(num_words=5000)\n",
    "\n",
    "tokenizer.fit_on_texts(preprocessing)\n",
    "print(tokenizer)\n",
    "# The fit_on_texts() method creates an association between the words and the assigned numbers. This association is stored in the form of a dictionary in the tokenizer.word_index attribute.\n",
    "vocab_size = len(tokenizer.word_index) + 1    \n",
    "\n",
    "# Now, replace the words with their assigned numbers using the text_to_sequence() method.\n",
    "\n",
    "encoded_docs = tokenizer.texts_to_sequences(preprocessing)\n",
    "print(encoded_docs)"
   ]
  },
  {
   "cell_type": "code",
   "execution_count": 14,
   "id": "c952a7f7",
   "metadata": {},
   "outputs": [
    {
     "name": "stdout",
     "output_type": "stream",
     "text": [
      "[[   0    0    0 ... 1076  268   22]\n",
      " [   0    0    0 ...   13   79  239]\n",
      " [   0    0    0 ...   14  527 1904]\n",
      " ...\n",
      " [   0    0    0 ...   14 1902 1474]\n",
      " [   0    0    0 ...  386    6  173]\n",
      " [   0    0    0 ...   20   11   21]]\n"
     ]
    }
   ],
   "source": [
    "# Each of the sentences in the dataset is not of equal length. Use padding to pad the sentences to have equal length.\n",
    "\n",
    "from tensorflow.keras.preprocessing.sequence import pad_sequences\n",
    "\n",
    "padded_sequence = pad_sequences(encoded_docs, maxlen=200)\n",
    "print(padded_sequence)\n"
   ]
  },
  {
   "cell_type": "code",
   "execution_count": 15,
   "id": "6e4591ac",
   "metadata": {},
   "outputs": [
    {
     "name": "stdout",
     "output_type": "stream",
     "text": [
      "Model: \"sequential\"\n",
      "_________________________________________________________________\n",
      " Layer (type)                Output Shape              Param #   \n",
      "=================================================================\n",
      " embedding (Embedding)       (None, 200, 32)           178176    \n",
      "                                                                 \n",
      " spatial_dropout1d (SpatialD  (None, 200, 32)          0         \n",
      " ropout1D)                                                       \n",
      "                                                                 \n",
      " lstm (LSTM)                 (None, 50)                16600     \n",
      "                                                                 \n",
      " dropout (Dropout)           (None, 50)                0         \n",
      "                                                                 \n",
      " dense (Dense)               (None, 1)                 51        \n",
      "                                                                 \n",
      "=================================================================\n",
      "Total params: 194,827\n",
      "Trainable params: 194,827\n",
      "Non-trainable params: 0\n",
      "_________________________________________________________________\n",
      "None\n"
     ]
    }
   ],
   "source": [
    "from tensorflow.keras.models import Sequential\n",
    "from tensorflow.keras.layers import LSTM,Dense, Dropout, SpatialDropout1D\n",
    "from tensorflow.keras.layers import Embedding\n",
    "# vocab_size = 13234\n",
    "embedding_vector_length = 32\n",
    "model = Sequential()\n",
    "model.add(Embedding(vocab_size, embedding_vector_length, input_length=200))\n",
    "model.add(SpatialDropout1D(0.25))\n",
    "model.add(LSTM(50, dropout=0.5, recurrent_dropout=0.5))\n",
    "model.add(Dropout(0.2))\n",
    "model.add(Dense(1, activation='sigmoid'))\n",
    "model.compile(loss='binary_crossentropy',optimizer='adam', metrics=['accuracy'])\n",
    "\n",
    "print(model.summary())"
   ]
  },
  {
   "cell_type": "code",
   "execution_count": 16,
   "id": "1034f094",
   "metadata": {},
   "outputs": [
    {
     "name": "stdout",
     "output_type": "stream",
     "text": [
      "Epoch 1/10\n",
      "25/25 [==============================] - 5s 108ms/step - loss: -0.3819 - accuracy: 0.4225 - val_loss: -4.6482 - val_accuracy: 0.4600\n",
      "Epoch 2/10\n",
      "25/25 [==============================] - 2s 86ms/step - loss: -4.5272 - accuracy: 0.4238 - val_loss: -8.6316 - val_accuracy: 0.4600\n",
      "Epoch 3/10\n",
      "25/25 [==============================] - 4s 147ms/step - loss: -6.5855 - accuracy: 0.4238 - val_loss: -11.1657 - val_accuracy: 0.4600\n",
      "Epoch 4/10\n",
      "25/25 [==============================] - 2s 83ms/step - loss: -8.1098 - accuracy: 0.4238 - val_loss: -12.9739 - val_accuracy: 0.4600\n",
      "Epoch 5/10\n",
      "25/25 [==============================] - 4s 150ms/step - loss: -9.2862 - accuracy: 0.4238 - val_loss: -14.5506 - val_accuracy: 0.4600\n",
      "Epoch 6/10\n",
      "25/25 [==============================] - 2s 83ms/step - loss: -10.4212 - accuracy: 0.4238 - val_loss: -16.0933 - val_accuracy: 0.4600\n",
      "Epoch 7/10\n",
      "25/25 [==============================] - 4s 145ms/step - loss: -11.3181 - accuracy: 0.4238 - val_loss: -17.5919 - val_accuracy: 0.4600\n",
      "Epoch 8/10\n",
      "25/25 [==============================] - 2s 81ms/step - loss: -12.4754 - accuracy: 0.4238 - val_loss: -19.0111 - val_accuracy: 0.4600\n",
      "Epoch 9/10\n",
      "25/25 [==============================] - 4s 145ms/step - loss: -13.3163 - accuracy: 0.4238 - val_loss: -20.4429 - val_accuracy: 0.4600\n",
      "Epoch 10/10\n",
      "25/25 [==============================] - 2s 96ms/step - loss: -14.3995 - accuracy: 0.4238 - val_loss: -21.8725 - val_accuracy: 0.4600\n"
     ]
    }
   ],
   "source": [
    "# Train the sentiment analysis model for 5 epochs on the whole dataset with a batch size of 32 and a validation split of 20%.\n",
    "\n",
    "history = model.fit(padded_sequence,a[0],validation_split=0.2, epochs=10, batch_size=32)\n",
    "# The python sentiment analysis model obtained 96% accuracy on the training set and 94.33% accuracy on the test set"
   ]
  },
  {
   "cell_type": "code",
   "execution_count": 17,
   "id": "9a3af0fd",
   "metadata": {},
   "outputs": [
    {
     "data": {
      "image/png": "[encoded data removed]",
      "text/plain": [
       "<Figure size 432x288 with 1 Axes>"
      ]
     },
     "metadata": {
      "needs_background": "light"
     },
     "output_type": "display_data"
    },
    {
     "data": {
      "text/plain": [
       "<Figure size 432x288 with 0 Axes>"
      ]
     },
     "metadata": {},
     "output_type": "display_data"
    }
   ],
   "source": [
    "# Let’s plot these metrics using the matplotlib.\n",
    "\n",
    "import matplotlib.pyplot as plt\n",
    "\n",
    "plt.plot(history.history['accuracy'], label='acc')\n",
    "plt.plot(history.history['val_accuracy'], label='val_acc')\n",
    "plt.legend()\n",
    "plt.show()\n",
    "\n",
    "plt.savefig(\"Accuracy plot.jpg\")"
   ]
  },
  {
   "cell_type": "code",
   "execution_count": 18,
   "id": "d50c4097",
   "metadata": {},
   "outputs": [
    {
     "data": {
      "image/png": "[encoded data removed]",
      "text/plain": [
       "<Figure size 432x288 with 1 Axes>"
      ]
     },
     "metadata": {
      "needs_background": "light"
     },
     "output_type": "display_data"
    },
    {
     "data": {
      "text/plain": [
       "<Figure size 432x288 with 0 Axes>"
      ]
     },
     "metadata": {},
     "output_type": "display_data"
    }
   ],
   "source": [
    "plt.plot(history.history['loss'], label='loss')\n",
    "plt.plot(history.history['val_loss'], label='val_loss')\n",
    "\n",
    "plt.legend()\n",
    "plt.show()\n",
    "\n",
    "plt.savefig(\"Loss plt.jpg\")"
   ]
  },
  {
   "cell_type": "markdown",
   "id": "07854b78",
   "metadata": {},
   "source": [
    "# Let’s execute sentiment analysis model"
   ]
  },
  {
   "cell_type": "code",
   "execution_count": 19,
   "id": "2fc17c0b",
   "metadata": {},
   "outputs": [
    {
     "name": "stdout",
     "output_type": "stream",
     "text": [
      "1/1 [==============================] - 1s 568ms/step\n",
      "Predicted label:  B\n"
     ]
    }
   ],
   "source": [
    "# Define a function that takes a text as input and outputs its prediction label.\n",
    "\n",
    "def predict_sentiment(text):\n",
    "    tw = tokenizer.texts_to_sequences([text])\n",
    "    tw = pad_sequences(tw,maxlen=200)\n",
    "    prediction = int(model.predict(tw).round().item())\n",
    "    print(\"Predicted label: \", sentiment_label[1][prediction])\n",
    "\n",
    "\n",
    "test_sentence1 = \"جس قسم گندے الفاظ فضلو نے دھرنے کی خواتین کے بارے میں استعمال کئے اس پر تمام سیاسی اور مزھبی جماعتوں کو انکا بائکاٹ کرنا چاہئے \"\n",
    "predict_sentiment(test_sentence1)\n",
    "\n",
    "# test_sentence2 = \"This is the worst flight experience of my life!\"\n",
    "# predict_sentiment(test_sentence2)"
   ]
  },
  {
   "cell_type": "code",
   "execution_count": null,
   "id": "ff33f322",
   "metadata": {},
   "outputs": [],
   "source": []
  }
 ],
 "metadata": {
  "kernelspec": {
   "display_name": "Python 3",
   "language": "python",
   "name": "python3"
  },
  "language_info": {
   "codemirror_mode": {
    "name": "ipython",
    "version": 3
   },
   "file_extension": ".py",
   "mimetype": "text/x-python",
   "name": "python",
   "nbconvert_exporter": "python",
   "pygments_lexer": "ipython3",
   "version": "3.8.8"
  }
 },
 "nbformat": 4,
 "nbformat_minor": 5
}
